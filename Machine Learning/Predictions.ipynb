{
 "cells": [
  {
   "cell_type": "code",
   "execution_count": 34,
   "metadata": {},
   "outputs": [],
   "source": [
    "import pandas as pd\n",
    "import pickle\n",
    "import re\n",
    "\n",
    "from sklearn.feature_extraction.text import TfidfVectorizer\n",
    "from sklearn.svm import SVC\n",
    "from sklearn.neighbors import NearestNeighbors\n",
    "from sklearn.neural_network import MLPClassifier\n",
    "\n",
    "import matplotlib.pyplot as plt"
   ]
  },
  {
   "cell_type": "markdown",
   "metadata": {},
   "source": [
    "### Read data"
   ]
  },
  {
   "cell_type": "code",
   "execution_count": 2,
   "metadata": {},
   "outputs": [],
   "source": [
    "recs_1 = pd.read_csv(\"../data/recommendations/recommendations_strat_1_clean.csv\").drop(\"Unnamed: 0\", axis=1)\n",
    "recs_2 = pd.read_csv(\"../data/recommendations/recommendations_strat_2_clean.csv\").drop(\"Unnamed: 0\", axis=1)\n",
    "recs_3 = pd.read_csv(\"../data/recommendations/recommendations_strat_3_clean_temp.csv\").drop(\"Unnamed: 0\", axis=1)\n",
    "recs_4 = pd.read_csv(\"../data/recommendations/recommendations_strat_4_clean_temp.csv\").drop(\"Unnamed: 0\", axis=1).dropna()"
   ]
  },
  {
   "cell_type": "code",
   "execution_count": 3,
   "metadata": {},
   "outputs": [],
   "source": [
    "equal = pd.read_csv(\"../data/training_videos.csv\").drop(\"Unnamed: 0\", axis = 1)\n",
    "equal[\"full_text\"].fillna(\"\", inplace=True)"
   ]
  },
  {
   "cell_type": "markdown",
   "metadata": {},
   "source": [
    "### Vectorize "
   ]
  },
  {
   "cell_type": "code",
   "execution_count": 4,
   "metadata": {},
   "outputs": [],
   "source": [
    "# Vectorize words\n",
    "v = TfidfVectorizer(max_df=.75, min_df=2)\n",
    "x = v.fit_transform(equal['full_text'])"
   ]
  },
  {
   "cell_type": "code",
   "execution_count": 5,
   "metadata": {},
   "outputs": [],
   "source": [
    "X = x\n",
    "Y = equal['conspiracy'].values.ravel()"
   ]
  },
  {
   "cell_type": "markdown",
   "metadata": {},
   "source": [
    "### Train or load model"
   ]
  },
  {
   "cell_type": "code",
   "execution_count": 6,
   "metadata": {},
   "outputs": [],
   "source": [
    "try:\n",
    "    svm = pickle.load(open('SVM_trained.sav', 'rb'))\n",
    "except:\n",
    "    # Train\n",
    "    svm = SVC(C=10, kernel=\"rbf\", max_iter = 10000).fit(X, Y)\n",
    "\n",
    "    # save the model to disk\n",
    "    pickle.dump(svm, open('SVM_trained.sav', 'wb'))"
   ]
  },
  {
   "cell_type": "code",
   "execution_count": 18,
   "metadata": {},
   "outputs": [],
   "source": [
    "pickle.dump(mlp, open('MLP_trained.sav', 'wb'))"
   ]
  },
  {
   "cell_type": "markdown",
   "metadata": {},
   "source": [
    "### Transform recommendations to tf-idf"
   ]
  },
  {
   "cell_type": "code",
   "execution_count": 7,
   "metadata": {},
   "outputs": [],
   "source": [
    "recs_tfidf_1 = v.transform(recs_1[\"full_text\"].values)\n",
    "recs_tfidf_2 = v.transform(recs_2[\"full_text\"].values)\n",
    "recs_tfidf_3 = v.transform(recs_3[\"full_text\"].values)\n",
    "recs_tfidf_4 = v.transform(recs_4[\"full_text\"].values)"
   ]
  },
  {
   "cell_type": "markdown",
   "metadata": {},
   "source": [
    "### Predictions"
   ]
  },
  {
   "cell_type": "code",
   "execution_count": 8,
   "metadata": {},
   "outputs": [],
   "source": [
    "predictions_1 = svm.predict(recs_tfidf_1)\n",
    "predictions_2 = svm.predict(recs_tfidf_2)\n",
    "predictions_3 = svm.predict(recs_tfidf_3)\n",
    "predictions_4 = svm.predict(recs_tfidf_4)"
   ]
  },
  {
   "cell_type": "code",
   "execution_count": 9,
   "metadata": {},
   "outputs": [
    {
     "data": {
      "text/plain": [
       "(0.06619718309859154, 0.25069444444444444, 0.1, 0.09664948453608248)"
      ]
     },
     "execution_count": 9,
     "metadata": {},
     "output_type": "execute_result"
    }
   ],
   "source": [
    "predictions_1.mean(), predictions_2.mean(), predictions_3.mean(), predictions_4.mean()"
   ]
  },
  {
   "cell_type": "code",
   "execution_count": 136,
   "metadata": {},
   "outputs": [],
   "source": [
    "recs_1[\"conspiracy_pred\"] = predictions_1\n",
    "recs_2[\"conspiracy_pred\"] = predictions_2\n",
    "recs_3[\"conspiracy_pred\"] = predictions_3\n",
    "recs_4[\"conspiracy_pred\"] = predictions_4"
   ]
  },
  {
   "cell_type": "markdown",
   "metadata": {},
   "source": [
    "## Aggregates"
   ]
  },
  {
   "cell_type": "code",
   "execution_count": 137,
   "metadata": {},
   "outputs": [],
   "source": [
    "# Select useful columns\n",
    "recs_1_sel = recs_1[[\"vids_watched\", \"views\", \"likes\", \"dislikes\", \"duration\", \"conspiracy_pred\"]].copy()\n",
    "recs_2_sel = recs_2[[\"vids_watched\", \"views\", \"likes\", \"dislikes\", \"duration\", \"conspiracy_pred\"]].copy()\n",
    "recs_3_sel = recs_3[[\"vids_watched\", \"views\", \"likes\", \"dislikes\", \"duration\", \"conspiracy_pred\"]].copy()\n",
    "recs_4_sel = recs_4[[\"vids_watched\", \"views\", \"likes\", \"dislikes\", \"duration\", \"conspiracy_pred\"]].copy()"
   ]
  },
  {
   "cell_type": "code",
   "execution_count": 138,
   "metadata": {},
   "outputs": [],
   "source": [
    "def to_seconds(duration):\n",
    "    times = re.findall(\"\\d+\", duration)[::-1]\n",
    "    return sum([int(times[i]) * 60**i for i in range(len(times))])"
   ]
  },
  {
   "cell_type": "code",
   "execution_count": 139,
   "metadata": {},
   "outputs": [],
   "source": [
    "# Convert time to seconds\n",
    "recs_1_sel[\"duration\"] = recs_1_sel[\"duration\"].apply(lambda x: to_seconds(str(x)))\n",
    "recs_2_sel[\"duration\"] = recs_2_sel[\"duration\"].apply(lambda x: to_seconds(str(x)))\n",
    "recs_3_sel[\"duration\"] = recs_3_sel[\"duration\"].apply(lambda x: to_seconds(str(x)))\n",
    "recs_4_sel[\"duration\"] = recs_4_sel[\"duration\"].apply(lambda x: to_seconds(str(x)))"
   ]
  },
  {
   "cell_type": "code",
   "execution_count": 140,
   "metadata": {},
   "outputs": [],
   "source": [
    "# Group\n",
    "agg_1 = recs_1_sel.groupby(\"vids_watched\")\n",
    "agg_2 = recs_2_sel.groupby(\"vids_watched\")\n",
    "agg_3 = recs_3_sel.groupby(\"vids_watched\")\n",
    "agg_4 = recs_4_sel.groupby(\"vids_watched\")"
   ]
  },
  {
   "cell_type": "code",
   "execution_count": 141,
   "metadata": {},
   "outputs": [
    {
     "data": {
      "image/png": "[encoded data removed]",
      "text/plain": [
       "<Figure size 432x288 with 1 Axes>"
      ]
     },
     "metadata": {},
     "output_type": "display_data"
    }
   ],
   "source": [
    "# plot\n",
    "plt.plot(agg_1[[\"conspiracy_pred\"]].mean(), label=\"strat 1\")\n",
    "plt.plot(agg_2[[\"conspiracy_pred\"]].mean(), label=\"strat 2\")\n",
    "plt.plot(agg_3[[\"conspiracy_pred\"]].mean(), label=\"strat 3\")\n",
    "plt.plot(agg_4[[\"conspiracy_pred\"]].mean(), label=\"strat 4\")\n",
    "\n",
    "plt.legend(loc=\"upper left\")\n",
    "plt.show()"
   ]
  },
  {
   "cell_type": "markdown",
   "metadata": {},
   "source": [
    "## Possible new strategy"
   ]
  },
  {
   "cell_type": "code",
   "execution_count": 38,
   "metadata": {},
   "outputs": [],
   "source": [
    "# This is the video we're watching\n",
    "test = recs_1.iloc[95]"
   ]
  },
  {
   "cell_type": "code",
   "execution_count": 140,
   "metadata": {},
   "outputs": [],
   "source": [
    "# These are its recommendations\n",
    "spoof = recs.iloc[100:120]"
   ]
  },
  {
   "cell_type": "code",
   "execution_count": 141,
   "metadata": {},
   "outputs": [],
   "source": [
    "# Now, find to which recommendations the current video is closest\n",
    "v2 = TfidfVectorizer()\n",
    "s = v2.fit_transform(spoof[\"full_text\"].values)"
   ]
  },
  {
   "cell_type": "code",
   "execution_count": 137,
   "metadata": {},
   "outputs": [
    {
     "data": {
      "text/plain": [
       "NearestNeighbors(algorithm='auto', leaf_size=30, metric='cosine',\n",
       "                 metric_params=None, n_jobs=None, n_neighbors=1, p=2,\n",
       "                 radius=1.0)"
      ]
     },
     "execution_count": 137,
     "metadata": {},
     "output_type": "execute_result"
    }
   ],
   "source": [
    "knn = NearestNeighbors(n_neighbors=1, metric='cosine')\n",
    "knn.fit(s)"
   ]
  },
  {
   "cell_type": "code",
   "execution_count": 138,
   "metadata": {},
   "outputs": [
    {
     "data": {
      "text/plain": [
       "(array([[0.87229614]]), array([[19]], dtype=int64))"
      ]
     },
     "execution_count": 138,
     "metadata": {},
     "output_type": "execute_result"
    }
   ],
   "source": [
    "trans = v2.transform([test[\"full_text\"]])\n",
    "\n",
    "knn.kneighbors(trans, n_neighbors=1)"
   ]
  },
  {
   "cell_type": "code",
   "execution_count": null,
   "metadata": {},
   "outputs": [],
   "source": []
  }
 ],
 "metadata": {
  "kernelspec": {
   "display_name": "Python 3",
   "language": "python",
   "name": "python3"
  },
  "language_info": {
   "codemirror_mode": {
    "name": "ipython",
    "version": 3
   },
   "file_extension": ".py",
   "mimetype": "text/x-python",
   "name": "python",
   "nbconvert_exporter": "python",
   "pygments_lexer": "ipython3",
   "version": "3.6.5"
  }
 },
 "nbformat": 4,
 "nbformat_minor": 2
}
