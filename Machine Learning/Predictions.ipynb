{
 "cells": [
  {
   "cell_type": "code",
   "execution_count": 95,
   "metadata": {},
   "outputs": [],
   "source": [
    "import pandas as pd\n",
    "import pickle\n",
    "import re\n",
    "\n",
    "from sklearn.feature_extraction.text import TfidfVectorizer\n",
    "from sklearn.svm import SVC\n",
    "from sklearn.neighbors import NearestNeighbors"
   ]
  },
  {
   "cell_type": "markdown",
   "metadata": {},
   "source": [
    "### Read data"
   ]
  },
  {
   "cell_type": "code",
   "execution_count": 97,
   "metadata": {},
   "outputs": [],
   "source": [
    "recs = pd.read_csv(\"../data/recommendations/recommendations_strat_1_clean.csv\").drop(\"Unnamed: 0\", axis=1)"
   ]
  },
  {
   "cell_type": "code",
   "execution_count": 11,
   "metadata": {},
   "outputs": [],
   "source": [
    "equal = pd.read_csv(\"../data/training_videos.csv\").drop(\"Unnamed: 0\", axis = 1)\n",
    "equal[\"full_text\"].fillna(\"\", inplace=True)"
   ]
  },
  {
   "cell_type": "markdown",
   "metadata": {},
   "source": [
    "### Vectorize "
   ]
  },
  {
   "cell_type": "code",
   "execution_count": 12,
   "metadata": {},
   "outputs": [],
   "source": [
    "# Vectorize words\n",
    "v = TfidfVectorizer(max_df=.75, min_df=2)\n",
    "x = v.fit_transform(equal['full_text'])"
   ]
  },
  {
   "cell_type": "code",
   "execution_count": 13,
   "metadata": {},
   "outputs": [],
   "source": [
    "X = x\n",
    "Y = equal['conspiracy'].values.ravel()"
   ]
  },
  {
   "cell_type": "markdown",
   "metadata": {},
   "source": [
    "### Train or load model"
   ]
  },
  {
   "cell_type": "code",
   "execution_count": 15,
   "metadata": {},
   "outputs": [
    {
     "name": "stderr",
     "output_type": "stream",
     "text": [
      "D:\\ProgramData\\Anaconda3\\lib\\site-packages\\sklearn\\svm\\_base.py:231: ConvergenceWarning: Solver terminated early (max_iter=10000).  Consider pre-processing your data with StandardScaler or MinMaxScaler.\n",
      "  % self.max_iter, ConvergenceWarning)\n"
     ]
    }
   ],
   "source": [
    "try:\n",
    "    svm = pickle.load(open('SVM_trained.sav', 'rb'))\n",
    "except:\n",
    "    # Train\n",
    "    svm = SVC(C=10, kernel=\"rbf\", max_iter = 10000).fit(X, Y)\n",
    "\n",
    "    # save the model to disk\n",
    "    pickle.dump(model, open('SVM_trained.sav', 'wb'))"
   ]
  },
  {
   "cell_type": "code",
   "execution_count": 19,
   "metadata": {},
   "outputs": [],
   "source": [
    "# save the model to disk\n",
    "pickle.dump(svm, open('SVM_trained.sav', 'wb'))"
   ]
  },
  {
   "cell_type": "markdown",
   "metadata": {},
   "source": [
    "### Transform recommendations to tf-idf"
   ]
  },
  {
   "cell_type": "code",
   "execution_count": 28,
   "metadata": {},
   "outputs": [],
   "source": [
    "recs_tfidf = v.transform(recs[\"full_text\"].values)"
   ]
  },
  {
   "cell_type": "markdown",
   "metadata": {},
   "source": [
    "### Predictions"
   ]
  },
  {
   "cell_type": "code",
   "execution_count": 30,
   "metadata": {},
   "outputs": [],
   "source": [
    "predictions = svm.predict(sample)"
   ]
  },
  {
   "cell_type": "code",
   "execution_count": 69,
   "metadata": {},
   "outputs": [],
   "source": [
    "recs[\"conspiracy_pred\"] = predictions"
   ]
  },
  {
   "cell_type": "code",
   "execution_count": 70,
   "metadata": {},
   "outputs": [
    {
     "data": {
      "text/html": [
       "<div>\n",
       "<style scoped>\n",
       "    .dataframe tbody tr th:only-of-type {\n",
       "        vertical-align: middle;\n",
       "    }\n",
       "\n",
       "    .dataframe tbody tr th {\n",
       "        vertical-align: top;\n",
       "    }\n",
       "\n",
       "    .dataframe thead th {\n",
       "        text-align: right;\n",
       "    }\n",
       "</style>\n",
       "<table border=\"1\" class=\"dataframe\">\n",
       "  <thead>\n",
       "    <tr style=\"text-align: right;\">\n",
       "      <th></th>\n",
       "      <th>user</th>\n",
       "      <th>vids_watched</th>\n",
       "      <th>vid</th>\n",
       "      <th>views</th>\n",
       "      <th>likes</th>\n",
       "      <th>dislikes</th>\n",
       "      <th>duration</th>\n",
       "      <th>full_text</th>\n",
       "      <th>conspiracy_pred</th>\n",
       "    </tr>\n",
       "  </thead>\n",
       "  <tbody>\n",
       "    <tr>\n",
       "      <th>7</th>\n",
       "      <td>scriptiebot1@gmail.com</td>\n",
       "      <td>1</td>\n",
       "      <td>sjkrrmBnpGE</td>\n",
       "      <td>14346593.0</td>\n",
       "      <td>117289.0</td>\n",
       "      <td>3040.0</td>\n",
       "      <td>PT3H57M52S</td>\n",
       "      <td>ambient studi music concentr 4 hour music stud...</td>\n",
       "      <td>True</td>\n",
       "    </tr>\n",
       "    <tr>\n",
       "      <th>29</th>\n",
       "      <td>scriptiebot1@gmail.com</td>\n",
       "      <td>2</td>\n",
       "      <td>DslTxXsDLsw</td>\n",
       "      <td>173460.0</td>\n",
       "      <td>3819.0</td>\n",
       "      <td>28.0</td>\n",
       "      <td>PT1H9M2S</td>\n",
       "      <td>69 minut manhattan night drone aerial footag m...</td>\n",
       "      <td>True</td>\n",
       "    </tr>\n",
       "    <tr>\n",
       "      <th>35</th>\n",
       "      <td>scriptiebot1@gmail.com</td>\n",
       "      <td>2</td>\n",
       "      <td>gVKEM4K8J8A</td>\n",
       "      <td>37550582.0</td>\n",
       "      <td>273609.0</td>\n",
       "      <td>21741.0</td>\n",
       "      <td>PT4H4S</td>\n",
       "      <td>heavi thunderstorm sound relax rain thunder li...</td>\n",
       "      <td>True</td>\n",
       "    </tr>\n",
       "    <tr>\n",
       "      <th>45</th>\n",
       "      <td>scriptiebot1@gmail.com</td>\n",
       "      <td>3</td>\n",
       "      <td>jSYto3FAJUA</td>\n",
       "      <td>170389.0</td>\n",
       "      <td>7438.0</td>\n",
       "      <td>54.0</td>\n",
       "      <td>PT5M44S</td>\n",
       "      <td>best 3 remedi psoriasi talk dr berg keto consu...</td>\n",
       "      <td>True</td>\n",
       "    </tr>\n",
       "    <tr>\n",
       "      <th>46</th>\n",
       "      <td>scriptiebot1@gmail.com</td>\n",
       "      <td>3</td>\n",
       "      <td>OT2b5KzMoC0</td>\n",
       "      <td>28198849.0</td>\n",
       "      <td>204178.0</td>\n",
       "      <td>4172.0</td>\n",
       "      <td>PT3M12S</td>\n",
       "      <td>toni stark meet natasha romanoff want one iron...</td>\n",
       "      <td>True</td>\n",
       "    </tr>\n",
       "    <tr>\n",
       "      <th>...</th>\n",
       "      <td>...</td>\n",
       "      <td>...</td>\n",
       "      <td>...</td>\n",
       "      <td>...</td>\n",
       "      <td>...</td>\n",
       "      <td>...</td>\n",
       "      <td>...</td>\n",
       "      <td>...</td>\n",
       "      <td>...</td>\n",
       "    </tr>\n",
       "    <tr>\n",
       "      <th>1396</th>\n",
       "      <td>scriptiebot5@gmail.com</td>\n",
       "      <td>14</td>\n",
       "      <td>N0zZmh-JFyM</td>\n",
       "      <td>5254946.0</td>\n",
       "      <td>64887.0</td>\n",
       "      <td>2747.0</td>\n",
       "      <td>PT16M31S</td>\n",
       "      <td>oprah interview woman 92 person oprah winfrey ...</td>\n",
       "      <td>True</td>\n",
       "    </tr>\n",
       "    <tr>\n",
       "      <th>1397</th>\n",
       "      <td>scriptiebot5@gmail.com</td>\n",
       "      <td>14</td>\n",
       "      <td>CyYHlYPEpfQ</td>\n",
       "      <td>1316329.0</td>\n",
       "      <td>41665.0</td>\n",
       "      <td>1099.0</td>\n",
       "      <td>PT10M29S</td>\n",
       "      <td>jesu warn heaven shock must hear jesu warn kev...</td>\n",
       "      <td>True</td>\n",
       "    </tr>\n",
       "    <tr>\n",
       "      <th>1400</th>\n",
       "      <td>scriptiebot5@gmail.com</td>\n",
       "      <td>15</td>\n",
       "      <td>G8aZZVBWg1s</td>\n",
       "      <td>613192.0</td>\n",
       "      <td>7139.0</td>\n",
       "      <td>219.0</td>\n",
       "      <td>PT8M30S</td>\n",
       "      <td>disorgan hebephren schizophrenia interview 198...</td>\n",
       "      <td>True</td>\n",
       "    </tr>\n",
       "    <tr>\n",
       "      <th>1402</th>\n",
       "      <td>scriptiebot5@gmail.com</td>\n",
       "      <td>15</td>\n",
       "      <td>N0zZmh-JFyM</td>\n",
       "      <td>5254946.0</td>\n",
       "      <td>64887.0</td>\n",
       "      <td>2747.0</td>\n",
       "      <td>PT16M31S</td>\n",
       "      <td>oprah interview woman 92 person oprah winfrey ...</td>\n",
       "      <td>True</td>\n",
       "    </tr>\n",
       "    <tr>\n",
       "      <th>1403</th>\n",
       "      <td>scriptiebot5@gmail.com</td>\n",
       "      <td>15</td>\n",
       "      <td>CyYHlYPEpfQ</td>\n",
       "      <td>1316329.0</td>\n",
       "      <td>41665.0</td>\n",
       "      <td>1099.0</td>\n",
       "      <td>PT10M29S</td>\n",
       "      <td>jesu warn heaven shock must hear jesu warn kev...</td>\n",
       "      <td>True</td>\n",
       "    </tr>\n",
       "  </tbody>\n",
       "</table>\n",
       "<p>94 rows × 9 columns</p>\n",
       "</div>"
      ],
      "text/plain": [
       "                        user  vids_watched          vid       views     likes  \\\n",
       "7     scriptiebot1@gmail.com             1  sjkrrmBnpGE  14346593.0  117289.0   \n",
       "29    scriptiebot1@gmail.com             2  DslTxXsDLsw    173460.0    3819.0   \n",
       "35    scriptiebot1@gmail.com             2  gVKEM4K8J8A  37550582.0  273609.0   \n",
       "45    scriptiebot1@gmail.com             3  jSYto3FAJUA    170389.0    7438.0   \n",
       "46    scriptiebot1@gmail.com             3  OT2b5KzMoC0  28198849.0  204178.0   \n",
       "...                      ...           ...          ...         ...       ...   \n",
       "1396  scriptiebot5@gmail.com            14  N0zZmh-JFyM   5254946.0   64887.0   \n",
       "1397  scriptiebot5@gmail.com            14  CyYHlYPEpfQ   1316329.0   41665.0   \n",
       "1400  scriptiebot5@gmail.com            15  G8aZZVBWg1s    613192.0    7139.0   \n",
       "1402  scriptiebot5@gmail.com            15  N0zZmh-JFyM   5254946.0   64887.0   \n",
       "1403  scriptiebot5@gmail.com            15  CyYHlYPEpfQ   1316329.0   41665.0   \n",
       "\n",
       "      dislikes    duration                                          full_text  \\\n",
       "7       3040.0  PT3H57M52S  ambient studi music concentr 4 hour music stud...   \n",
       "29        28.0    PT1H9M2S  69 minut manhattan night drone aerial footag m...   \n",
       "35     21741.0      PT4H4S  heavi thunderstorm sound relax rain thunder li...   \n",
       "45        54.0     PT5M44S  best 3 remedi psoriasi talk dr berg keto consu...   \n",
       "46      4172.0     PT3M12S  toni stark meet natasha romanoff want one iron...   \n",
       "...        ...         ...                                                ...   \n",
       "1396    2747.0    PT16M31S  oprah interview woman 92 person oprah winfrey ...   \n",
       "1397    1099.0    PT10M29S  jesu warn heaven shock must hear jesu warn kev...   \n",
       "1400     219.0     PT8M30S  disorgan hebephren schizophrenia interview 198...   \n",
       "1402    2747.0    PT16M31S  oprah interview woman 92 person oprah winfrey ...   \n",
       "1403    1099.0    PT10M29S  jesu warn heaven shock must hear jesu warn kev...   \n",
       "\n",
       "      conspiracy_pred  \n",
       "7                True  \n",
       "29               True  \n",
       "35               True  \n",
       "45               True  \n",
       "46               True  \n",
       "...               ...  \n",
       "1396             True  \n",
       "1397             True  \n",
       "1400             True  \n",
       "1402             True  \n",
       "1403             True  \n",
       "\n",
       "[94 rows x 9 columns]"
      ]
     },
     "execution_count": 70,
     "metadata": {},
     "output_type": "execute_result"
    }
   ],
   "source": [
    "recs[recs[\"conspiracy_pred\"]]"
   ]
  },
  {
   "cell_type": "markdown",
   "metadata": {},
   "source": [
    "## Aggregates"
   ]
  },
  {
   "cell_type": "code",
   "execution_count": 76,
   "metadata": {},
   "outputs": [
    {
     "data": {
      "text/html": [
       "<div>\n",
       "<style scoped>\n",
       "    .dataframe tbody tr th:only-of-type {\n",
       "        vertical-align: middle;\n",
       "    }\n",
       "\n",
       "    .dataframe tbody tr th {\n",
       "        vertical-align: top;\n",
       "    }\n",
       "\n",
       "    .dataframe thead th {\n",
       "        text-align: right;\n",
       "    }\n",
       "</style>\n",
       "<table border=\"1\" class=\"dataframe\">\n",
       "  <thead>\n",
       "    <tr style=\"text-align: right;\">\n",
       "      <th></th>\n",
       "      <th>vids_watched</th>\n",
       "      <th>views</th>\n",
       "      <th>likes</th>\n",
       "      <th>dislikes</th>\n",
       "      <th>duration</th>\n",
       "      <th>conspiracy_pred</th>\n",
       "    </tr>\n",
       "  </thead>\n",
       "  <tbody>\n",
       "    <tr>\n",
       "      <th>0</th>\n",
       "      <td>1</td>\n",
       "      <td>6708535.0</td>\n",
       "      <td>124784.0</td>\n",
       "      <td>5625.0</td>\n",
       "      <td>PT5M3S</td>\n",
       "      <td>False</td>\n",
       "    </tr>\n",
       "    <tr>\n",
       "      <th>1</th>\n",
       "      <td>1</td>\n",
       "      <td>22824307.0</td>\n",
       "      <td>236476.0</td>\n",
       "      <td>4479.0</td>\n",
       "      <td>P0D</td>\n",
       "      <td>False</td>\n",
       "    </tr>\n",
       "    <tr>\n",
       "      <th>2</th>\n",
       "      <td>1</td>\n",
       "      <td>83168.0</td>\n",
       "      <td>1456.0</td>\n",
       "      <td>12.0</td>\n",
       "      <td>PT48M20S</td>\n",
       "      <td>False</td>\n",
       "    </tr>\n",
       "    <tr>\n",
       "      <th>3</th>\n",
       "      <td>1</td>\n",
       "      <td>8784881.0</td>\n",
       "      <td>103138.0</td>\n",
       "      <td>3495.0</td>\n",
       "      <td>P0D</td>\n",
       "      <td>False</td>\n",
       "    </tr>\n",
       "    <tr>\n",
       "      <th>4</th>\n",
       "      <td>1</td>\n",
       "      <td>408031.0</td>\n",
       "      <td>10729.0</td>\n",
       "      <td>380.0</td>\n",
       "      <td>PT58M1S</td>\n",
       "      <td>False</td>\n",
       "    </tr>\n",
       "  </tbody>\n",
       "</table>\n",
       "</div>"
      ],
      "text/plain": [
       "   vids_watched       views     likes  dislikes  duration  conspiracy_pred\n",
       "0             1   6708535.0  124784.0    5625.0    PT5M3S            False\n",
       "1             1  22824307.0  236476.0    4479.0       P0D            False\n",
       "2             1     83168.0    1456.0      12.0  PT48M20S            False\n",
       "3             1   8784881.0  103138.0    3495.0       P0D            False\n",
       "4             1    408031.0   10729.0     380.0   PT58M1S            False"
      ]
     },
     "execution_count": 76,
     "metadata": {},
     "output_type": "execute_result"
    }
   ],
   "source": [
    "recs_2 = recs[[\"vids_watched\", \"views\", \"likes\", \"dislikes\", \"duration\", \"conspiracy_pred\"]].copy()\n",
    "\n",
    "recs_2.head()"
   ]
  },
  {
   "cell_type": "code",
   "execution_count": 77,
   "metadata": {},
   "outputs": [],
   "source": [
    "def to_seconds(duration):\n",
    "    times = re.findall(\"\\d+\", duration)[::-1]\n",
    "    return sum([int(times[i]) * 60**i for i in range(len(times))])"
   ]
  },
  {
   "cell_type": "code",
   "execution_count": 78,
   "metadata": {},
   "outputs": [],
   "source": [
    "recs_2[\"duration\"] = recs_2[\"duration\"].apply(lambda x: to_seconds(str(x)))"
   ]
  },
  {
   "cell_type": "code",
   "execution_count": 89,
   "metadata": {},
   "outputs": [],
   "source": [
    "agg = recs_2.groupby(\"vids_watched\")"
   ]
  },
  {
   "cell_type": "code",
   "execution_count": 94,
   "metadata": {},
   "outputs": [
    {
     "data": {
      "text/plain": [
       "<AxesSubplot:xlabel='vids_watched'>"
      ]
     },
     "execution_count": 94,
     "metadata": {},
     "output_type": "execute_result"
    },
    {
     "data": {
      "image/png": "[encoded data removed]",
      "text/plain": [
       "<Figure size 432x288 with 1 Axes>"
      ]
     },
     "metadata": {},
     "output_type": "display_data"
    }
   ],
   "source": [
    "agg[[\"conspiracy_pred\", \"duration\"]].mean().plot()"
   ]
  },
  {
   "cell_type": "markdown",
   "metadata": {},
   "source": [
    "## Possible new strategy"
   ]
  },
  {
   "cell_type": "code",
   "execution_count": 139,
   "metadata": {},
   "outputs": [],
   "source": [
    "# This is the video we're watching\n",
    "test = recs.iloc[95]"
   ]
  },
  {
   "cell_type": "code",
   "execution_count": 140,
   "metadata": {},
   "outputs": [],
   "source": [
    "# These are its recommendations\n",
    "spoof = recs.iloc[100:120]"
   ]
  },
  {
   "cell_type": "code",
   "execution_count": 141,
   "metadata": {},
   "outputs": [],
   "source": [
    "# Now, find to which recommendations the current video is closest\n",
    "v2 = TfidfVectorizer()\n",
    "s = v2.fit_transform(spoof[\"full_text\"].values)"
   ]
  },
  {
   "cell_type": "code",
   "execution_count": 137,
   "metadata": {},
   "outputs": [
    {
     "data": {
      "text/plain": [
       "NearestNeighbors(algorithm='auto', leaf_size=30, metric='cosine',\n",
       "                 metric_params=None, n_jobs=None, n_neighbors=1, p=2,\n",
       "                 radius=1.0)"
      ]
     },
     "execution_count": 137,
     "metadata": {},
     "output_type": "execute_result"
    }
   ],
   "source": [
    "knn = NearestNeighbors(n_neighbors=1, metric='cosine')\n",
    "knn.fit(s)"
   ]
  },
  {
   "cell_type": "code",
   "execution_count": 138,
   "metadata": {},
   "outputs": [
    {
     "data": {
      "text/plain": [
       "(array([[0.87229614]]), array([[19]], dtype=int64))"
      ]
     },
     "execution_count": 138,
     "metadata": {},
     "output_type": "execute_result"
    }
   ],
   "source": [
    "trans = v2.transform([test[\"full_text\"]])\n",
    "\n",
    "knn.kneighbors(trans, n_neighbors=1)"
   ]
  },
  {
   "cell_type": "code",
   "execution_count": null,
   "metadata": {},
   "outputs": [],
   "source": []
  }
 ],
 "metadata": {
  "kernelspec": {
   "display_name": "Python 3",
   "language": "python",
   "name": "python3"
  },
  "language_info": {
   "codemirror_mode": {
    "name": "ipython",
    "version": 3
   },
   "file_extension": ".py",
   "mimetype": "text/x-python",
   "name": "python",
   "nbconvert_exporter": "python",
   "pygments_lexer": "ipython3",
   "version": "3.6.5"
  }
 },
 "nbformat": 4,
 "nbformat_minor": 2
}
