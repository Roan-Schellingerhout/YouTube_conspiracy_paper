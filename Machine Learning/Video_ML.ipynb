{
 "cells": [
  {
   "cell_type": "code",
   "execution_count": 1,
   "metadata": {},
   "outputs": [],
   "source": [
    "from sklearn.feature_extraction.text import TfidfVectorizer\n",
    "\n",
    "import sklearn\n",
    "\n",
    "from sklearn.neural_network import MLPClassifier\n",
    "from sklearn.linear_model import LogisticRegression, RidgeClassifier\n",
    "from sklearn.svm import SVC\n",
    "\n",
    "from sklearn.neighbors import KNeighborsClassifier\n",
    "from sklearn.naive_bayes import GaussianNB, MultinomialNB, ComplementNB, BernoulliNB, CategoricalNB\n",
    "\n",
    "from IPython.display import clear_output\n",
    "\n",
    "import pandas as pd\n",
    "import numpy as np\n",
    "import time\n",
    "import string\n",
    "from tqdm import notebook\n",
    "from tqdm.auto import tqdm\n",
    "\n",
    "import warnings\n",
    "warnings.filterwarnings(\"ignore\")"
   ]
  },
  {
   "cell_type": "markdown",
   "metadata": {},
   "source": [
    "# Helpers"
   ]
  },
  {
   "cell_type": "code",
   "execution_count": 2,
   "metadata": {},
   "outputs": [],
   "source": [
    "def progress(done, left, start):\n",
    "    # Print bar\n",
    "    clear_output(wait=True)\n",
    "    print(f\"[{'#' * done}{' ' * left}] {round(done/(done+left) * 100, 2)}% ({done}/{done+left})\")\n",
    "    \n",
    "    # Bereken gepasseerde tijd\n",
    "    current = time.time()\n",
    "    hours = int((current - start) // 3600)\n",
    "    minutes = int((current - start) % 3600 // 60)\n",
    "    seconds = int((current - start) % 60)\n",
    "    \n",
    "    # Print tijd\n",
    "    print(f\"\"\"Time passed = {hours:02d}:{minutes:02d}:{seconds:02d}\"\"\")\n",
    "    \n",
    "    new_done = done + 1\n",
    "    new_left = left - 1\n",
    "    \n",
    "    return new_done, new_left\n"
   ]
  },
  {
   "cell_type": "markdown",
   "metadata": {},
   "source": [
    "# Laad data in"
   ]
  },
  {
   "cell_type": "code",
   "execution_count": 3,
   "metadata": {},
   "outputs": [
    {
     "data": {
      "text/html": [
       "<div>\n",
       "<style scoped>\n",
       "    .dataframe tbody tr th:only-of-type {\n",
       "        vertical-align: middle;\n",
       "    }\n",
       "\n",
       "    .dataframe tbody tr th {\n",
       "        vertical-align: top;\n",
       "    }\n",
       "\n",
       "    .dataframe thead th {\n",
       "        text-align: right;\n",
       "    }\n",
       "</style>\n",
       "<table border=\"1\" class=\"dataframe\">\n",
       "  <thead>\n",
       "    <tr style=\"text-align: right;\">\n",
       "      <th></th>\n",
       "      <th>channel</th>\n",
       "      <th>video_id</th>\n",
       "      <th>conspiracy</th>\n",
       "      <th>full_text</th>\n",
       "    </tr>\n",
       "  </thead>\n",
       "  <tbody>\n",
       "    <tr>\n",
       "      <th>0</th>\n",
       "      <td>UCyuAKnN3g2fZ7_R9irgEUZQ</td>\n",
       "      <td>SECdW8n4ZGw</td>\n",
       "      <td>False</td>\n",
       "      <td>abraham lincoln came power abraham lincoln com...</td>\n",
       "    </tr>\n",
       "    <tr>\n",
       "      <th>1</th>\n",
       "      <td>UCAtdV6VWa02UpCB2YHuVmHg</td>\n",
       "      <td>jSXIrZx8lI4</td>\n",
       "      <td>False</td>\n",
       "      <td>thanksgiv celebr announc union rescu mission n...</td>\n",
       "    </tr>\n",
       "    <tr>\n",
       "      <th>2</th>\n",
       "      <td>UCASQzDb4SUC0gZNPbwBubIQ</td>\n",
       "      <td>s0YjJVyyVjI</td>\n",
       "      <td>False</td>\n",
       "      <td>unc health s mobil clinic aim reduc racial eth...</td>\n",
       "    </tr>\n",
       "    <tr>\n",
       "      <th>3</th>\n",
       "      <td>UC_giJ3xlEL9jUF1YfJdzzuQ</td>\n",
       "      <td>VMHCvdRdq10</td>\n",
       "      <td>False</td>\n",
       "      <td>establish impur accept criteria part spec dmf ...</td>\n",
       "    </tr>\n",
       "    <tr>\n",
       "      <th>4</th>\n",
       "      <td>UCT8RMFbTJV5ILaVykrluOQg</td>\n",
       "      <td>KKiR4FWOZ4w</td>\n",
       "      <td>False</td>\n",
       "      <td>ten panda cub make public debut ahead spring f...</td>\n",
       "    </tr>\n",
       "  </tbody>\n",
       "</table>\n",
       "</div>"
      ],
      "text/plain": [
       "                    channel     video_id  conspiracy  \\\n",
       "0  UCyuAKnN3g2fZ7_R9irgEUZQ  SECdW8n4ZGw       False   \n",
       "1  UCAtdV6VWa02UpCB2YHuVmHg  jSXIrZx8lI4       False   \n",
       "2  UCASQzDb4SUC0gZNPbwBubIQ  s0YjJVyyVjI       False   \n",
       "3  UC_giJ3xlEL9jUF1YfJdzzuQ  VMHCvdRdq10       False   \n",
       "4  UCT8RMFbTJV5ILaVykrluOQg  KKiR4FWOZ4w       False   \n",
       "\n",
       "                                           full_text  \n",
       "0  abraham lincoln came power abraham lincoln com...  \n",
       "1  thanksgiv celebr announc union rescu mission n...  \n",
       "2  unc health s mobil clinic aim reduc racial eth...  \n",
       "3  establish impur accept criteria part spec dmf ...  \n",
       "4  ten panda cub make public debut ahead spring f...  "
      ]
     },
     "execution_count": 3,
     "metadata": {},
     "output_type": "execute_result"
    }
   ],
   "source": [
    "equal = pd.read_csv(\"../data/training_videos.csv\").drop(\"Unnamed: 0\", axis = 1)\n",
    "equal[\"full_text\"].fillna(\"\", inplace=True)\n",
    "\n",
    "equal.head()"
   ]
  },
  {
   "cell_type": "markdown",
   "metadata": {},
   "source": [
    "# Vectorize"
   ]
  },
  {
   "cell_type": "code",
   "execution_count": 4,
   "metadata": {},
   "outputs": [
    {
     "data": {
      "text/plain": [
       "<44312x140970 sparse matrix of type '<class 'numpy.float64'>'\n",
       "\twith 23152699 stored elements in Compressed Sparse Row format>"
      ]
     },
     "execution_count": 4,
     "metadata": {},
     "output_type": "execute_result"
    }
   ],
   "source": [
    "# Vectorize words\n",
    "v = TfidfVectorizer(max_df=.75, min_df=2)\n",
    "x = v.fit_transform(equal['full_text'])\n",
    "\n",
    "x"
   ]
  },
  {
   "cell_type": "code",
   "execution_count": 5,
   "metadata": {},
   "outputs": [
    {
     "data": {
      "text/plain": [
       "(44312, 140970)"
      ]
     },
     "execution_count": 5,
     "metadata": {},
     "output_type": "execute_result"
    }
   ],
   "source": [
    "x.shape"
   ]
  },
  {
   "cell_type": "code",
   "execution_count": 6,
   "metadata": {},
   "outputs": [],
   "source": [
    "X = x\n",
    "Y = equal['conspiracy'].values.ravel()\n",
    "\n",
    "# 10% of the data will be the test set\n",
    "X_trainval, X_test, y_trainval, y_test = sklearn.model_selection.train_test_split(X, Y, test_size=0.1,\\\n",
    "                                                                                  random_state=0)\n",
    "\n",
    "# of the remaining 90%, 90% will be training set\n",
    "X_train, X_valid, y_train, y_valid = sklearn.model_selection.train_test_split(X_trainval, y_trainval,\\\n",
    "                                                                              train_size=0.9,\\\n",
    "                                                                              random_state=0)"
   ]
  },
  {
   "cell_type": "markdown",
   "metadata": {},
   "source": [
    "# Hyperparameter tuning"
   ]
  },
  {
   "cell_type": "markdown",
   "metadata": {},
   "source": [
    "## K-nearest neighbors"
   ]
  },
  {
   "cell_type": "code",
   "execution_count": 9,
   "metadata": {},
   "outputs": [
    {
     "data": {
      "application/vnd.jupyter.widget-view+json": {
       "model_id": "7baab1f9bb9a472b87a75cf961ded012",
       "version_major": 2,
       "version_minor": 0
      },
      "text/plain": [
       "  0%|          | 0/15 [00:00<?, ?it/s]"
      ]
     },
     "metadata": {},
     "output_type": "display_data"
    }
   ],
   "source": [
    "measures = {\"K\":[], \"Accuracy\":[], \"Precision\":[],\"Recall\":[], \"F1\":[]}\n",
    "\n",
    "for k in notebook.tqdm(range(1, 16)):\n",
    "    knn = KNeighborsClassifier(k).fit(X_train, y_train)\n",
    "\n",
    "    y_pred = knn.predict(X_valid)\n",
    "\n",
    "    measures[\"K\"].append(k)\n",
    "    measures[\"Accuracy\"].append(sklearn.metrics.accuracy_score(y_valid, y_pred))\n",
    "    measures[\"Precision\"].append(sklearn.metrics.precision_score(y_valid, y_pred))\n",
    "    measures[\"Recall\"].append(sklearn.metrics.recall_score(y_valid, y_pred))\n",
    "    measures[\"F1\"].append(sklearn.metrics.f1_score(y_valid, y_pred))\n",
    "\n",
    "df_knn = pd.DataFrame(measures)\n",
    "df_knn.to_csv(\"k-nearest_neighbors.csv\")"
   ]
  },
  {
   "cell_type": "markdown",
   "metadata": {},
   "source": [
    "## Neural Network"
   ]
  },
  {
   "cell_type": "code",
   "execution_count": 7,
   "metadata": {},
   "outputs": [
    {
     "name": "stdout",
     "output_type": "stream",
     "text": [
      "[################################### ] 97.22% (35/36)\n",
      "Time passed = 08:18:00\n"
     ]
    }
   ],
   "source": [
    "measures = {\"Activation function\":[], \"# of hidden layers\":[], \"Neurons per layer\":[],\n",
    "            \"Accuracy\":[], \"Precision\":[],\"Recall\":[], \"F1\":[]}\n",
    "\n",
    "done = 0\n",
    "left = 4*3*3\n",
    "start = time.time()\n",
    "\n",
    "for act in ['identity', 'logistic', 'tanh', 'relu']:\n",
    "    for layers in [1, 10, 25]:\n",
    "        for neurons in [1, 10, 20]:\n",
    "            # Progress bar\n",
    "            done, left = progress(done, left, start)\n",
    "            \n",
    "            # Fit\n",
    "            mlp = MLPClassifier(hidden_layer_sizes=[neurons]*layers, activation=act,\\\n",
    "                    random_state=0).fit(X_train, y_train)\n",
    "\n",
    "            # Predict en sla waardes op\n",
    "            y_pred = mlp.predict(X_test)\n",
    "            measures[\"Activation function\"].append(act)\n",
    "            measures[\"# of hidden layers\"].append(layers)\n",
    "            measures[\"Neurons per layer\"].append(neurons)\n",
    "            \n",
    "            measures[\"Accuracy\"].append(sklearn.metrics.accuracy_score(y_valid, mlp.predict(X_valid)))\n",
    "            measures[\"Precision\"].append(sklearn.metrics.precision_score(y_valid, mlp.predict(X_valid)))\n",
    "            measures[\"Recall\"].append(sklearn.metrics.recall_score(y_valid, mlp.predict(X_valid)))\n",
    "            measures[\"F1\"].append(sklearn.metrics.f1_score(y_valid, mlp.predict(X_valid)))\n",
    "            \n",
    "df_nn = pd.DataFrame(measures)\n",
    "df_nn.to_csv(\"neural_network.csv\")"
   ]
  },
  {
   "cell_type": "markdown",
   "metadata": {},
   "source": [
    "## Support-vector machine"
   ]
  },
  {
   "cell_type": "code",
   "execution_count": null,
   "metadata": {},
   "outputs": [
    {
     "name": "stdout",
     "output_type": "stream",
     "text": [
      "[                ] 0.0% (0/16)\n",
      "Time passed = 00:00:00\n"
     ]
    }
   ],
   "source": [
    "measures = {\"Kernel\":[], \"C\":[], \"Accuracy\":[], \"Precision\":[], \"Recall\":[], \"F1\":[]}\n",
    "\n",
    "done = 0\n",
    "left = 4*4\n",
    "start = time.time()\n",
    "\n",
    "for kernel in [\"linear\", \"poly\", \"rbf\", \"sigmoid\"]:\n",
    "    for C in [0.1, 1, 10, 100]:       \n",
    "        # Print progress\n",
    "        done, left = progress(done, left, start)\n",
    "        \n",
    "        # Train\n",
    "        svm = SVC(C=C, kernel=kernel, max_iter = 10000).fit(X_train, y_train)\n",
    "        \n",
    "        # Predict\n",
    "        y_pred = svm.predict(X_valid)\n",
    "\n",
    "        # Store\n",
    "        measures[\"Kernel\"].append(kernel)\n",
    "        measures[\"C\"].append(C)\n",
    "\n",
    "        measures[\"Accuracy\"].append(sklearn.metrics.accuracy_score(y_valid, y_pred))\n",
    "        measures[\"Precision\"].append(sklearn.metrics.precision_score(y_valid, y_pred))\n",
    "        measures[\"Recall\"].append(sklearn.metrics.recall_score(y_valid, y_pred))\n",
    "        measures[\"F1\"].append(sklearn.metrics.f1_score(y_valid, y_pred))\n",
    "        \n",
    "df_svm = pd.DataFrame(measures)\n",
    "df_svm.to_csv(\"support-vector_machine.csv\")"
   ]
  },
  {
   "cell_type": "markdown",
   "metadata": {},
   "source": [
    "## Logistic Regression"
   ]
  },
  {
   "cell_type": "code",
   "execution_count": 9,
   "metadata": {},
   "outputs": [
    {
     "name": "stdout",
     "output_type": "stream",
     "text": [
      "[################################### ] 97.22% (35/36)\n",
      "Time passed = 00:20:07\n"
     ]
    }
   ],
   "source": [
    "measures = {\"Penalty\":[], \"C\":[], \"Solver\":[], \"Accuracy\":[], \"Precision\":[],\"Recall\":[], \"F1\":[]}\n",
    "\n",
    "done = 0\n",
    "left = 4*3*3\n",
    "start = time.time()\n",
    "\n",
    "for solver in ['newton-cg', 'lbfgs', 'sag', 'saga']:\n",
    "    for pen in ['l1', 'l2', 'none']:\n",
    "        for C in [1, 10, 20]:\n",
    "            try:\n",
    "                # Print progress\n",
    "                done, left = progress(done, left, start)\n",
    "                \n",
    "                # Train solver\n",
    "                logr = LogisticRegression(penalty=pen, \n",
    "                                          C=C, \n",
    "                                          solver=solver,\n",
    "                                          n_jobs=-1).fit(X_train, y_train)\n",
    "\n",
    "                # Predict\n",
    "                y_pred = logr.predict(X_valid)\n",
    "\n",
    "                measures[\"Solver\"].append(solver)\n",
    "                measures[\"Penalty\"].append(pen)\n",
    "                measures[\"C\"].append(C)\n",
    "\n",
    "                measures[\"Accuracy\"].append(sklearn.metrics.accuracy_score(y_valid, y_pred))\n",
    "                measures[\"Precision\"].append(sklearn.metrics.precision_score(y_valid, y_pred))\n",
    "                measures[\"Recall\"].append(sklearn.metrics.recall_score(y_valid, y_pred))\n",
    "                measures[\"F1\"].append(sklearn.metrics.f1_score(y_valid, y_pred))\n",
    "            except:\n",
    "                pass\n",
    "            \n",
    "df_logr = pd.DataFrame(measures)\n",
    "df_logr.to_csv(\"logistic_regression.csv\")"
   ]
  },
  {
   "cell_type": "markdown",
   "metadata": {},
   "source": [
    "## Ridge Classification"
   ]
  },
  {
   "cell_type": "code",
   "execution_count": 10,
   "metadata": {},
   "outputs": [
    {
     "name": "stdout",
     "output_type": "stream",
     "text": [
      "[########### ] 91.67% (11/12)\n",
      "Time passed = 00:01:10\n"
     ]
    }
   ],
   "source": [
    "measures = {\"Solver\":[], \"Alpha\":[], \"Accuracy\":[], \"Precision\":[], \"Recall\":[], \"F1\":[]}\n",
    "\n",
    "done = 0\n",
    "left = 3*4\n",
    "start = time.time()\n",
    "\n",
    "for solver in ['auto', 'sparse_cg', 'sag']:\n",
    "    for alpha in [0.1, 1, 10, 100]:\n",
    "        # Print progress\n",
    "        done, left = progress(done, left, start)\n",
    "        \n",
    "        ridge = RidgeClassifier(solver=solver, alpha=alpha).fit(X_train, y_train)\n",
    "\n",
    "        y_pred = ridge.predict(X_valid)\n",
    "        \n",
    "        measures[\"Solver\"].append(solver)\n",
    "        measures[\"Alpha\"].append(alpha)\n",
    "\n",
    "        measures[\"Accuracy\"].append(sklearn.metrics.accuracy_score(y_valid, y_pred))\n",
    "        measures[\"Precision\"].append(sklearn.metrics.precision_score(y_valid, y_pred))\n",
    "        measures[\"Recall\"].append(sklearn.metrics.recall_score(y_valid, y_pred))\n",
    "        measures[\"F1\"].append(sklearn.metrics.f1_score(y_valid, y_pred))\n",
    "\n",
    "df_ridge = pd.DataFrame(measures)\n",
    "df_ridge.to_csv(\"ridge_classification.csv\")"
   ]
  },
  {
   "cell_type": "markdown",
   "metadata": {},
   "source": [
    "# Optimal configuration"
   ]
  },
  {
   "cell_type": "markdown",
   "metadata": {},
   "source": [
    "## K-nearest neighbors"
   ]
  },
  {
   "cell_type": "code",
   "execution_count": 7,
   "metadata": {},
   "outputs": [
    {
     "name": "stdout",
     "output_type": "stream",
     "text": [
      "Accuracy : 0.8786101083032491\n",
      "Precision: 0.8621752531924263\n",
      "Recall   : 0.896930829134219\n",
      "F1       : 0.8792096991468343\n"
     ]
    }
   ],
   "source": [
    "knn = KNeighborsClassifier(1).fit(X_train, y_train)\n",
    "\n",
    "y_pred = knn.predict(X_test)\n",
    "\n",
    "print(\"Accuracy :\", sklearn.metrics.accuracy_score(y_test, y_pred))\n",
    "print(\"Precision:\", sklearn.metrics.precision_score(y_test, y_pred))\n",
    "print(\"Recall   :\", sklearn.metrics.recall_score(y_test, y_pred))\n",
    "print(\"F1       :\", sklearn.metrics.f1_score(y_test, y_pred))"
   ]
  },
  {
   "cell_type": "markdown",
   "metadata": {},
   "source": [
    "## Neural network"
   ]
  },
  {
   "cell_type": "code",
   "execution_count": 8,
   "metadata": {
    "scrolled": false
   },
   "outputs": [
    {
     "name": "stdout",
     "output_type": "stream",
     "text": [
      "Accuracy : 0.9217057761732852\n",
      "Precision: 0.921875\n",
      "Recall   : 0.918918918918919\n",
      "F1       : 0.9203945859142005\n"
     ]
    }
   ],
   "source": [
    "mlp = MLPClassifier(hidden_layer_sizes=[10]*10, activation=\"identity\",\n",
    "                    random_state=0).fit(X_train, y_train)\n",
    "\n",
    "y_pred = mlp.predict(X_test)\n",
    "\n",
    "print(\"Accuracy :\", sklearn.metrics.accuracy_score(y_test, y_pred))\n",
    "print(\"Precision:\", sklearn.metrics.precision_score(y_test, y_pred))\n",
    "print(\"Recall   :\", sklearn.metrics.recall_score(y_test, y_pred))\n",
    "print(\"F1       :\", sklearn.metrics.f1_score(y_test, y_pred))"
   ]
  },
  {
   "cell_type": "markdown",
   "metadata": {},
   "source": [
    "## Support-vector machine"
   ]
  },
  {
   "cell_type": "code",
   "execution_count": null,
   "metadata": {},
   "outputs": [],
   "source": [
    "svm = SVC(C=10, kernel=\"rbf\", max_iter = 10000).fit(X_train, y_train)\n",
    "\n",
    "y_pred = svm.predict(X_test)\n",
    "\n",
    "print(\"Accuracy :\", sklearn.metrics.accuracy_score(y_test, y_pred))\n",
    "print(\"Precision:\", sklearn.metrics.precision_score(y_test, y_pred))\n",
    "print(\"Recall   :\", sklearn.metrics.recall_score(y_test, y_pred))\n",
    "print(\"F1       :\", sklearn.metrics.f1_score(y_test, y_pred))"
   ]
  },
  {
   "cell_type": "markdown",
   "metadata": {},
   "source": [
    "## Logistic Regression"
   ]
  },
  {
   "cell_type": "code",
   "execution_count": 11,
   "metadata": {},
   "outputs": [
    {
     "name": "stdout",
     "output_type": "stream",
     "text": [
      "Accuracy : 0.9104241877256317\n",
      "Precision: 0.9055404178019982\n",
      "Recall   : 0.913421896472744\n",
      "F1       : 0.9094640820980615\n"
     ]
    }
   ],
   "source": [
    "# Train solver\n",
    "logr = LogisticRegression(penalty=\"l2\", \n",
    "                          C=20, \n",
    "                          solver=\"newton-cg\",\n",
    "                          n_jobs=-1).fit(X_train, y_train)\n",
    "\n",
    "y_pred = logr.predict(X_test)\n",
    "\n",
    "print(\"Accuracy :\", sklearn.metrics.accuracy_score(y_test, y_pred))\n",
    "print(\"Precision:\", sklearn.metrics.precision_score(y_test, y_pred))\n",
    "print(\"Recall   :\", sklearn.metrics.recall_score(y_test, y_pred))\n",
    "print(\"F1       :\", sklearn.metrics.f1_score(y_test, y_pred))"
   ]
  },
  {
   "cell_type": "markdown",
   "metadata": {},
   "source": [
    "## Ridge Classifier"
   ]
  },
  {
   "cell_type": "code",
   "execution_count": 12,
   "metadata": {},
   "outputs": [
    {
     "name": "stdout",
     "output_type": "stream",
     "text": [
      "Accuracy : 0.9131317689530686\n",
      "Precision: 0.9086363636363637\n",
      "Recall   : 0.9157123224919835\n",
      "F1       : 0.9121606205795119\n"
     ]
    }
   ],
   "source": [
    "ridge = RidgeClassifier(solver=\"auto\", alpha=0.1).fit(X_train, y_train)\n",
    "\n",
    "y_pred = ridge.predict(X_test)\n",
    "\n",
    "print(\"Accuracy :\", sklearn.metrics.accuracy_score(y_test, y_pred))\n",
    "print(\"Precision:\", sklearn.metrics.precision_score(y_test, y_pred))\n",
    "print(\"Recall   :\", sklearn.metrics.recall_score(y_test, y_pred))\n",
    "print(\"F1       :\", sklearn.metrics.f1_score(y_test, y_pred))"
   ]
  },
  {
   "cell_type": "markdown",
   "metadata": {},
   "source": [
    "# Hybrid Machine Learning"
   ]
  },
  {
   "cell_type": "code",
   "execution_count": null,
   "metadata": {},
   "outputs": [],
   "source": [
    "# Predict the label for every video with every optimal model\n",
    "hybrid = equal[[\"video_id\", \"conspiracy\"]]\n",
    "hybrid[\"ridge\"] = ridge.predict(x)\n",
    "hybrid[\"svm\"] = svm.predict(x)\n",
    "hybrid[\"neural_network\"] = mlp.predict(x)\n",
    "hybrid[\"log_reg\"] = logr.predict(x)\n",
    "hybrid[\"knn\"] = knn.predict(x)\n",
    "\n",
    "hybrid.head()"
   ]
  },
  {
   "cell_type": "code",
   "execution_count": null,
   "metadata": {},
   "outputs": [],
   "source": [
    "x2 = hybrid[[\"svm\", \"neural_network\"]].values"
   ]
  },
  {
   "cell_type": "code",
   "execution_count": null,
   "metadata": {},
   "outputs": [],
   "source": [
    "X = x2\n",
    "Y = hybrid['conspiracy'].values.ravel()\n",
    "\n",
    "# 10% of the data will be the test set\n",
    "X_trainval, X_test, y_trainval, y_test = sklearn.model_selection.train_test_split(X, Y, test_size=0.1,\\\n",
    "                                                                                  random_state=0)\n",
    "\n",
    "# of the remaining 90%, 90% will be training set\n",
    "X_train, X_valid, y_train, y_valid = sklearn.model_selection.train_test_split(X_trainval, y_trainval,\\\n",
    "                                                                              train_size=0.9,\\\n",
    "                                                                              random_state=0)"
   ]
  },
  {
   "cell_type": "code",
   "execution_count": null,
   "metadata": {},
   "outputs": [],
   "source": []
  }
 ],
 "metadata": {
  "kernelspec": {
   "display_name": "Python 3",
   "language": "python",
   "name": "python3"
  },
  "language_info": {
   "codemirror_mode": {
    "name": "ipython",
    "version": 3
   },
   "file_extension": ".py",
   "mimetype": "text/x-python",
   "name": "python",
   "nbconvert_exporter": "python",
   "pygments_lexer": "ipython3",
   "version": "3.6.5"
  }
 },
 "nbformat": 4,
 "nbformat_minor": 2
}
