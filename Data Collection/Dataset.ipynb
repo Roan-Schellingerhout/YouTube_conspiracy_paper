{
 "cells": [
  {
   "cell_type": "code",
   "execution_count": 1,
   "metadata": {},
   "outputs": [],
   "source": [
    "import pandas as pd"
   ]
  },
  {
   "cell_type": "code",
   "execution_count": 3,
   "metadata": {},
   "outputs": [],
   "source": [
    "df = pd.read_csv(\"../data/channel_review.csv\")"
   ]
  },
  {
   "cell_type": "code",
   "execution_count": 3,
   "metadata": {},
   "outputs": [
    {
     "data": {
      "text/html": [
       "<div>\n",
       "<style scoped>\n",
       "    .dataframe tbody tr th:only-of-type {\n",
       "        vertical-align: middle;\n",
       "    }\n",
       "\n",
       "    .dataframe tbody tr th {\n",
       "        vertical-align: top;\n",
       "    }\n",
       "\n",
       "    .dataframe thead th {\n",
       "        text-align: right;\n",
       "    }\n",
       "</style>\n",
       "<table border=\"1\" class=\"dataframe\">\n",
       "  <thead>\n",
       "    <tr style=\"text-align: right;\">\n",
       "      <th></th>\n",
       "      <th>CHANNEL_TITLE</th>\n",
       "      <th>TAGS</th>\n",
       "      <th>CHANNEL_ID</th>\n",
       "      <th>LR</th>\n",
       "      <th>RELEVANCE</th>\n",
       "      <th>REVIEWER_LR</th>\n",
       "      <th>REVIEWER_TAGS</th>\n",
       "      <th>REVIEWER_MAIN_CHANNEL_ID</th>\n",
       "      <th>REVIEWER_RELEVANCE</th>\n",
       "      <th>REVIEWER_CODE</th>\n",
       "      <th>UPDATED</th>\n",
       "      <th>PUBLIC_REVIEWER_NOTES</th>\n",
       "      <th>PUBLIC_CREATOR_NOTES</th>\n",
       "    </tr>\n",
       "  </thead>\n",
       "  <tbody>\n",
       "    <tr>\n",
       "      <th>0</th>\n",
       "      <td>Simon Parkes</td>\n",
       "      <td>Conspiracy|PartisanRight|QAnon</td>\n",
       "      <td>UCgzqRRDGThOlH4EHaqSXXPA</td>\n",
       "      <td>R</td>\n",
       "      <td>1.0</td>\n",
       "      <td>R</td>\n",
       "      <td>Conspiracy|QAnon|PartisanRight</td>\n",
       "      <td>NaN</td>\n",
       "      <td>1.0</td>\n",
       "      <td>scl</td>\n",
       "      <td>2021-01-15T04:17:04.3812173Z</td>\n",
       "      <td>NaN</td>\n",
       "      <td>NaN</td>\n",
       "    </tr>\n",
       "    <tr>\n",
       "      <th>1</th>\n",
       "      <td>The Stoa</td>\n",
       "      <td>Educational</td>\n",
       "      <td>UCfI5jzpoUbwP4wkmQ6ZNqbA</td>\n",
       "      <td>C</td>\n",
       "      <td>0.7</td>\n",
       "      <td>C</td>\n",
       "      <td>Educational</td>\n",
       "      <td>NaN</td>\n",
       "      <td>0.7</td>\n",
       "      <td>mar</td>\n",
       "      <td>2021-01-15T03:47:32.3024619Z</td>\n",
       "      <td>NaN</td>\n",
       "      <td>NaN</td>\n",
       "    </tr>\n",
       "    <tr>\n",
       "      <th>2</th>\n",
       "      <td>X22 Report</td>\n",
       "      <td>Conspiracy|PartisanRight|QAnon</td>\n",
       "      <td>UCKXM6nMVQW_VfjwqVAnxvdw</td>\n",
       "      <td>R</td>\n",
       "      <td>0.8</td>\n",
       "      <td>R</td>\n",
       "      <td>Conspiracy|QAnon|PartisanRight</td>\n",
       "      <td>NaN</td>\n",
       "      <td>0.8</td>\n",
       "      <td>scl</td>\n",
       "      <td>2021-01-13T18:02:17.7994256Z</td>\n",
       "      <td>NaN</td>\n",
       "      <td>NaN</td>\n",
       "    </tr>\n",
       "    <tr>\n",
       "      <th>3</th>\n",
       "      <td>Ben Burgis</td>\n",
       "      <td>AntiSJW|Socialist</td>\n",
       "      <td>UCByZMNYpHFEetI0s3deYH2g</td>\n",
       "      <td>L</td>\n",
       "      <td>1.0</td>\n",
       "      <td>L</td>\n",
       "      <td>AntiSJW|Socialist</td>\n",
       "      <td>NaN</td>\n",
       "      <td>1.0</td>\n",
       "      <td>mar</td>\n",
       "      <td>2021-01-12T23:15:20.7923328Z</td>\n",
       "      <td>NaN</td>\n",
       "      <td>NaN</td>\n",
       "    </tr>\n",
       "    <tr>\n",
       "      <th>4</th>\n",
       "      <td>3D to 5D Consciousness</td>\n",
       "      <td>Conspiracy|PartisanRight|QAnon</td>\n",
       "      <td>UC3VlH7lPbKlzVda5aJgyUvQ</td>\n",
       "      <td>R</td>\n",
       "      <td>1.0</td>\n",
       "      <td>R</td>\n",
       "      <td>Conspiracy|QAnon|PartisanRight</td>\n",
       "      <td>NaN</td>\n",
       "      <td>1.0</td>\n",
       "      <td>mar</td>\n",
       "      <td>2021-01-09T04:39:46.7248386Z</td>\n",
       "      <td>NaN</td>\n",
       "      <td>NaN</td>\n",
       "    </tr>\n",
       "  </tbody>\n",
       "</table>\n",
       "</div>"
      ],
      "text/plain": [
       "            CHANNEL_TITLE                            TAGS  \\\n",
       "0            Simon Parkes  Conspiracy|PartisanRight|QAnon   \n",
       "1                The Stoa                     Educational   \n",
       "2              X22 Report  Conspiracy|PartisanRight|QAnon   \n",
       "3              Ben Burgis               AntiSJW|Socialist   \n",
       "4  3D to 5D Consciousness  Conspiracy|PartisanRight|QAnon   \n",
       "\n",
       "                 CHANNEL_ID LR  RELEVANCE REVIEWER_LR  \\\n",
       "0  UCgzqRRDGThOlH4EHaqSXXPA  R        1.0           R   \n",
       "1  UCfI5jzpoUbwP4wkmQ6ZNqbA  C        0.7           C   \n",
       "2  UCKXM6nMVQW_VfjwqVAnxvdw  R        0.8           R   \n",
       "3  UCByZMNYpHFEetI0s3deYH2g  L        1.0           L   \n",
       "4  UC3VlH7lPbKlzVda5aJgyUvQ  R        1.0           R   \n",
       "\n",
       "                    REVIEWER_TAGS REVIEWER_MAIN_CHANNEL_ID  \\\n",
       "0  Conspiracy|QAnon|PartisanRight                      NaN   \n",
       "1                     Educational                      NaN   \n",
       "2  Conspiracy|QAnon|PartisanRight                      NaN   \n",
       "3               AntiSJW|Socialist                      NaN   \n",
       "4  Conspiracy|QAnon|PartisanRight                      NaN   \n",
       "\n",
       "   REVIEWER_RELEVANCE REVIEWER_CODE                       UPDATED  \\\n",
       "0                 1.0           scl  2021-01-15T04:17:04.3812173Z   \n",
       "1                 0.7           mar  2021-01-15T03:47:32.3024619Z   \n",
       "2                 0.8           scl  2021-01-13T18:02:17.7994256Z   \n",
       "3                 1.0           mar  2021-01-12T23:15:20.7923328Z   \n",
       "4                 1.0           mar  2021-01-09T04:39:46.7248386Z   \n",
       "\n",
       "  PUBLIC_REVIEWER_NOTES PUBLIC_CREATOR_NOTES  \n",
       "0                   NaN                  NaN  \n",
       "1                   NaN                  NaN  \n",
       "2                   NaN                  NaN  \n",
       "3                   NaN                  NaN  \n",
       "4                   NaN                  NaN  "
      ]
     },
     "execution_count": 3,
     "metadata": {},
     "output_type": "execute_result"
    }
   ],
   "source": [
    "df.head()"
   ]
  },
  {
   "cell_type": "code",
   "execution_count": 4,
   "metadata": {},
   "outputs": [],
   "source": [
    "df = df.drop(['REVIEWER_LR', 'REVIEWER_TAGS', 'REVIEWER_MAIN_CHANNEL_ID', 'REVIEWER_RELEVANCE', 'REVIEWER_CODE', 'UPDATED', 'PUBLIC_REVIEWER_NOTES', 'PUBLIC_CREATOR_NOTES'], axis = 1).dropna(subset=['TAGS']) "
   ]
  },
  {
   "cell_type": "code",
   "execution_count": 5,
   "metadata": {},
   "outputs": [
    {
     "data": {
      "text/html": [
       "<div>\n",
       "<style scoped>\n",
       "    .dataframe tbody tr th:only-of-type {\n",
       "        vertical-align: middle;\n",
       "    }\n",
       "\n",
       "    .dataframe tbody tr th {\n",
       "        vertical-align: top;\n",
       "    }\n",
       "\n",
       "    .dataframe thead th {\n",
       "        text-align: right;\n",
       "    }\n",
       "</style>\n",
       "<table border=\"1\" class=\"dataframe\">\n",
       "  <thead>\n",
       "    <tr style=\"text-align: right;\">\n",
       "      <th></th>\n",
       "      <th>CHANNEL_TITLE</th>\n",
       "      <th>TAGS</th>\n",
       "      <th>CHANNEL_ID</th>\n",
       "      <th>LR</th>\n",
       "      <th>RELEVANCE</th>\n",
       "    </tr>\n",
       "  </thead>\n",
       "  <tbody>\n",
       "    <tr>\n",
       "      <th>0</th>\n",
       "      <td>Simon Parkes</td>\n",
       "      <td>Conspiracy|PartisanRight|QAnon</td>\n",
       "      <td>UCgzqRRDGThOlH4EHaqSXXPA</td>\n",
       "      <td>R</td>\n",
       "      <td>1.0</td>\n",
       "    </tr>\n",
       "    <tr>\n",
       "      <th>1</th>\n",
       "      <td>The Stoa</td>\n",
       "      <td>Educational</td>\n",
       "      <td>UCfI5jzpoUbwP4wkmQ6ZNqbA</td>\n",
       "      <td>C</td>\n",
       "      <td>0.7</td>\n",
       "    </tr>\n",
       "    <tr>\n",
       "      <th>2</th>\n",
       "      <td>X22 Report</td>\n",
       "      <td>Conspiracy|PartisanRight|QAnon</td>\n",
       "      <td>UCKXM6nMVQW_VfjwqVAnxvdw</td>\n",
       "      <td>R</td>\n",
       "      <td>0.8</td>\n",
       "    </tr>\n",
       "    <tr>\n",
       "      <th>3</th>\n",
       "      <td>Ben Burgis</td>\n",
       "      <td>AntiSJW|Socialist</td>\n",
       "      <td>UCByZMNYpHFEetI0s3deYH2g</td>\n",
       "      <td>L</td>\n",
       "      <td>1.0</td>\n",
       "    </tr>\n",
       "    <tr>\n",
       "      <th>4</th>\n",
       "      <td>3D to 5D Consciousness</td>\n",
       "      <td>Conspiracy|PartisanRight|QAnon</td>\n",
       "      <td>UC3VlH7lPbKlzVda5aJgyUvQ</td>\n",
       "      <td>R</td>\n",
       "      <td>1.0</td>\n",
       "    </tr>\n",
       "  </tbody>\n",
       "</table>\n",
       "</div>"
      ],
      "text/plain": [
       "            CHANNEL_TITLE                            TAGS  \\\n",
       "0            Simon Parkes  Conspiracy|PartisanRight|QAnon   \n",
       "1                The Stoa                     Educational   \n",
       "2              X22 Report  Conspiracy|PartisanRight|QAnon   \n",
       "3              Ben Burgis               AntiSJW|Socialist   \n",
       "4  3D to 5D Consciousness  Conspiracy|PartisanRight|QAnon   \n",
       "\n",
       "                 CHANNEL_ID LR  RELEVANCE  \n",
       "0  UCgzqRRDGThOlH4EHaqSXXPA  R        1.0  \n",
       "1  UCfI5jzpoUbwP4wkmQ6ZNqbA  C        0.7  \n",
       "2  UCKXM6nMVQW_VfjwqVAnxvdw  R        0.8  \n",
       "3  UCByZMNYpHFEetI0s3deYH2g  L        1.0  \n",
       "4  UC3VlH7lPbKlzVda5aJgyUvQ  R        1.0  "
      ]
     },
     "execution_count": 5,
     "metadata": {},
     "output_type": "execute_result"
    }
   ],
   "source": [
    "df = df.drop_duplicates()\n",
    "df.reset_index().drop([\"index\"], axis=1).head()"
   ]
  },
  {
   "cell_type": "code",
   "execution_count": 6,
   "metadata": {},
   "outputs": [
    {
     "data": {
      "text/plain": [
       "6881"
      ]
     },
     "execution_count": 6,
     "metadata": {},
     "output_type": "execute_result"
    }
   ],
   "source": [
    "df[\"CHANNEL_ID\"].nunique()"
   ]
  },
  {
   "cell_type": "code",
   "execution_count": 7,
   "metadata": {},
   "outputs": [
    {
     "data": {
      "text/plain": [
       "R    4071\n",
       "C    1909\n",
       "L     895\n",
       "Name: LR, dtype: int64"
      ]
     },
     "execution_count": 7,
     "metadata": {},
     "output_type": "execute_result"
    }
   ],
   "source": [
    "df[\"LR\"].value_counts()"
   ]
  },
  {
   "cell_type": "code",
   "execution_count": 8,
   "metadata": {},
   "outputs": [],
   "source": [
    "split_df = pd.DataFrame()"
   ]
  },
  {
   "cell_type": "code",
   "execution_count": 9,
   "metadata": {},
   "outputs": [],
   "source": [
    "channels = []\n",
    "con = []\n",
    "ids = []\n",
    "lr = []\n",
    "\n",
    "for row in df.iterrows():\n",
    "    channels.append(row[1][\"CHANNEL_TITLE\"])\n",
    "    ids.append(row[1][\"CHANNEL_ID\"])\n",
    "    lr.append(row[1][\"LR\"])\n",
    "\n",
    "    if \"Conspiracy\" in row[1][\"TAGS\"] or \"QAnon\" in row[1][\"TAGS\"]:\n",
    "        con.append(True)\n",
    "    else:\n",
    "        con.append(False)\n",
    "\n",
    "        \n",
    "split_df[\"Channel_name\"] = channels\n",
    "split_df[\"Conspiracy\"] = con\n",
    "split_df[\"Channel_id\"] = ids\n",
    "split_df[\"LR\"] = lr"
   ]
  },
  {
   "cell_type": "code",
   "execution_count": 10,
   "metadata": {},
   "outputs": [
    {
     "data": {
      "text/html": [
       "<div>\n",
       "<style scoped>\n",
       "    .dataframe tbody tr th:only-of-type {\n",
       "        vertical-align: middle;\n",
       "    }\n",
       "\n",
       "    .dataframe tbody tr th {\n",
       "        vertical-align: top;\n",
       "    }\n",
       "\n",
       "    .dataframe thead th {\n",
       "        text-align: right;\n",
       "    }\n",
       "</style>\n",
       "<table border=\"1\" class=\"dataframe\">\n",
       "  <thead>\n",
       "    <tr style=\"text-align: right;\">\n",
       "      <th></th>\n",
       "      <th>Channel_name</th>\n",
       "      <th>Conspiracy</th>\n",
       "      <th>Channel_id</th>\n",
       "      <th>LR</th>\n",
       "    </tr>\n",
       "  </thead>\n",
       "  <tbody>\n",
       "    <tr>\n",
       "      <th>0</th>\n",
       "      <td>Simon Parkes</td>\n",
       "      <td>True</td>\n",
       "      <td>UCgzqRRDGThOlH4EHaqSXXPA</td>\n",
       "      <td>R</td>\n",
       "    </tr>\n",
       "    <tr>\n",
       "      <th>1</th>\n",
       "      <td>The Stoa</td>\n",
       "      <td>False</td>\n",
       "      <td>UCfI5jzpoUbwP4wkmQ6ZNqbA</td>\n",
       "      <td>C</td>\n",
       "    </tr>\n",
       "    <tr>\n",
       "      <th>2</th>\n",
       "      <td>X22 Report</td>\n",
       "      <td>True</td>\n",
       "      <td>UCKXM6nMVQW_VfjwqVAnxvdw</td>\n",
       "      <td>R</td>\n",
       "    </tr>\n",
       "    <tr>\n",
       "      <th>3</th>\n",
       "      <td>Ben Burgis</td>\n",
       "      <td>False</td>\n",
       "      <td>UCByZMNYpHFEetI0s3deYH2g</td>\n",
       "      <td>L</td>\n",
       "    </tr>\n",
       "    <tr>\n",
       "      <th>4</th>\n",
       "      <td>3D to 5D Consciousness</td>\n",
       "      <td>True</td>\n",
       "      <td>UC3VlH7lPbKlzVda5aJgyUvQ</td>\n",
       "      <td>R</td>\n",
       "    </tr>\n",
       "    <tr>\n",
       "      <th>5</th>\n",
       "      <td>Eaglefortonight_2</td>\n",
       "      <td>True</td>\n",
       "      <td>UC5CZBQIOfhZj8y9YAQAzPRA</td>\n",
       "      <td>R</td>\n",
       "    </tr>\n",
       "    <tr>\n",
       "      <th>6</th>\n",
       "      <td>The Tipping Point Radio</td>\n",
       "      <td>True</td>\n",
       "      <td>UCnnsAVzVztZZd2voe-EUF0w</td>\n",
       "      <td>R</td>\n",
       "    </tr>\n",
       "    <tr>\n",
       "      <th>7</th>\n",
       "      <td>The Hidden Things in Front of Your Eyes</td>\n",
       "      <td>True</td>\n",
       "      <td>UCz-1G_PzQZ5fZVYjfoz_4CQ</td>\n",
       "      <td>R</td>\n",
       "    </tr>\n",
       "    <tr>\n",
       "      <th>8</th>\n",
       "      <td>Pryme Minister</td>\n",
       "      <td>True</td>\n",
       "      <td>UCEm6sfz7w7lhiRGbbyGtXhA</td>\n",
       "      <td>R</td>\n",
       "    </tr>\n",
       "    <tr>\n",
       "      <th>9</th>\n",
       "      <td>THE LIONS REPUBLIC</td>\n",
       "      <td>True</td>\n",
       "      <td>UCaJ8FsMMnefU7NXdMaXW8WQ</td>\n",
       "      <td>R</td>\n",
       "    </tr>\n",
       "  </tbody>\n",
       "</table>\n",
       "</div>"
      ],
      "text/plain": [
       "                              Channel_name  Conspiracy  \\\n",
       "0                             Simon Parkes        True   \n",
       "1                                 The Stoa       False   \n",
       "2                               X22 Report        True   \n",
       "3                               Ben Burgis       False   \n",
       "4                   3D to 5D Consciousness        True   \n",
       "5                        Eaglefortonight_2        True   \n",
       "6                  The Tipping Point Radio        True   \n",
       "7  The Hidden Things in Front of Your Eyes        True   \n",
       "8                           Pryme Minister        True   \n",
       "9                       THE LIONS REPUBLIC        True   \n",
       "\n",
       "                 Channel_id LR  \n",
       "0  UCgzqRRDGThOlH4EHaqSXXPA  R  \n",
       "1  UCfI5jzpoUbwP4wkmQ6ZNqbA  C  \n",
       "2  UCKXM6nMVQW_VfjwqVAnxvdw  R  \n",
       "3  UCByZMNYpHFEetI0s3deYH2g  L  \n",
       "4  UC3VlH7lPbKlzVda5aJgyUvQ  R  \n",
       "5  UC5CZBQIOfhZj8y9YAQAzPRA  R  \n",
       "6  UCnnsAVzVztZZd2voe-EUF0w  R  \n",
       "7  UCz-1G_PzQZ5fZVYjfoz_4CQ  R  \n",
       "8  UCEm6sfz7w7lhiRGbbyGtXhA  R  \n",
       "9  UCaJ8FsMMnefU7NXdMaXW8WQ  R  "
      ]
     },
     "execution_count": 10,
     "metadata": {},
     "output_type": "execute_result"
    }
   ],
   "source": [
    "split_df.head(10)"
   ]
  },
  {
   "cell_type": "code",
   "execution_count": 11,
   "metadata": {},
   "outputs": [
    {
     "data": {
      "text/plain": [
       "False    4421\n",
       "True     2460\n",
       "Name: Conspiracy, dtype: int64"
      ]
     },
     "execution_count": 11,
     "metadata": {},
     "output_type": "execute_result"
    }
   ],
   "source": [
    "split_df[\"Conspiracy\"].value_counts()"
   ]
  },
  {
   "cell_type": "code",
   "execution_count": 12,
   "metadata": {},
   "outputs": [],
   "source": [
    "split_df.to_csv(\"../data/dataset_boolean.csv\")"
   ]
  },
  {
   "cell_type": "code",
   "execution_count": null,
   "metadata": {},
   "outputs": [],
   "source": []
  }
 ],
 "metadata": {
  "kernelspec": {
   "display_name": "Python 3",
   "language": "python",
   "name": "python3"
  },
  "language_info": {
   "codemirror_mode": {
    "name": "ipython",
    "version": 3
   },
   "file_extension": ".py",
   "mimetype": "text/x-python",
   "name": "python",
   "nbconvert_exporter": "python",
   "pygments_lexer": "ipython3",
   "version": "3.6.5"
  }
 },
 "nbformat": 4,
 "nbformat_minor": 2
}
