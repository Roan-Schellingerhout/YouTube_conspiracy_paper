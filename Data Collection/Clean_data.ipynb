{
 "cells": [
  {
   "cell_type": "code",
   "execution_count": 40,
   "metadata": {},
   "outputs": [],
   "source": [
    "import pandas as pd\n",
    "import string\n",
    "import re\n",
    "\n",
    "from tqdm import tqdm\n",
    "from tqdm.auto import tqdm\n",
    "\n",
    "from translate import Translator\n",
    "from langdetect import detect\n",
    "\n",
    "from nltk.stem.porter import *\n",
    "from nltk.corpus import stopwords  \n",
    "from nltk.tokenize import word_tokenize"
   ]
  },
  {
   "cell_type": "markdown",
   "metadata": {},
   "source": [
    "# Laad de data in"
   ]
  },
  {
   "cell_type": "code",
   "execution_count": 43,
   "metadata": {},
   "outputs": [],
   "source": [
    "df = pd.read_csv(\"../data/uploads.csv\").drop(\"Unnamed: 0\", axis=1)"
   ]
  },
  {
   "cell_type": "code",
   "execution_count": 44,
   "metadata": {},
   "outputs": [
    {
     "data": {
      "text/html": [
       "<div>\n",
       "<style scoped>\n",
       "    .dataframe tbody tr th:only-of-type {\n",
       "        vertical-align: middle;\n",
       "    }\n",
       "\n",
       "    .dataframe tbody tr th {\n",
       "        vertical-align: top;\n",
       "    }\n",
       "\n",
       "    .dataframe thead th {\n",
       "        text-align: right;\n",
       "    }\n",
       "</style>\n",
       "<table border=\"1\" class=\"dataframe\">\n",
       "  <thead>\n",
       "    <tr style=\"text-align: right;\">\n",
       "      <th></th>\n",
       "      <th>channel</th>\n",
       "      <th>video_id</th>\n",
       "      <th>title</th>\n",
       "      <th>description</th>\n",
       "      <th>conspiracy</th>\n",
       "      <th>transcript</th>\n",
       "    </tr>\n",
       "  </thead>\n",
       "  <tbody>\n",
       "    <tr>\n",
       "      <th>65679</th>\n",
       "      <td>UCgRvm1yLFoaQKhmaTqXk9SA</td>\n",
       "      <td>tt6yWP2VWOU</td>\n",
       "      <td>New Zealand's Push for Gun Reform, Explained |...</td>\n",
       "      <td>New Zealand is making some big changes. Their ...</td>\n",
       "      <td>False</td>\n",
       "      <td>New Zealand is making some big changes. [ARDEN...</td>\n",
       "    </tr>\n",
       "    <tr>\n",
       "      <th>65680</th>\n",
       "      <td>UCgRvm1yLFoaQKhmaTqXk9SA</td>\n",
       "      <td>t7pmHD8rqOA</td>\n",
       "      <td>The Rise and Fall of Myanmar’s Aung San Suu Ky...</td>\n",
       "      <td>A non-violent freedom fighter? A war crimes ap...</td>\n",
       "      <td>False</td>\n",
       "      <td>A non-violent freedom fighter?  War crimes apo...</td>\n",
       "    </tr>\n",
       "    <tr>\n",
       "      <th>65681</th>\n",
       "      <td>UCgRvm1yLFoaQKhmaTqXk9SA</td>\n",
       "      <td>K7pzjFOe7X0</td>\n",
       "      <td>Spain's Plan to Quit the Coal Industry Explain...</td>\n",
       "      <td>Climate change is happening. And one industry ...</td>\n",
       "      <td>False</td>\n",
       "      <td>Climate change is happening. And one industry ...</td>\n",
       "    </tr>\n",
       "    <tr>\n",
       "      <th>65682</th>\n",
       "      <td>UCgRvm1yLFoaQKhmaTqXk9SA</td>\n",
       "      <td>KpYxFouaTvk</td>\n",
       "      <td>How Costa Rica Avoided Cold War Violence | Now...</td>\n",
       "      <td>Costa Rica has sometimes been called “the Swit...</td>\n",
       "      <td>False</td>\n",
       "      <td>Costa Rica has sometimes been called  “the Swi...</td>\n",
       "    </tr>\n",
       "    <tr>\n",
       "      <th>65683</th>\n",
       "      <td>UCgRvm1yLFoaQKhmaTqXk9SA</td>\n",
       "      <td>BiulFh5uAyM</td>\n",
       "      <td>Trump’s Historic 'National Emergency’ Explaine...</td>\n",
       "      <td>President Donald Trump has declared a national...</td>\n",
       "      <td>False</td>\n",
       "      <td>What you’re about to see… is a historic moment...</td>\n",
       "    </tr>\n",
       "  </tbody>\n",
       "</table>\n",
       "</div>"
      ],
      "text/plain": [
       "                        channel     video_id  \\\n",
       "65679  UCgRvm1yLFoaQKhmaTqXk9SA  tt6yWP2VWOU   \n",
       "65680  UCgRvm1yLFoaQKhmaTqXk9SA  t7pmHD8rqOA   \n",
       "65681  UCgRvm1yLFoaQKhmaTqXk9SA  K7pzjFOe7X0   \n",
       "65682  UCgRvm1yLFoaQKhmaTqXk9SA  KpYxFouaTvk   \n",
       "65683  UCgRvm1yLFoaQKhmaTqXk9SA  BiulFh5uAyM   \n",
       "\n",
       "                                                   title  \\\n",
       "65679  New Zealand's Push for Gun Reform, Explained |...   \n",
       "65680  The Rise and Fall of Myanmar’s Aung San Suu Ky...   \n",
       "65681  Spain's Plan to Quit the Coal Industry Explain...   \n",
       "65682  How Costa Rica Avoided Cold War Violence | Now...   \n",
       "65683  Trump’s Historic 'National Emergency’ Explaine...   \n",
       "\n",
       "                                             description  conspiracy  \\\n",
       "65679  New Zealand is making some big changes. Their ...       False   \n",
       "65680  A non-violent freedom fighter? A war crimes ap...       False   \n",
       "65681  Climate change is happening. And one industry ...       False   \n",
       "65682  Costa Rica has sometimes been called “the Swit...       False   \n",
       "65683  President Donald Trump has declared a national...       False   \n",
       "\n",
       "                                              transcript  \n",
       "65679  New Zealand is making some big changes. [ARDEN...  \n",
       "65680  A non-violent freedom fighter?  War crimes apo...  \n",
       "65681  Climate change is happening. And one industry ...  \n",
       "65682  Costa Rica has sometimes been called  “the Swi...  \n",
       "65683  What you’re about to see… is a historic moment...  "
      ]
     },
     "execution_count": 44,
     "metadata": {},
     "output_type": "execute_result"
    }
   ],
   "source": [
    "df.tail()"
   ]
  },
  {
   "cell_type": "markdown",
   "metadata": {},
   "source": [
    "# Data opschonen"
   ]
  },
  {
   "cell_type": "code",
   "execution_count": 45,
   "metadata": {},
   "outputs": [
    {
     "data": {
      "text/plain": [
       "False    43528\n",
       "True     22156\n",
       "Name: conspiracy, dtype: int64"
      ]
     },
     "execution_count": 45,
     "metadata": {},
     "output_type": "execute_result"
    }
   ],
   "source": [
    "df[\"conspiracy\"].value_counts()"
   ]
  },
  {
   "cell_type": "code",
   "execution_count": 46,
   "metadata": {},
   "outputs": [
    {
     "data": {
      "text/html": [
       "<div>\n",
       "<style scoped>\n",
       "    .dataframe tbody tr th:only-of-type {\n",
       "        vertical-align: middle;\n",
       "    }\n",
       "\n",
       "    .dataframe tbody tr th {\n",
       "        vertical-align: top;\n",
       "    }\n",
       "\n",
       "    .dataframe thead th {\n",
       "        text-align: right;\n",
       "    }\n",
       "</style>\n",
       "<table border=\"1\" class=\"dataframe\">\n",
       "  <thead>\n",
       "    <tr style=\"text-align: right;\">\n",
       "      <th></th>\n",
       "      <th>channel</th>\n",
       "      <th>video_id</th>\n",
       "      <th>title</th>\n",
       "      <th>description</th>\n",
       "      <th>conspiracy</th>\n",
       "      <th>transcript</th>\n",
       "    </tr>\n",
       "  </thead>\n",
       "  <tbody>\n",
       "    <tr>\n",
       "      <th>0</th>\n",
       "      <td>UCH9gafn41oPg7s6bQwiMwTg</td>\n",
       "      <td>hgOdDCd6N10</td>\n",
       "      <td>Islam Beats Feminism</td>\n",
       "      <td>Your rights end where my stone begins, motherf...</td>\n",
       "      <td>False</td>\n",
       "      <td>[Music] what do you get when you combine a gan...</td>\n",
       "    </tr>\n",
       "    <tr>\n",
       "      <th>1</th>\n",
       "      <td>UCHr26UnUE_FHYtAXc_ddfgg</td>\n",
       "      <td>um-kBMGmW5k</td>\n",
       "      <td>24 Hours at Burning Man 2019 ... Micro Edition</td>\n",
       "      <td>A little taste of Burning Man 2019 .... expect...</td>\n",
       "      <td>False</td>\n",
       "      <td>NaN</td>\n",
       "    </tr>\n",
       "    <tr>\n",
       "      <th>2</th>\n",
       "      <td>UCsu6NM_ARGWzDwL1C9xEhqA</td>\n",
       "      <td>9Z2CMOdLoB8</td>\n",
       "      <td>Police Reform</td>\n",
       "      <td>NaN</td>\n",
       "      <td>False</td>\n",
       "      <td>in a time of turmoil and injustice the world c...</td>\n",
       "    </tr>\n",
       "    <tr>\n",
       "      <th>3</th>\n",
       "      <td>UCTjxmzChimJa3X_rAgLAnxg</td>\n",
       "      <td>GNJny3dtmoQ</td>\n",
       "      <td>\"Careers\"</td>\n",
       "      <td>Jobs not careers!\\n\\nSupport my video-making! ...</td>\n",
       "      <td>False</td>\n",
       "      <td>hi everyone so the other day i got a notificat...</td>\n",
       "    </tr>\n",
       "    <tr>\n",
       "      <th>4</th>\n",
       "      <td>UCaoSDiNkFmGQfvhvZMWxOHw</td>\n",
       "      <td>lOoCe0OZgvc</td>\n",
       "      <td>How Was Socrates Able to Predict the Civil Unr...</td>\n",
       "      <td>Comments on current events with economist, Mar...</td>\n",
       "      <td>False</td>\n",
       "      <td>how did socrates forecast the civil unrest tha...</td>\n",
       "    </tr>\n",
       "  </tbody>\n",
       "</table>\n",
       "</div>"
      ],
      "text/plain": [
       "                    channel     video_id  \\\n",
       "0  UCH9gafn41oPg7s6bQwiMwTg  hgOdDCd6N10   \n",
       "1  UCHr26UnUE_FHYtAXc_ddfgg  um-kBMGmW5k   \n",
       "2  UCsu6NM_ARGWzDwL1C9xEhqA  9Z2CMOdLoB8   \n",
       "3  UCTjxmzChimJa3X_rAgLAnxg  GNJny3dtmoQ   \n",
       "4  UCaoSDiNkFmGQfvhvZMWxOHw  lOoCe0OZgvc   \n",
       "\n",
       "                                               title  \\\n",
       "0                               Islam Beats Feminism   \n",
       "1     24 Hours at Burning Man 2019 ... Micro Edition   \n",
       "2                                      Police Reform   \n",
       "3                                          \"Careers\"   \n",
       "4  How Was Socrates Able to Predict the Civil Unr...   \n",
       "\n",
       "                                         description  conspiracy  \\\n",
       "0  Your rights end where my stone begins, motherf...       False   \n",
       "1  A little taste of Burning Man 2019 .... expect...       False   \n",
       "2                                                NaN       False   \n",
       "3  Jobs not careers!\\n\\nSupport my video-making! ...       False   \n",
       "4  Comments on current events with economist, Mar...       False   \n",
       "\n",
       "                                          transcript  \n",
       "0  [Music] what do you get when you combine a gan...  \n",
       "1                                                NaN  \n",
       "2  in a time of turmoil and injustice the world c...  \n",
       "3  hi everyone so the other day i got a notificat...  \n",
       "4  how did socrates forecast the civil unrest tha...  "
      ]
     },
     "execution_count": 46,
     "metadata": {},
     "output_type": "execute_result"
    }
   ],
   "source": [
    "# Balanceer de classes\n",
    "nc = df[df[\"conspiracy\"] == False].sample(22156)\n",
    "c = df[df[\"conspiracy\"] == True]\n",
    "\n",
    "equal = pd.concat([nc, c]).reset_index().drop(\"index\", axis=1)\n",
    "equal.head()"
   ]
  },
  {
   "cell_type": "code",
   "execution_count": 47,
   "metadata": {},
   "outputs": [],
   "source": [
    "# Vul lege cellen en lowercase\n",
    "equal[\"transcript\"] = equal[\"transcript\"].fillna(\"\")\n",
    "equal[\"title\"] = equal[\"title\"].fillna(\"\")\n",
    "equal[\"description\"] = equal[\"description\"].fillna(\"\")\n",
    "\n",
    "equal[\"transcript\"] = equal[\"transcript\"].str.lower()\n",
    "equal[\"title\"] = equal[\"title\"].str.lower()\n",
    "equal[\"description\"] = equal[\"description\"].str.lower()"
   ]
  },
  {
   "cell_type": "code",
   "execution_count": 48,
   "metadata": {},
   "outputs": [],
   "source": [
    "# Voeg titel, beschrijving en transcript samen tot één kolom\n",
    "equal[\"full_text\"] = equal[\"title\"] + \" \" + equal[\"description\"] + \" \" + equal[\"transcript\"]\n",
    "\n",
    "equal = equal.drop([\"title\", \"description\", \"transcript\"], axis = 1)"
   ]
  },
  {
   "cell_type": "code",
   "execution_count": 49,
   "metadata": {},
   "outputs": [],
   "source": [
    "def translate_text(text):\n",
    "    try:\n",
    "        # Detect language\n",
    "        lang = detect(text)\n",
    "        # If the text is not in English, translate it, otherwise just return\n",
    "        if lang != \"en\":\n",
    "            translator = Translator(to_lang=\"en\", from_lang=lang)\n",
    "            return translator.translate(text)\n",
    "        else:\n",
    "            return text\n",
    "    except: # Return empty texts as-is\n",
    "        return text"
   ]
  },
  {
   "cell_type": "code",
   "execution_count": 50,
   "metadata": {},
   "outputs": [
    {
     "data": {
      "application/vnd.jupyter.widget-view+json": {
       "model_id": "ad08bea2553c424c82589127600eb536",
       "version_major": 2,
       "version_minor": 0
      },
      "text/plain": [
       "  0%|          | 0/44312 [00:00<?, ?it/s]"
      ]
     },
     "metadata": {},
     "output_type": "display_data"
    }
   ],
   "source": [
    "tqdm.pandas()\n",
    "# Vertaal alle text naar het Engels\n",
    "equal['full_text'] = equal['full_text'].progress_apply(lambda txt: translate_text(txt))"
   ]
  },
  {
   "cell_type": "code",
   "execution_count": 51,
   "metadata": {},
   "outputs": [],
   "source": [
    "stemmer = PorterStemmer()\n",
    "stop_words = set(stopwords.words('english'))"
   ]
  },
  {
   "cell_type": "code",
   "execution_count": 52,
   "metadata": {},
   "outputs": [],
   "source": [
    "def stem_text(text):\n",
    "    stripped = [word.strip(string.punctuation) for word in word_tokenize(text) if word not in stop_words]\n",
    "    return \" \".join([stemmer.stem(word) for word in stripped if word])"
   ]
  },
  {
   "cell_type": "code",
   "execution_count": 53,
   "metadata": {},
   "outputs": [
    {
     "data": {
      "application/vnd.jupyter.widget-view+json": {
       "model_id": "f84ace64abd24f079ef9df9e719e0c86",
       "version_major": 2,
       "version_minor": 0
      },
      "text/plain": [
       "  0%|          | 0/44312 [00:00<?, ?it/s]"
      ]
     },
     "metadata": {},
     "output_type": "display_data"
    }
   ],
   "source": [
    "# Stem transcripts en verwijder stopwords\n",
    "equal['full_text'] = equal['full_text'].progress_apply(lambda text: stem_text(text))"
   ]
  },
  {
   "cell_type": "code",
   "execution_count": 54,
   "metadata": {},
   "outputs": [],
   "source": [
    "equal[\"full_text\"].fillna(\"\", inplace=True)"
   ]
  },
  {
   "cell_type": "code",
   "execution_count": 55,
   "metadata": {},
   "outputs": [],
   "source": [
    "equal.to_csv(\"training_videos.csv\")"
   ]
  },
  {
   "cell_type": "code",
   "execution_count": null,
   "metadata": {},
   "outputs": [],
   "source": []
  }
 ],
 "metadata": {
  "kernelspec": {
   "display_name": "Python 3",
   "language": "python",
   "name": "python3"
  },
  "language_info": {
   "codemirror_mode": {
    "name": "ipython",
    "version": 3
   },
   "file_extension": ".py",
   "mimetype": "text/x-python",
   "name": "python",
   "nbconvert_exporter": "python",
   "pygments_lexer": "ipython3",
   "version": "3.6.5"
  }
 },
 "nbformat": 4,
 "nbformat_minor": 2
}
