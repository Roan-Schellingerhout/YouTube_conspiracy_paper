{
 "cells": [
  {
   "cell_type": "code",
   "execution_count": 13,
   "metadata": {},
   "outputs": [],
   "source": [
    "import pandas as pd\n",
    "import string\n",
    "import re\n",
    "import time\n",
    "\n",
    "from tqdm import tqdm\n",
    "from tqdm.auto import tqdm\n",
    "\n",
    "from deep_translator import GoogleTranslator\n",
    "from langdetect import detect\n",
    "\n",
    "from nltk.stem.porter import *\n",
    "from nltk.corpus import stopwords  \n",
    "from nltk.tokenize import word_tokenize"
   ]
  },
  {
   "cell_type": "markdown",
   "metadata": {},
   "source": [
    "# Laad de data in"
   ]
  },
  {
   "cell_type": "code",
   "execution_count": 2,
   "metadata": {},
   "outputs": [],
   "source": [
    "df = pd.read_csv(\"../data/uploads.csv\").drop(\"Unnamed: 0\", axis=1)"
   ]
  },
  {
   "cell_type": "code",
   "execution_count": 3,
   "metadata": {},
   "outputs": [],
   "source": [
    "df2 = pd.read_csv(\"../data/channels.csv\").drop(\"Unnamed: 0\", axis=1)[[\"channel\", \"channel_description\", \"keywords\"]]"
   ]
  },
  {
   "cell_type": "code",
   "execution_count": 4,
   "metadata": {},
   "outputs": [],
   "source": [
    "df = pd.merge(df, df2, left_on=\"channel\", right_on=\"channel\")"
   ]
  },
  {
   "cell_type": "code",
   "execution_count": 5,
   "metadata": {},
   "outputs": [
    {
     "data": {
      "text/html": [
       "<div>\n",
       "<style scoped>\n",
       "    .dataframe tbody tr th:only-of-type {\n",
       "        vertical-align: middle;\n",
       "    }\n",
       "\n",
       "    .dataframe tbody tr th {\n",
       "        vertical-align: top;\n",
       "    }\n",
       "\n",
       "    .dataframe thead th {\n",
       "        text-align: right;\n",
       "    }\n",
       "</style>\n",
       "<table border=\"1\" class=\"dataframe\">\n",
       "  <thead>\n",
       "    <tr style=\"text-align: right;\">\n",
       "      <th></th>\n",
       "      <th>channel</th>\n",
       "      <th>video_id</th>\n",
       "      <th>title</th>\n",
       "      <th>description</th>\n",
       "      <th>conspiracy</th>\n",
       "      <th>transcript</th>\n",
       "      <th>channel_description</th>\n",
       "      <th>keywords</th>\n",
       "    </tr>\n",
       "  </thead>\n",
       "  <tbody>\n",
       "    <tr>\n",
       "      <th>0</th>\n",
       "      <td>UCgzqRRDGThOlH4EHaqSXXPA</td>\n",
       "      <td>Eve8U63jOCA</td>\n",
       "      <td>16th January Update</td>\n",
       "      <td>www.simonparkes.org\\n\\nTelegram:\\nhttps://t.me...</td>\n",
       "      <td>True</td>\n",
       "      <td>hello and just to let you know that i'm doing ...</td>\n",
       "      <td>NaN</td>\n",
       "      <td>NaN</td>\n",
       "    </tr>\n",
       "    <tr>\n",
       "      <th>1</th>\n",
       "      <td>UCgzqRRDGThOlH4EHaqSXXPA</td>\n",
       "      <td>T24xqK23NPk</td>\n",
       "      <td>13th January Update</td>\n",
       "      <td>Bitchute Channel:\\nhttps://www.bitchute.com/si...</td>\n",
       "      <td>True</td>\n",
       "      <td>hello and welcome to another update it's the 1...</td>\n",
       "      <td>NaN</td>\n",
       "      <td>NaN</td>\n",
       "    </tr>\n",
       "    <tr>\n",
       "      <th>2</th>\n",
       "      <td>UCgzqRRDGThOlH4EHaqSXXPA</td>\n",
       "      <td>IJAR8FYdDcE</td>\n",
       "      <td>12th January Second Update Current News</td>\n",
       "      <td>To Join Connecting Consciousness:\\nhttps://con...</td>\n",
       "      <td>True</td>\n",
       "      <td>hello and just a another quick update just to ...</td>\n",
       "      <td>NaN</td>\n",
       "      <td>NaN</td>\n",
       "    </tr>\n",
       "    <tr>\n",
       "      <th>3</th>\n",
       "      <td>UCgzqRRDGThOlH4EHaqSXXPA</td>\n",
       "      <td>NJej_CUkV8E</td>\n",
       "      <td>11th January Second Update Current News</td>\n",
       "      <td>www.simonparkes.org\\n\\nTo Join Connecting Cons...</td>\n",
       "      <td>True</td>\n",
       "      <td>hello uh just a very very very quick update it...</td>\n",
       "      <td>NaN</td>\n",
       "      <td>NaN</td>\n",
       "    </tr>\n",
       "    <tr>\n",
       "      <th>4</th>\n",
       "      <td>UCgzqRRDGThOlH4EHaqSXXPA</td>\n",
       "      <td>as9IEvaC9XA</td>\n",
       "      <td>11th January Update Current News</td>\n",
       "      <td>www.simonparkes.org\\n\\nTo Join Connecting Cons...</td>\n",
       "      <td>True</td>\n",
       "      <td>hello and welcome to a sort of flying update i...</td>\n",
       "      <td>NaN</td>\n",
       "      <td>NaN</td>\n",
       "    </tr>\n",
       "  </tbody>\n",
       "</table>\n",
       "</div>"
      ],
      "text/plain": [
       "                    channel     video_id  \\\n",
       "0  UCgzqRRDGThOlH4EHaqSXXPA  Eve8U63jOCA   \n",
       "1  UCgzqRRDGThOlH4EHaqSXXPA  T24xqK23NPk   \n",
       "2  UCgzqRRDGThOlH4EHaqSXXPA  IJAR8FYdDcE   \n",
       "3  UCgzqRRDGThOlH4EHaqSXXPA  NJej_CUkV8E   \n",
       "4  UCgzqRRDGThOlH4EHaqSXXPA  as9IEvaC9XA   \n",
       "\n",
       "                                     title  \\\n",
       "0                      16th January Update   \n",
       "1                      13th January Update   \n",
       "2  12th January Second Update Current News   \n",
       "3  11th January Second Update Current News   \n",
       "4         11th January Update Current News   \n",
       "\n",
       "                                         description  conspiracy  \\\n",
       "0  www.simonparkes.org\\n\\nTelegram:\\nhttps://t.me...        True   \n",
       "1  Bitchute Channel:\\nhttps://www.bitchute.com/si...        True   \n",
       "2  To Join Connecting Consciousness:\\nhttps://con...        True   \n",
       "3  www.simonparkes.org\\n\\nTo Join Connecting Cons...        True   \n",
       "4  www.simonparkes.org\\n\\nTo Join Connecting Cons...        True   \n",
       "\n",
       "                                          transcript channel_description  \\\n",
       "0  hello and just to let you know that i'm doing ...                 NaN   \n",
       "1  hello and welcome to another update it's the 1...                 NaN   \n",
       "2  hello and just a another quick update just to ...                 NaN   \n",
       "3  hello uh just a very very very quick update it...                 NaN   \n",
       "4  hello and welcome to a sort of flying update i...                 NaN   \n",
       "\n",
       "  keywords  \n",
       "0      NaN  \n",
       "1      NaN  \n",
       "2      NaN  \n",
       "3      NaN  \n",
       "4      NaN  "
      ]
     },
     "execution_count": 5,
     "metadata": {},
     "output_type": "execute_result"
    }
   ],
   "source": [
    "df.head()"
   ]
  },
  {
   "cell_type": "markdown",
   "metadata": {},
   "source": [
    "# Data opschonen"
   ]
  },
  {
   "cell_type": "code",
   "execution_count": 6,
   "metadata": {},
   "outputs": [
    {
     "data": {
      "text/plain": [
       "False    43528\n",
       "True     22156\n",
       "Name: conspiracy, dtype: int64"
      ]
     },
     "execution_count": 6,
     "metadata": {},
     "output_type": "execute_result"
    }
   ],
   "source": [
    "df[\"conspiracy\"].value_counts()"
   ]
  },
  {
   "cell_type": "code",
   "execution_count": 7,
   "metadata": {},
   "outputs": [
    {
     "data": {
      "text/html": [
       "<div>\n",
       "<style scoped>\n",
       "    .dataframe tbody tr th:only-of-type {\n",
       "        vertical-align: middle;\n",
       "    }\n",
       "\n",
       "    .dataframe tbody tr th {\n",
       "        vertical-align: top;\n",
       "    }\n",
       "\n",
       "    .dataframe thead th {\n",
       "        text-align: right;\n",
       "    }\n",
       "</style>\n",
       "<table border=\"1\" class=\"dataframe\">\n",
       "  <thead>\n",
       "    <tr style=\"text-align: right;\">\n",
       "      <th></th>\n",
       "      <th>channel</th>\n",
       "      <th>video_id</th>\n",
       "      <th>title</th>\n",
       "      <th>description</th>\n",
       "      <th>conspiracy</th>\n",
       "      <th>transcript</th>\n",
       "      <th>channel_description</th>\n",
       "      <th>keywords</th>\n",
       "    </tr>\n",
       "  </thead>\n",
       "  <tbody>\n",
       "    <tr>\n",
       "      <th>0</th>\n",
       "      <td>UCyuAKnN3g2fZ7_R9irgEUZQ</td>\n",
       "      <td>SECdW8n4ZGw</td>\n",
       "      <td>How Abraham Lincoln Came to Power</td>\n",
       "      <td>How did Abraham Lincoln come to power? This vi...</td>\n",
       "      <td>False</td>\n",
       "      <td>I’m back. Abraham Lincoln was America's 16th p...</td>\n",
       "      <td>I create video essays about history. If you li...</td>\n",
       "      <td>history \"animated history\" \"history videos\" \"h...</td>\n",
       "    </tr>\n",
       "    <tr>\n",
       "      <th>1</th>\n",
       "      <td>UCAtdV6VWa02UpCB2YHuVmHg</td>\n",
       "      <td>jSXIrZx8lI4</td>\n",
       "      <td>Thanksgiving Celebration  Announcement -  Unio...</td>\n",
       "      <td>On November 21st, 2020 we’ll be serving a Than...</td>\n",
       "      <td>False</td>\n",
       "      <td>our world has changed the way we approach each...</td>\n",
       "      <td>Union Rescue Mission (URM) is a nonprofit orga...</td>\n",
       "      <td>homelessness homeless los angeles LA skid row ...</td>\n",
       "    </tr>\n",
       "    <tr>\n",
       "      <th>2</th>\n",
       "      <td>UCASQzDb4SUC0gZNPbwBubIQ</td>\n",
       "      <td>s0YjJVyyVjI</td>\n",
       "      <td>UNC Health's mobile clinic aims to reduce raci...</td>\n",
       "      <td>In their efforts to equitably distribute COVID...</td>\n",
       "      <td>False</td>\n",
       "      <td>We have just found that when the word is\\ngett...</td>\n",
       "      <td>News from The News &amp; Observer, serving Chapel ...</td>\n",
       "      <td>\"Triangle news\" \"Raleigh news\" \"North Carolina...</td>\n",
       "    </tr>\n",
       "    <tr>\n",
       "      <th>3</th>\n",
       "      <td>UC_giJ3xlEL9jUF1YfJdzzuQ</td>\n",
       "      <td>VMHCvdRdq10</td>\n",
       "      <td>Establishing Impurity Acceptance Criteria as P...</td>\n",
       "      <td>Submit questions on this poster to DMFWorkshop...</td>\n",
       "      <td>False</td>\n",
       "      <td>- [Yongjun] Welcome.\\nMy name is Yongjun Gao. ...</td>\n",
       "      <td>The FDA is responsible for protecting the publ...</td>\n",
       "      <td>FDA recall drug safety device vaccine food US ...</td>\n",
       "    </tr>\n",
       "    <tr>\n",
       "      <th>4</th>\n",
       "      <td>UCT8RMFbTJV5ILaVykrluOQg</td>\n",
       "      <td>KKiR4FWOZ4w</td>\n",
       "      <td>Ten panda cubs make public debut ahead of Spri...</td>\n",
       "      <td>Ten panda cubs born in 2020 at a breeding base...</td>\n",
       "      <td>False</td>\n",
       "      <td>NaN</td>\n",
       "      <td>We strive to provide global audiences with new...</td>\n",
       "      <td>CCTVEnglish CCTVNews CCTV英文 CCTV 中央电视台 CCTV4 C...</td>\n",
       "    </tr>\n",
       "  </tbody>\n",
       "</table>\n",
       "</div>"
      ],
      "text/plain": [
       "                    channel     video_id  \\\n",
       "0  UCyuAKnN3g2fZ7_R9irgEUZQ  SECdW8n4ZGw   \n",
       "1  UCAtdV6VWa02UpCB2YHuVmHg  jSXIrZx8lI4   \n",
       "2  UCASQzDb4SUC0gZNPbwBubIQ  s0YjJVyyVjI   \n",
       "3  UC_giJ3xlEL9jUF1YfJdzzuQ  VMHCvdRdq10   \n",
       "4  UCT8RMFbTJV5ILaVykrluOQg  KKiR4FWOZ4w   \n",
       "\n",
       "                                               title  \\\n",
       "0                  How Abraham Lincoln Came to Power   \n",
       "1  Thanksgiving Celebration  Announcement -  Unio...   \n",
       "2  UNC Health's mobile clinic aims to reduce raci...   \n",
       "3  Establishing Impurity Acceptance Criteria as P...   \n",
       "4  Ten panda cubs make public debut ahead of Spri...   \n",
       "\n",
       "                                         description  conspiracy  \\\n",
       "0  How did Abraham Lincoln come to power? This vi...       False   \n",
       "1  On November 21st, 2020 we’ll be serving a Than...       False   \n",
       "2  In their efforts to equitably distribute COVID...       False   \n",
       "3  Submit questions on this poster to DMFWorkshop...       False   \n",
       "4  Ten panda cubs born in 2020 at a breeding base...       False   \n",
       "\n",
       "                                          transcript  \\\n",
       "0  I’m back. Abraham Lincoln was America's 16th p...   \n",
       "1  our world has changed the way we approach each...   \n",
       "2  We have just found that when the word is\\ngett...   \n",
       "3  - [Yongjun] Welcome.\\nMy name is Yongjun Gao. ...   \n",
       "4                                                NaN   \n",
       "\n",
       "                                 channel_description  \\\n",
       "0  I create video essays about history. If you li...   \n",
       "1  Union Rescue Mission (URM) is a nonprofit orga...   \n",
       "2  News from The News & Observer, serving Chapel ...   \n",
       "3  The FDA is responsible for protecting the publ...   \n",
       "4  We strive to provide global audiences with new...   \n",
       "\n",
       "                                            keywords  \n",
       "0  history \"animated history\" \"history videos\" \"h...  \n",
       "1  homelessness homeless los angeles LA skid row ...  \n",
       "2  \"Triangle news\" \"Raleigh news\" \"North Carolina...  \n",
       "3  FDA recall drug safety device vaccine food US ...  \n",
       "4  CCTVEnglish CCTVNews CCTV英文 CCTV 中央电视台 CCTV4 C...  "
      ]
     },
     "execution_count": 7,
     "metadata": {},
     "output_type": "execute_result"
    }
   ],
   "source": [
    "# Balanceer de classes\n",
    "nc = df[df[\"conspiracy\"] == False].sample(22156)\n",
    "c = df[df[\"conspiracy\"] == True]\n",
    "\n",
    "equal = pd.concat([nc, c]).reset_index().drop(\"index\", axis=1)\n",
    "equal.head()"
   ]
  },
  {
   "cell_type": "code",
   "execution_count": 8,
   "metadata": {},
   "outputs": [],
   "source": [
    "# Vul lege cellen en lowercase\n",
    "equal[\"transcript\"] = equal[\"transcript\"].fillna(\"\")\n",
    "equal[\"title\"] = equal[\"title\"].fillna(\"\")\n",
    "equal[\"description\"] = equal[\"description\"].fillna(\"\")\n",
    "equal[\"keywords\"] = equal[\"keywords\"].fillna(\"\")\n",
    "equal[\"channel_description\"] = equal[\"channel_description\"].fillna(\"\")\n",
    "\n",
    "equal[\"transcript\"] = equal[\"transcript\"].str.lower()\n",
    "equal[\"title\"] = equal[\"title\"].str.lower()\n",
    "equal[\"description\"] = equal[\"description\"].str.lower()\n",
    "equal[\"keywords\"] = equal[\"keywords\"].str.lower()\n",
    "equal[\"channel_description\"] = equal[\"channel_description\"].str.lower()"
   ]
  },
  {
   "cell_type": "code",
   "execution_count": 9,
   "metadata": {},
   "outputs": [],
   "source": [
    "# Voeg titel, beschrijving en transcript samen tot één kolom\n",
    "equal[\"full_text\"] = equal[\"title\"] + \" \" + equal[\"description\"] + \" \" + equal[\"transcript\"]\\\n",
    "                     + \" \" + equal[\"channel_description\"] + \" \" + equal[\"keywords\"]\n",
    "\n",
    "equal = equal.drop([\"title\", \"description\", \"transcript\", \"keywords\", \"channel_description\"], axis = 1)"
   ]
  },
  {
   "cell_type": "code",
   "execution_count": 14,
   "metadata": {},
   "outputs": [],
   "source": [
    "def translate_text(text):\n",
    "    # Detect language\n",
    "    lang = detect(text)\n",
    "    # If the text is not in English, translate it, otherwise just return\n",
    "    if lang != \"en\":\n",
    "        #The translator only handles texts of less than 5000 characters, so we have to split the text\n",
    "        if len(text) >= 5000:\n",
    "            text_split = [text[start:start+4999] for start in range(0, len(text), 4999)]\n",
    "            try:\n",
    "                return ''.join([GoogleTranslator(source=\"auto\", target='en').translate(txt) for txt in text_split])\n",
    "            # Deal with connections stutters\n",
    "            except Exception as e:\n",
    "                print(e)\n",
    "                # Wait three seconds to let the connection stablize\n",
    "                time.sleep(3)\n",
    "                # Try again, and if it still doesn't work, return the plain text\n",
    "                try:\n",
    "                    return ''.join([GoogleTranslator(source=\"auto\", target='en').translate(txt) for txt in text_split])\n",
    "                except:\n",
    "                    return text\n",
    "                \n",
    "        else:\n",
    "            # Deal with connection issues\n",
    "            try:\n",
    "                return GoogleTranslator(source=lang, target=\"en\").translate(text)\n",
    "            except Exception as e:\n",
    "                print(e)\n",
    "                time.sleep(3)\n",
    "                try:\n",
    "                    return GoogleTranslator(source=lang, target=\"en\").translate(text)\n",
    "                except:\n",
    "                    return text\n",
    "    \n",
    "    else:\n",
    "        return text"
   ]
  },
  {
   "cell_type": "code",
   "execution_count": 15,
   "metadata": {},
   "outputs": [
    {
     "data": {
      "application/vnd.jupyter.widget-view+json": {
       "model_id": "9e4756362e8a4470a6b71945c5e27b4a",
       "version_major": 2,
       "version_minor": 0
      },
      "text/plain": [
       "  0%|          | 0/44312 [00:00<?, ?it/s]"
      ]
     },
     "metadata": {},
     "output_type": "display_data"
    },
    {
     "name": "stdout",
     "output_type": "stream",
     "text": [
      "Request exception can happen due to an api connection error. Please check your connection and try again\n",
      "Request exception can happen due to an api connection error. Please check your connection and try again\n",
      "Request exception can happen due to an api connection error. Please check your connection and try again\n"
     ]
    }
   ],
   "source": [
    "tqdm.pandas()\n",
    "# Vertaal alle text naar het Engels\n",
    "equal['full_text'] = equal['full_text'].progress_apply(lambda txt: translate_text(txt))"
   ]
  },
  {
   "cell_type": "code",
   "execution_count": 23,
   "metadata": {},
   "outputs": [
    {
     "data": {
      "application/vnd.jupyter.widget-view+json": {
       "model_id": "bd0133531b074abd81c3fb54b8c47494",
       "version_major": 2,
       "version_minor": 0
      },
      "text/plain": [
       "  0%|          | 0/44312 [00:00<?, ?it/s]"
      ]
     },
     "metadata": {},
     "output_type": "display_data"
    }
   ],
   "source": [
    "# Remove emoji's and other weird characters\n",
    "equal[\"full_text\"] = equal[\"full_text\"].progress_apply(lambda text: text.encode(\"ascii\", \"ignore\").decode())"
   ]
  },
  {
   "cell_type": "code",
   "execution_count": 25,
   "metadata": {},
   "outputs": [],
   "source": [
    "stemmer = PorterStemmer()\n",
    "stop_words = set(stopwords.words('english'))"
   ]
  },
  {
   "cell_type": "code",
   "execution_count": 26,
   "metadata": {},
   "outputs": [],
   "source": [
    "def stem_text(text):\n",
    "    stripped = [word.strip(string.punctuation) for word in word_tokenize(text) if word not in stop_words]\n",
    "    return \" \".join([stemmer.stem(word) for word in stripped if word])"
   ]
  },
  {
   "cell_type": "code",
   "execution_count": 27,
   "metadata": {},
   "outputs": [
    {
     "data": {
      "application/vnd.jupyter.widget-view+json": {
       "model_id": "8700f68b2c294083a7099c4965f5ae69",
       "version_major": 2,
       "version_minor": 0
      },
      "text/plain": [
       "  0%|          | 0/44312 [00:00<?, ?it/s]"
      ]
     },
     "metadata": {},
     "output_type": "display_data"
    }
   ],
   "source": [
    "# Stem transcripts en verwijder stopwords\n",
    "equal['full_text'] = equal['full_text'].progress_apply(lambda text: stem_text(text))"
   ]
  },
  {
   "cell_type": "code",
   "execution_count": 28,
   "metadata": {},
   "outputs": [],
   "source": [
    "equal[\"full_text\"].fillna(\"\", inplace=True)"
   ]
  },
  {
   "cell_type": "code",
   "execution_count": 29,
   "metadata": {},
   "outputs": [],
   "source": [
    "equal.to_csv(\"training_videos.csv\")"
   ]
  },
  {
   "cell_type": "code",
   "execution_count": null,
   "metadata": {},
   "outputs": [],
   "source": []
  }
 ],
 "metadata": {
  "kernelspec": {
   "display_name": "Python 3",
   "language": "python",
   "name": "python3"
  },
  "language_info": {
   "codemirror_mode": {
    "name": "ipython",
    "version": 3
   },
   "file_extension": ".py",
   "mimetype": "text/x-python",
   "name": "python",
   "nbconvert_exporter": "python",
   "pygments_lexer": "ipython3",
   "version": "3.6.5"
  }
 },
 "nbformat": 4,
 "nbformat_minor": 2
}
