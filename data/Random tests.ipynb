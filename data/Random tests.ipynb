{
 "cells": [
  {
   "cell_type": "code",
   "execution_count": 1,
   "metadata": {},
   "outputs": [],
   "source": [
    "import pandas as pd\n",
    "import numpy as np\n",
    "\n",
    "from sklearn.feature_extraction.text import TfidfVectorizer\n",
    "from sklearn.neighbors import NearestNeighbors"
   ]
  },
  {
   "cell_type": "code",
   "execution_count": 2,
   "metadata": {},
   "outputs": [],
   "source": [
    "df = pd.read_csv(\"uploads.csv\")\n",
    "df_2 = pd.read_csv(\"channels.csv\")"
   ]
  },
  {
   "cell_type": "code",
   "execution_count": 3,
   "metadata": {},
   "outputs": [],
   "source": [
    "df = pd.merge(df, df_2, left_on=\"channel\", right_on=\"channel\")"
   ]
  },
  {
   "cell_type": "code",
   "execution_count": 4,
   "metadata": {
    "scrolled": false
   },
   "outputs": [
    {
     "data": {
      "text/html": [
       "<div>\n",
       "<style scoped>\n",
       "    .dataframe tbody tr th:only-of-type {\n",
       "        vertical-align: middle;\n",
       "    }\n",
       "\n",
       "    .dataframe tbody tr th {\n",
       "        vertical-align: top;\n",
       "    }\n",
       "\n",
       "    .dataframe thead th {\n",
       "        text-align: right;\n",
       "    }\n",
       "</style>\n",
       "<table border=\"1\" class=\"dataframe\">\n",
       "  <thead>\n",
       "    <tr style=\"text-align: right;\">\n",
       "      <th></th>\n",
       "      <th>Unnamed: 0_x</th>\n",
       "      <th>channel</th>\n",
       "      <th>video_id</th>\n",
       "      <th>title</th>\n",
       "      <th>description</th>\n",
       "      <th>conspiracy_x</th>\n",
       "      <th>transcript</th>\n",
       "      <th>Unnamed: 0_y</th>\n",
       "      <th>channel_description</th>\n",
       "      <th>country</th>\n",
       "      <th>keywords</th>\n",
       "      <th>uploads</th>\n",
       "      <th>conspiracy_y</th>\n",
       "    </tr>\n",
       "  </thead>\n",
       "  <tbody>\n",
       "    <tr>\n",
       "      <th>60573</th>\n",
       "      <td>60573</td>\n",
       "      <td>UCHuJRxaJssaumjcv9aLZ21Q</td>\n",
       "      <td>zEMV0t5fKDE</td>\n",
       "      <td>Coast Guard hoists skier mauled by bear near H...</td>\n",
       "      <td>https://george.news | An MH-60 Jayhawk helicop...</td>\n",
       "      <td>True</td>\n",
       "      <td>get into orbit here while he's uh assessing 10...</td>\n",
       "      <td>5985</td>\n",
       "      <td>Welcome to GEORGEnews! On this Channel, we bri...</td>\n",
       "      <td>US</td>\n",
       "      <td>\"george news\" georgenews george \"military vide...</td>\n",
       "      <td>UUHuJRxaJssaumjcv9aLZ21Q</td>\n",
       "      <td>True</td>\n",
       "    </tr>\n",
       "  </tbody>\n",
       "</table>\n",
       "</div>"
      ],
      "text/plain": [
       "       Unnamed: 0_x                   channel     video_id  \\\n",
       "60573         60573  UCHuJRxaJssaumjcv9aLZ21Q  zEMV0t5fKDE   \n",
       "\n",
       "                                                   title  \\\n",
       "60573  Coast Guard hoists skier mauled by bear near H...   \n",
       "\n",
       "                                             description  conspiracy_x  \\\n",
       "60573  https://george.news | An MH-60 Jayhawk helicop...          True   \n",
       "\n",
       "                                              transcript  Unnamed: 0_y  \\\n",
       "60573  get into orbit here while he's uh assessing 10...          5985   \n",
       "\n",
       "                                     channel_description country  \\\n",
       "60573  Welcome to GEORGEnews! On this Channel, we bri...      US   \n",
       "\n",
       "                                                keywords  \\\n",
       "60573  \"george news\" georgenews george \"military vide...   \n",
       "\n",
       "                        uploads  conspiracy_y  \n",
       "60573  UUHuJRxaJssaumjcv9aLZ21Q          True  "
      ]
     },
     "execution_count": 4,
     "metadata": {},
     "output_type": "execute_result"
    }
   ],
   "source": [
    "df[df[\"conspiracy_x\"]].dropna().sample()"
   ]
  },
  {
   "cell_type": "code",
   "execution_count": 5,
   "metadata": {},
   "outputs": [],
   "source": [
    "example = df.dropna().sample(20)"
   ]
  },
  {
   "cell_type": "code",
   "execution_count": 6,
   "metadata": {},
   "outputs": [],
   "source": [
    "example = example.drop([\"Unnamed: 0_x\", \"Unnamed: 0_y\", \"conspiracy_x\", \"country\", \"uploads\"], axis=1).head()"
   ]
  },
  {
   "cell_type": "code",
   "execution_count": 7,
   "metadata": {},
   "outputs": [
    {
     "data": {
      "text/html": [
       "<div>\n",
       "<style scoped>\n",
       "    .dataframe tbody tr th:only-of-type {\n",
       "        vertical-align: middle;\n",
       "    }\n",
       "\n",
       "    .dataframe tbody tr th {\n",
       "        vertical-align: top;\n",
       "    }\n",
       "\n",
       "    .dataframe thead th {\n",
       "        text-align: right;\n",
       "    }\n",
       "</style>\n",
       "<table border=\"1\" class=\"dataframe\">\n",
       "  <thead>\n",
       "    <tr style=\"text-align: right;\">\n",
       "      <th></th>\n",
       "      <th>channel</th>\n",
       "      <th>video_id</th>\n",
       "      <th>title</th>\n",
       "      <th>description</th>\n",
       "      <th>transcript</th>\n",
       "      <th>channel_description</th>\n",
       "      <th>keywords</th>\n",
       "      <th>conspiracy_y</th>\n",
       "    </tr>\n",
       "  </thead>\n",
       "  <tbody>\n",
       "    <tr>\n",
       "      <th>49768</th>\n",
       "      <td>UCl9s0VpZwQuvTCyZj_VtCwg</td>\n",
       "      <td>ZV0jYdjWZ1k</td>\n",
       "      <td>Biden's Secretary of Treasury Is SUPER SUS</td>\n",
       "      <td>Biden's Secretary of Treasury Is SUPER SUS\\nGE...</td>\n",
       "      <td>personally i do think there is a bit of irony ...</td>\n",
       "      <td>I love Israel and Google. Proud member of the ...</td>\n",
       "      <td>Sinatra_Says Entertainment Comedy</td>\n",
       "      <td>False</td>\n",
       "    </tr>\n",
       "    <tr>\n",
       "      <th>61628</th>\n",
       "      <td>UCPxpPT4b4vnDlX0sBGz3r4Q</td>\n",
       "      <td>JG-W7QKozMc</td>\n",
       "      <td>💥 Robin Hoodwinked</td>\n",
       "      <td>Subscribe to my Patreon channel: \\nhttps://www...</td>\n",
       "      <td>hey guys i'm following this whole uh gamestop ...</td>\n",
       "      <td>This channel is to help younger guys figure ou...</td>\n",
       "      <td>\"Gonzalo Lira\" \"How to for men\" \"help for youn...</td>\n",
       "      <td>False</td>\n",
       "    </tr>\n",
       "    <tr>\n",
       "      <th>15429</th>\n",
       "      <td>UCYS_irLajkGTUa6h9RgqVug</td>\n",
       "      <td>lyUNUdNOBQ4</td>\n",
       "      <td>Uncovering Aliens \"Bright Lights and Abductions\"</td>\n",
       "      <td>Filmed in North Myrtle Beach....</td>\n",
       "      <td>there are more UFO sightings than ever before ...</td>\n",
       "      <td>Researcher and student of histories, early tea...</td>\n",
       "      <td>Art Science Astronomy Hermes Rosicrucian Human...</td>\n",
       "      <td>True</td>\n",
       "    </tr>\n",
       "    <tr>\n",
       "      <th>65562</th>\n",
       "      <td>UC554eY5jNUfDq3yDOJYirOQ</td>\n",
       "      <td>F_UvIiPcX4g</td>\n",
       "      <td>Louis Rossman Explains The Truth About GameSto...</td>\n",
       "      <td>Louis Rossman talks to Destiny to address the ...</td>\n",
       "      <td>i think anger can be really good um because yo...</td>\n",
       "      <td>Here you will find intellectual talks, pseudo-...</td>\n",
       "      <td>destiny news politics \"steven bonnell\" breakin...</td>\n",
       "      <td>False</td>\n",
       "    </tr>\n",
       "    <tr>\n",
       "      <th>26222</th>\n",
       "      <td>UCXM41_LNsR4sIYRS64UJSGQ</td>\n",
       "      <td>berPkmG2W-4</td>\n",
       "      <td>Genesis Session 6 of 41 (Chapter 4:1-26) - A C...</td>\n",
       "      <td>- Please SUBSCRIBE to our channel.  Subscripti...</td>\n",
       "      <td>[Music] [Music] so let's turn to the book of g...</td>\n",
       "      <td>Ephesians 4:12 - For the perfecting of the sai...</td>\n",
       "      <td>\"Chuck Missler\" \"Nancy Missler\" Missler \"Koino...</td>\n",
       "      <td>True</td>\n",
       "    </tr>\n",
       "  </tbody>\n",
       "</table>\n",
       "</div>"
      ],
      "text/plain": [
       "                        channel     video_id  \\\n",
       "49768  UCl9s0VpZwQuvTCyZj_VtCwg  ZV0jYdjWZ1k   \n",
       "61628  UCPxpPT4b4vnDlX0sBGz3r4Q  JG-W7QKozMc   \n",
       "15429  UCYS_irLajkGTUa6h9RgqVug  lyUNUdNOBQ4   \n",
       "65562  UC554eY5jNUfDq3yDOJYirOQ  F_UvIiPcX4g   \n",
       "26222  UCXM41_LNsR4sIYRS64UJSGQ  berPkmG2W-4   \n",
       "\n",
       "                                                   title  \\\n",
       "49768         Biden's Secretary of Treasury Is SUPER SUS   \n",
       "61628                                 💥 Robin Hoodwinked   \n",
       "15429   Uncovering Aliens \"Bright Lights and Abductions\"   \n",
       "65562  Louis Rossman Explains The Truth About GameSto...   \n",
       "26222  Genesis Session 6 of 41 (Chapter 4:1-26) - A C...   \n",
       "\n",
       "                                             description  \\\n",
       "49768  Biden's Secretary of Treasury Is SUPER SUS\\nGE...   \n",
       "61628  Subscribe to my Patreon channel: \\nhttps://www...   \n",
       "15429                   Filmed in North Myrtle Beach....   \n",
       "65562  Louis Rossman talks to Destiny to address the ...   \n",
       "26222  - Please SUBSCRIBE to our channel.  Subscripti...   \n",
       "\n",
       "                                              transcript  \\\n",
       "49768  personally i do think there is a bit of irony ...   \n",
       "61628  hey guys i'm following this whole uh gamestop ...   \n",
       "15429  there are more UFO sightings than ever before ...   \n",
       "65562  i think anger can be really good um because yo...   \n",
       "26222  [Music] [Music] so let's turn to the book of g...   \n",
       "\n",
       "                                     channel_description  \\\n",
       "49768  I love Israel and Google. Proud member of the ...   \n",
       "61628  This channel is to help younger guys figure ou...   \n",
       "15429  Researcher and student of histories, early tea...   \n",
       "65562  Here you will find intellectual talks, pseudo-...   \n",
       "26222  Ephesians 4:12 - For the perfecting of the sai...   \n",
       "\n",
       "                                                keywords  conspiracy_y  \n",
       "49768                  Sinatra_Says Entertainment Comedy         False  \n",
       "61628  \"Gonzalo Lira\" \"How to for men\" \"help for youn...         False  \n",
       "15429  Art Science Astronomy Hermes Rosicrucian Human...          True  \n",
       "65562  destiny news politics \"steven bonnell\" breakin...         False  \n",
       "26222  \"Chuck Missler\" \"Nancy Missler\" Missler \"Koino...          True  "
      ]
     },
     "execution_count": 7,
     "metadata": {},
     "output_type": "execute_result"
    }
   ],
   "source": [
    "example"
   ]
  },
  {
   "cell_type": "code",
   "execution_count": 8,
   "metadata": {},
   "outputs": [],
   "source": [
    "views = np.random.randint(1000, 100000, 5)"
   ]
  },
  {
   "cell_type": "code",
   "execution_count": 9,
   "metadata": {},
   "outputs": [],
   "source": [
    "likes = np.random.randint(10, 4000, 5)"
   ]
  },
  {
   "cell_type": "code",
   "execution_count": 10,
   "metadata": {},
   "outputs": [],
   "source": [
    "dislikes = np.random.randint(0, 50, 5)"
   ]
  },
  {
   "cell_type": "code",
   "execution_count": 11,
   "metadata": {},
   "outputs": [],
   "source": [
    "video_duration = np.random.randint(120, 900, 5)"
   ]
  },
  {
   "cell_type": "code",
   "execution_count": 12,
   "metadata": {},
   "outputs": [],
   "source": [
    "example[\"views\"] = views\n",
    "example[\"likes\"] = likes\n",
    "example[\"dislikes\"] = dislikes\n",
    "example[\"video_duration\"] = video_duration"
   ]
  },
  {
   "cell_type": "code",
   "execution_count": 13,
   "metadata": {},
   "outputs": [],
   "source": [
    "example[\"bot_id\"] = [1, 1, 1, 1, 1]\n",
    "example[\"videos_watched\"] = [5, 5, 5, 5, 5]"
   ]
  },
  {
   "cell_type": "code",
   "execution_count": 14,
   "metadata": {},
   "outputs": [],
   "source": [
    "example = example[[\"bot_id\", \"videos_watched\", \"video_id\", \"views\", \"likes\", \"dislikes\", \"video_duration\",\n",
    "                   \"title\", \"description\", \"transcript\", \"channel_description\", \"keywords\", \"conspiracy_y\"]]"
   ]
  },
  {
   "cell_type": "code",
   "execution_count": 15,
   "metadata": {},
   "outputs": [],
   "source": [
    "example = example.rename(columns={\"bot_id\":\"bot\", \n",
    "                                  \"videos_watched\":\"vid_no\", \n",
    "                                  \"channel_description\":\"channel_desc\", \n",
    "                                  \"video_duration\":\"vid_len\",\n",
    "                                  \"conspiracy_y\":\"conspiracy\"})"
   ]
  },
  {
   "cell_type": "code",
   "execution_count": 24,
   "metadata": {},
   "outputs": [
    {
     "name": "stdout",
     "output_type": "stream",
     "text": [
      "<table border=\"1\" class=\"dataframe\">\n",
      "  <thead>\n",
      "    <tr style=\"text-align: right;\">\n",
      "      <th>bot</th>\n",
      "      <th>vid_no</th>\n",
      "      <th>video_id</th>\n",
      "      <th>views</th>\n",
      "      <th>likes</th>\n",
      "      <th>dislikes</th>\n",
      "      <th>vid_len</th>\n",
      "      <th>title</th>\n",
      "      <th>description</th>\n",
      "      <th>transcript</th>\n",
      "      <th>channel_desc</th>\n",
      "      <th>keywords</th>\n",
      "      <th>conspiracy</th>\n",
      "    </tr>\n",
      "  </thead>\n",
      "  <tbody>\n",
      "    <tr>\n",
      "      <td>1</td>\n",
      "      <td>5</td>\n",
      "      <td>ZV0jYdjWZ1k</td>\n",
      "      <td>18832</td>\n",
      "      <td>2623</td>\n",
      "      <td>12</td>\n",
      "      <td>137</td>\n",
      "      <td>Biden's Secretary of Treasury Is SUPER SUS</td>\n",
      "      <td>Biden's Secretary of Treasury Is SUPER SUS\\nGET THE GAME!: https://shop.incelriot.com/sinatra\\nTwitch!: https://www.twitch.tv/sinatra_says\\nStore!: https://sinatra-aquatics.myshopify.com/\\nSend me stuff to unbox:\\n\\nSinatra\\np.o. box 60 \\nElyria, OH\\n44036\\n\\nFOR FED EX OR UPS:\\n\\n345 E. Bridge Street\\nApt 60\\nElyria, Oh\\n44035\\n\\nOther Channels: \\nCreepyPasta: https://www.youtube.com/channel/UCP7Vt82amCBJSuGxZY5wPDw\\nSecond channel: https://www.youtube.com/channel/UCave741nrG8Z8zplLE3GDxQ?view_as=subscriber\\nAquarium channel: https://www.youtube.com/channel/UCAeHwv32g2EWaq54vKcaVsw\\n\\nSocial Media:\\n\\nTwitter: https://twitter.com/Sinatra_Says\\nMinds: https://www.minds.com/Sinatra_Says\\nGab.ai: https://gab.ai/Sinatra_Says\\n\\nSupport the channel:\\n\\nPayPal: https://www.paypal.me/Sinatrasays\\nPatreon: https://www.patreon.com/sinatra_says\\nSubscribeStar: https://www.subscribestar.com/sinatra_says\\nOne Time Donation: https://streamlabs.com/sinatra_sayslivestreams\\nGulf Gear: https://gulf-gear.com/\\n\\nCredits: \\n\\nOriginal video:\\n\\nArtwork done by: @ANTNB4 @Elephant_ITR @manicidiot @StuBertFM @SemajZ\\n\\nBackground FX: \\nhttps://www.youtube.com/channel/UCilPIl-SwFbtsoH8WLnvlfA?&amp;ab_channel=AAVFX\\n\\nhttps://www.youtube.com/channel/UC-kC2CW_Ipi8TvJhzT7Wc_Q?&amp;ab_channel=MatthiasM.de\\n\\nhttps://www.youtube.com/user/CGMeetUp/videos</td>\n",
      "      <td>personally i do think there is a bit of irony seeing the activist groups the union groups et cetera et cetera going you know if i had known this is gonna be the way it was gonna shake out i would not have voted for biden there's a bit of irony in that but a little more sinister on top of that is the stuff nobody really knows and only a few people are talking about and the media is keeping very very quiet because you know for the past four years we had an attack dog media the democracy saving media the heroes that the american people need now we have puff pieces about biden's dog getting an inauguration whatever the [ __ ] that means and pieces about how jill by dr jill biden sorry dr jill biden how jill biden and michelle obama and hillary clinton how snazzy they were dressed that's the media we're gonna see for the next however long till a republican gets back into office and then it's going to be right back to the attack dog media but i want to focus on one specific person a couple of specific articles and one very odd thing happening right now but before we get into it like i've said before on this channel it's almost becoming exhausting to express but youtube [ __ ] me i don't know how else to put it they [ __ ] me and if you want to support the channel you can hit up the stream labs to paypal all that down below it's always greatly appreciated you can also buy the virtue signal card game linked down below to which i am a character in you play as an sjw trying to take over everything but you have to deal with microaggressions from other players one of which i am the link is at the top of the description and i get a little kickback from each purchase i have had a few people buy it a couple have sent the card to me to sign if you want to do the same the link is down below it helps support a small content creator like me the guy making the cards and it's a fun game win-win all around let's ignore the fact that in his first couple of days of office biden got rid of i don't know a few thousand tens of thousand union jobs affecting not only the people working on the pipeline pissing off canada simultaneously i can't imagine pissing off canada it gets rid of jobs down to a local level for me because my local ford plant is now shutting and not shutting it is now permanently laying off a [ __ ] ton of workers because of the pipeline shutdown so things have wider effect the price of insulin skyrocketed epinephrine epipens skyrocketed you know pretty normal stuff but i want to focus on one person one single person and that's janet yellen now you might go who the [ __ ] is janet yellen and why do i care well i'm gonna tell you janet yellen is biden's pick for the secretary of the treasury which is pretty odd considering some of the stuff she's already said janet yellen says the treasury should focus on workers women and minorities women and minorities i think there is one specific demographic left out of that and it is the biggest working demographic in the country now you again might be thinking to yourself well what makes janet yellen so special well she is the first woman to ever be the secretary of the treasury and and okay one more real important thing about her just the little thing that it's it's the sub headline it's somewhere buried in the article you know it's not really promoted it's not really talked about too much now what might that be well good old yellen here has been with the federal reserve you know that federal bank that's not federal at all that backs all of our currency that manipulates all of our currency that gives us all of our money well yeah she's been with them for oh 26 years 27 years so let's recap up to this point okay we're gonna do this a couple of times janet yellen the woman you're looking at now who worked for the federal reserve for 30 years wants biden to do a 1.9 stimulus package 1.9 trillion dollar stimulus package the smartest thing is to go big she says so we would have to borrow 1.9 trillion from her former employer but ignore all that because literally the first thing in the article is she is the first female so ignore all the wonky stuff about borrowing money from her old bosses blah blah blah which i'm sure she gets no kickback from at all not at all no no no no no ignore all that it's the first female you know what else makes her very hmm what is the right word here suspicious besides the fact that she is a private business lobbyist who has been in with the federal reserve for 30 years and is advocating for taking money from her old employer her stance is on china naturally as the secretary of the treasury she would be a forefront for the china china she would be a forefront with dealing with them and you know how much they respect women over there first off second off her policy on china is quote less known end quote very vague language but she supported open trade with the in the international trading system and an indication that she like many on the biden team would be a moderate voice yellen in the past has acknowledged concerns about china's industrial practices but appeared skeptical that the use of tariffs would help the us achieve its goals can you imagine my shock my absolute shock to learn that somebody from the biden team has a real soft stance on what china does and imports and all that man it's almost it's almost like there was some deal made there that china you know we're not going to get into conspiratorial stuff but if you want the evidence you can look for it i for one am curtailed by what i can say on here but if you just there's a reason there is a reason people call him beijing biden that's all i'm going to say about that and i think the pick of janet yellen is a very strong indicator of where the priorities are not so much with the american people but for the bought and paid campaign by wow i had something caught in my uh got a frog in my throat hunter took money from china and gave it to joe man all right sorry about that did that work was that subtle enough but there's one final thing that makes me very concerned about good old yelling here and i don't know what she's yelling about but one i do know what she's yelling about actually and it's the fact that cryptocurrency exists and cryptocurrency is a untraceable b unregulated and c not government fingery there's no stinky wet miner-coated children in cryptocurrencies from the government janet yelling said yelling janet yellen suggests curtailing cryptocurrencies such as bitcoin saying that they are mainly used for illegal financing oh so you mean the woman that this woman right here so let's run it back one more time one more time real quick so we just are all on the level joe biden's handlers pick janet yellen for the secretary of treasury the secretary of treasury is focused on workers women and minorities so women and minorities that don't care much for white workers but don't pay attention to that it's the first female taking the office janet yellen also served with the federal reserve for i don't know around about 30 something years whose first initiative in office is to get a 2 trillion dollar stimulus plan to the people from her old bosses but then she wants to curtail any cryptocurrency because it's used for illegal activities whatever that means but don't worry about the blatant manipulation of actual currencies like crypto don't worry about that at all that's not your business what you need to worry about is that she has the right stance on china and she's a woman don't you know better bigot i don't know about you guys but in any movie tv show crime anything like that i have never seen a criminal running away with a suitcase full of crypto tony montana was not rolling around on a mountain of cryptocurrency those are some shady at best and completely [ __ ] corrupt at worst priorities in my opinion let me know what you think in the comments i'm gonna keep a close eye on this one because i'm very curious to know what you guys think i don't know too much about crypto but i know a lot of you do thanks for watching i would like to take this opportunity to thank all of the lovely patrons currently listed on screen right now and if you want to become a patron and get access to patreon only movie nights a minecraft server a patreon only discord where we hang out gaming so so much more please head down to the patreon link down below it is the main support i have since this channel got demonetized and i appreciate it so much you guys have no idea that you are single-handedly keeping this channel alive thank you thank you [Music] you</td>\n",
      "      <td>I love Israel and Google. Proud member of the LGBT community.</td>\n",
      "      <td>Sinatra_Says Entertainment Comedy</td>\n",
      "      <td>False</td>\n",
      "    </tr>\n",
      "    <tr>\n",
      "      <td>1</td>\n",
      "      <td>5</td>\n",
      "      <td>JG-W7QKozMc</td>\n",
      "      <td>99802</td>\n",
      "      <td>3113</td>\n",
      "      <td>41</td>\n",
      "      <td>286</td>\n",
      "      <td>💥 Robin Hoodwinked</td>\n",
      "      <td>Subscribe to my Patreon channel: \\nhttps://www.patreon.com/CoachRedPill\\n\\nhttps://parler.com/profile/GonzaloLira\\nInstagram: https://www.instagram.com/realgonzalolira/</td>\n",
      "      <td>hey guys i'm following this whole uh gamestop thing it's wonderful you know i i who would have thought it you know that uh the redditors of all people would have the gumption and the nerve and the balls and the imagination to do what they're doing you know good on them you know i always thought that uh 4chan had the memes but clearly the redditors have the might now don't they they're certainly showing that and good good on them now if you notice a robin hood has uh basically said that anybody who wants to sell game stop shares or amc shares well they can only sell them they cannot buy them and everybody's outraged because of course if all the users of the robin hood platform can only sell then the price will only go down see because nobody can buy it no nobody can bid up the price but you have to ask yourself the obvious question and i'll just leave it out there for you guys you see if robin hood is saying that all of their clients can only sell their shares in amc and gamestop well who's on the other side of that trade who's buying all those shares robin hood or is robin hood acting as a broker for other parties third parties this is blatant market manipulation and i'll tell you right now that if there isn't some sort of congressional inquiry and some not just lawsuits but arrests because this is blatant market manipulation by robin hood i mean they're doing something that nobody no matter how outrageous not even michael milliken nobody think of all of the wall street criminals in history and none of them have ever dared to pull something this blatant as what robin hood is doing if people aren't arrested and thrown in jail for 10 years 20 years because that's the kind of market manipulation we're talking here this this makes bernie madoff look like a if robin hood executives are not tossed into jail and some explanations as to what happened are forthcoming then well you know how rigged the system really is</td>\n",
      "      <td>This channel is to help younger guys figure out the world, and make their way in it. \\n\\nNew videos every Tuesday, Thursday, Saturday and Sunday.</td>\n",
      "      <td>\"Gonzalo Lira\" \"How to for men\" \"help for young men\" \"young men\" \"advice for young men\" \"advice for men\"</td>\n",
      "      <td>False</td>\n",
      "    </tr>\n",
      "    <tr>\n",
      "      <td>1</td>\n",
      "      <td>5</td>\n",
      "      <td>lyUNUdNOBQ4</td>\n",
      "      <td>34625</td>\n",
      "      <td>1076</td>\n",
      "      <td>38</td>\n",
      "      <td>167</td>\n",
      "      <td>Uncovering Aliens \"Bright Lights and Abductions\"</td>\n",
      "      <td>Filmed in North Myrtle Beach....</td>\n",
      "      <td>there are more UFO sightings than ever before strange lights alien life of UFO what lies behind this increasing number of reports for expert UFO investigators are hunting down the truth Maureen Elsberry is a respected UFO journalist I've studied literally thousands of cases and most have rational explanations Mike Barra is an experienced aeronautics engineer before I believe in flying saucers I'm gonna need hard physical evidence the other two investigators believe that aliens are already here Darrell Sims is a private investigator and ex-cia I was abducted by aliens I think they're for Steven and Steven Jones claims to have had contact with extraterrestrials ETS are walking down the Main Street right now in this investigation well multiple UFO sightings in South Carolina I have no idea what that is and claims of an alien shootout in Ohio what was down there the lights lead to hard evidence of extraterrestrial technology Fenn claims to actually have a piece of Europe oh this was not made on the planet Earth Myrtle Beach South Carolina recently there have been over a hundred and ninety UFO sightings reported over the ocean now the four highly experienced investigators are in town to discover whether aliens are behind this UFO activity and to gather evidence from local residents UFO journalist Maureen Elsberry has background information on the sightings so we're talking about these lights over Myrtle Beach which had been reported along the Grand Strand for over 50 years people see an erratic lights flying over the ocean within the last 10 years or so the activities increased a lot do we have any witnesses we actually have over 30 witnesses and Counting but our main witness is Joe Kiernan so let me pull him up he's a 36 year old married man he's got three kids he first saw these lights in July 17th of 2012 but since then he's recorded tons of video honestly my gut is telling me that this is military activity we can probably explain all of this stuff away Mike you are so quick to take that route man this is a really interesting case really exciting this is a close encounter case something really important in addition I'd also like to see that there's any abduction reports in connection with these lives we need to get out there I've arranged to meet Joe at North Myrtle Beach which is the location of these sightings our team let's go find him come on I haven't had much help from any Avenue I've chosen and helping find out what the lights are what they might be what they might be doing is anybody safe as anybody in danger these are all questions I need answers for Joe has agreed to meet the UFO investigators at Myrtle Beach Pier less than a mile away from his home Darrell Sims nice to meet you Joe area thanks for coming out to tell us about your sightings we're out here where they occurring well we see them come from the South Mill they head right up the coast sometimes from the north heading down this way and they like to glow orange in this area here and take off in the southeast direction so are you continuing to see these often lately I started seeing them near my house the lights are becoming lower they're becoming closer in proximity to my family in my home ex-cia operative Derrel Sims is looking for other witnesses to back up Joe's sightings is anyone else your family Ernie but yes my my entire family has seen them at least 30 times how do you feel when you see these things do you feel fear fold you for the excited I do feel fear and I'm looking for someone to assure me we're not in any danger and that we are safe well we're here to help you and we're here to try to find out what in the world's going on and do whatever we can to simply resolve some of this thank you so much thank you so do you have any more footage you could show us Joe I have a lot of new footage I would really like to take you back to my house we can take a look I appreciate your help fantastic you know guys I honestly feel really bad for Joe I mean he moved down here for this nice peaceful life and now he's getting kind of terrifying investigators Stephen Jones claims to have had positive contact experience with aliens many times you know this contact experience to begin with seeing these lights was profound for him but now it's just been turned on its head and there's this and fear involved I I'm afraid to say but fellow investigator Derrel Sims claims to have been abducted by aliens and thinks they are a force for evil I used to work with exotic animals they're great at a distance but when they get real close I don't have the sense of wow I need to go over his pet attire see if it worked for the intelligence behind these lights are not wild animals they are sentient caring beings reaching out to Joe and his family for context you guys are making a few too many assumptions we have a lot more to this case we need to see before we decide whether this is a hostile or non hostile thing why don't we go to Joe's okay as the rest of the team head to Joe's aeronautics engineer mike wants to follow a different lead Joe is an interesting guy compelling witness but he's not a trained observer and there is another witness named Gary Travis who was a pilot so I'm gonna leave the team right now go over to the airport and talk about what he's seen Gary Travis says he's seen the same lights as Joe but from the air and what I want to do is understand why a trained pilot thinks that these lights are UFOs hey Jerry how you doing nice to meet you okay great let's go do that it's a how many years you've been flying carry little 32 years 38 reviews you've seen a few things in the sky I would imagine oh yeah I've been watching us go for a long time we're you know I've never seen anything unusual while I'm flying and until back in October of 2011 that was the first time was probably 15 minutes before sunset and I was in the landing pattern for that runway and there was no traffic on the radio no other planes were announcing their in the area wasn't that caught your eye looking for the aircraft so an orange light could this have any other lights I know there was just a big orange just one we've gone just one big orange light I just estimated two or three miles away my same altitude okay so it's out over the ocean it's bright orange and it's away from the Sun right but I didn't look at my instrument so I'll just flu streak toward a you know closer look and then you read some stories about people seeing UFOs and their karst dog wouldn't be good man to quit right now you know I didn't want to have to take a swim you knew immediately that there was something different about this you know most conventional aircraft whether they're their large commercial planes or military or whatever helicopters they've got strobe lights they've got a red light it usually a green light it was nibbling on air for air okay and how long would you say you observed it for actually one minute about a minute solid and then what happened to it just disappeared it just it just blinked out of your system all I can tell you is this I've been flying for a long time and I've been watching skies all my life and I've never seen lights like these before gary is unable to identify the lights but Mike who has studied aviation for many years still believes there is a rational explanation for what Gary saw Gary's a great guy rock-solid witness excellent observer tons of experience in the air but what he described and where he pointed out that it was is right where they do the air combat training here locally so I'm gonna get up to the Air Force Base and find out what they were doing and when they were doing it early next morning the rest of the alien investigators arrive at joke here Nan's house to examine the new footage he has of the UFO lights this is the place we're gonna investigate this case thoroughly hello oh please come in very happy to have you thanks Jojo let's see you we could see you sir please come in this is a lovely home you got here it's very nice thank you very much but before he shows them his video Joe takes the team to the back of his house to point out the flight path of the UFOs the majority when they come traveling right through here and they tend to be right over this tree line here that an incredible these trees in these houses do they actually get it seldom they're higher than that tree line Joe followed the lights and filmed them at a pond behind the trees he wants to show the UFO investigators just what he saw this is what I see over that pond and you can see here as the camera pans right there appears to be something red that will grab your attention it enters there when you put it in slow motion it breaks the plane of the water it will glow and it enters there Wow let's go below the water yes well I know n that is strange I've never seen anything like this for expert investigators are in Myrtle Beach South Carolina where multiple UFOs have been sighted over the ocean local witness Joe Kenneth has filmed the UFOs over the beach they have low orange and take off the southeast direction and pilot Gary Travis has seen the same lights from a different angle so an orange light over here Roslin but now Joe Kiernan is showing the investigators new footage of the UFOs in a pond behind his house every time it breaks the surface of the water it will glow red whether it's going in or coming out Wow fine darn that is strange but Joe has also noticed something weird under the surface the bottom of the pond appeared to have been a complete circle resembling a crater UFO journalist Maureen Elsberry has seen similar reports you know it's interesting Joe has a lot of people report us OHS which are basically unidentified submerge objects right a lot of people think that there could be some sort of basis that these things are going to and from I'm really interested to get out to this lake and try and figure out what the heck's going on there as soon as I cross into that area on my way to the pond the uncomfortable anxiety does begin all right despite Joe's fears investigator and alien contact D Stephen Jones wants to take him back to the pond I appreciate your feelings about this but if if you would would you return there with us I will I will if if you go during the day meanwhile fellow UFO investigator Mike Barra is on his way to a meeting that could provide a rational explanation for the UFO activity I still think Gary and Joe witness military activity so I'm headed up to Shaw Air Force Base today to talk to rob Sexton is the public information officer up there the things I'm gonna be discussing with him are whether or not the Air Wing up there does training that could possibly explain some of these sightings I robbed it's nice to meet you I'm Mike Mehra hello Mike it's good to meet you welcome to Shaw Air Force Base South Carolina it's really cool so the first thing that I'd like to ask you is do you guys train here at all with your aircraft well yes we do Shaw's 20th Fighter Wing is the largest combat f-16 wing in the United States Air Force we train over the ocean off Myrtle Beach all the time and because it is combat training our ffz eject flares do you ever hear training exercises over land over populated areas yes it could have occurred over land as well would you happen to have a schedule of the weeks in the last say six months the actually I looked into that and so I'm able to provide you a grain a schedule of the the weeks that we did nightfly in 2012 okay that's fantastic and we'll be able to compare that with with the sightings that we have I think the case to be made that these are our flares is pretty strong that evening Mike meets with Joe at Myrtle Beach Mike's devised an experiment he believes will prove to Joe that what he's seeing are military flares not UFOs we usually set up and film in this area here okay right along the dunes here Mike is using a distress flare to simulate the signature of a military decoy flare they are parachute flares they're gonna go off about 1,100 feet into the air and you've brought your camera the same camera you've been using to record this stuff fantastic I'm very excited to do this very right let's get to it let's do it cameras ready I'm ready to roll all right let's go you get that I got it do you think that that's what you've been recording that's not what I've been recording it all but it's it's a nice shot nonetheless I can't wait to take a look at it when I get home well at this point Joe's very convinced that it's not Flair's being fired from the beach whether what he's actually filming is alien spacecraft that's a terrestrial entities of some kind I need a lot more evidence for that but just as Mike and Joe are packing up to leave the film crews cameraman spots strange lights in the sky above the beach and Joe tries to grab footage that's really interesting that's great it's interesting to fly like that when I write behind the other but it is a very weird pattern something incredible I'm not sure what they are Wow yeah and they're heading right over my house the alien investigators are at UFO hotspot Myrtle Beach South Carolina hello how are you witness Joe Kiernan has shown the team his videos of UFOs near his house Wow investigator Mike Barris test to prove Joe with seeing military flare has failed to convince him that's not what I've been reporting at all but now they're in the middle of a real UFO encounter I have no idea what I'm looking at Wow they're moving too slowly to be aircraft or any kind of Jets there's not gonna be any combat testing good night so I don't really know what to say about them they're there they stayed in very tight formation which indicates military but I'm not sure what they are hey I would be going too far for me to say that they were aliens but I don't know what to say about it other than it was a bit strange the following morning investigators Daryl Maureen and Stephen take Joe to the lake behind his house where he recorded his footage of the UFOs this is it this is the pond in question this is the area I have a high anxiety and large discomfort being in this area times just be overwhelming and I don't even want to be back here any longer this is uh it's a tough place to be Joe you know we fully appreciate you bringing us over here and what we're gonna do today is we're gonna explore the area we're gonna take its pulse as fantastic investigator and ex-cia operative Derrel Sims is an experienced diver my part we're gonna go out in that water we're gonna do some sonar we're gonna check the bottom of this thing any other conditions that could affect this like that from any part of your story jojje encountered something here and I want to find out if it's on the land and if it's not it's in the water darrell has asked a team of underwater investigators to help him they normally use their high-tech equipment to analyze crime scenes and search for unexploded bombs gentlemen you ready to go all right we're gonna use side scanning sonar to get a look at the entire bottom of the lake see if there's any depressions or configurations that might be left by a UFO if anything has happened out here and affected this lake I will dive down and we'll find out exactly what's in the bottom of the lake what's there I want to check everything that's out here that's an anomaly I don't care what it is Joe told Darrell and the team that he thought there was a crater on the lake floor after just a few minutes of scanning something strange starts to emerge on the sonar monitor geologically you know it's kind of an anomaly might call something like that you ever seen anything like that in a lake there's a depression out here and we found in the deeper part of the water we've already marked it we're gonna go back and look at that and some of these other configurations involved in this lake or this pond kind of don't make sense the side scanner has thrown up an anomaly but it doesn't give Darrel all the information he needs there's only one way for me to know for sure the UFOs landed in this water so I'm gonna have to go down there and take a look Daryll is using an underwater camera to relay pictures to Joe and the team on the boat we're Darrell's down under the water right there that's that's the area where the the orbs of light we're moving around in the water right so if there's a signature of them being in the water Darryl might be able to pick something up after more than an hour Darryl finally emerges with his findings this Lake is crystal clear nothing grows here that's really odd because everything around here is infested with alligators and every kind of biology you can imagine there is absolutely nothing living in absolutely nothing in this water and I'm baffled as to why the UFO investigators regroup to discuss the latest findings both Darryl and Stephen claimed to have first-hand knowledge of aliens they suspect Joe may be subconsciously withholding information I believe his close encounters are more than just seeing lights here's the point something profound happened to Joe at the lake area that's why he has this huge reticence to go there I believe that Joe has had an encounter with the pilots that are flying these lights Stephen who claims to have had lifelong contact with ETS heads to meet Joe at Myrtle Beach I've been having 80 contact experience all my life and although challenging has been very positive I believe the ETS are here to help us my suspicion is that Joe has had contact he's drawn to certain locations but it doesn't know why and in my experience my particular experience and other people that I've spoken to this is because he has had some direct contacts hey Joe how's it going good to have you man I'm good I'm good so you've seen these lights in a few locations now but as I believe it you're you feel there's like a reluctance in in your heart to return to certain locations why do you why do you think that is there are particular locations that do have an overwhelming discomfort when I do try to enter them at certain times in my experience as somebody who's had very direct contact would it be outrageous of me to suggest that you might have had more of a contact experience in these events than you remember I wouldn't consider that outrageous because I haven't been able to find out where they are in any capacity it's it's been a tough road all by myself I've had to act particular ways you feel that their presence is connected with your presence yes I feel there is a message that I'm missing whatever is these sentient beings have touched our lives this is real this is happening every single day to millions of people around the world and we recognize each other Joe you know I just want to say that meeting you has been an absolute pleasure it just fills my heart with joy to to meet another me that is having this sort of experience so Joe thank you so much pleasures all mine Steve pleasure to investigate the increased sightings of UFOs over Myrtle Beach the investigators watched footage that is strange Wow talked to eyewitnesses and saw UFOs themselves I'm not sure what they are now the UFO investigators meet to discuss their findings guys we were roy joe admits he's had close contact with the ETS I just hope he can get over his fear that's pretty amazing and that means that there's a pattern here if some of these lights may mean that people are having an extraterrestrial contact yeah when you say pattern the first thing I go back to is the lights that we saw on the beach when we were down shooting flares I mean I have never seen aircraft like that before and I really can't explain them but Darryl who claims to have been abducted by aliens believes he knows exactly what the UFO sightings mean well maybe I can give you some help there when the lights get close to people like that it's usually contact when they get super close it's abduction I can go back to my own experience and I can tell you it was awful I have another case of your highlights I think we should investigate and this time it involves a father and son and I think it may really help us try to find out what the extra-terrestrial motive actually is let's go the UFO investigators travel to Hopewell Ohio where recent UFO sightings have led to allegations of alien abduction so we have another case similar to Joe's where witness is reporting orange orbs as well as other unidentified bright lights in the sky now the difference between Joe and our witness been Fagin is that he's also reporting that he's had multiple abduction experiences I don't think that they're here to help us out Banas on the back and all that kind of stuff I saw a whole bunch of tables with a whole bunch of people and a whole bunch of aliens around them doing the same thing that they were doing to me he's talking about horrific events going on in his life this is this is abduction there's no question about it well yeah well why don't we go meet Ben okay let's go the investigators head to meet Ben who claims that UFO lights similar to those seen at Myrtle Beach led to his abduction glad to meet you I'm glad to see you guys here I've been wanting to talk to somebody about all this for quite a while that's why we're here so Ben where and when was the last time you had some sort of contact nor backyard and what exactly happened there ran in some orbs so he's in amongst the trees yes sir there was two of them they were white at first and one of them disappeared and just left one and it changed yellow from white to yellow Ben can you tell us exactly what happened here I was abducted the alien investigators are looking for a link between sightings of UFO lights and ET abduction in South Carolina witness Joe Keenan felt threatened by orb shaped lights I'm looking for someone to assure me we're not in any danger then investigator Mike Barra witnessed them for himself I don't know what to say about it other than it was strange now they are in Hopewell Ohio where I witnessed been foggin claims similar UFO lights led to his abduction I was abducted why do you think they did it see it was like they were being trained or taught or something like that I remember that I was on a table opened up physically opened up yes sir a medical procedure yes sir okay I've had my ribs separated some sort of clamps put on each side of my ribs and I woke up there was no cut no sign of anything but the sensation was there the ETS have done this yes sir how's it make you feel been when these things occur I'm mostly concerned about my family having experiences also yeah I agree you should definitely be concerned about your family on along those lines I heard that there had been an incident with a shotgun yes with my son he got a little bit excited and grabbed a shotgun and I wasn't aware of what he was doing and he went around and started shooting at it oh my goodness for Darryl who claims to have been abducted Ben's story stirs disturbing memories the aliens first came after me when I was a little boy and then they came for my son they come after families this is how these cosmic skinheads operate Ben's son Terry agrees to show the investigators what happened the night he saw the UFO lights this is about where you were at when this men happened yes this is the area where it happened what was down there that caused you to shoot the lights because it was like right there at the baseline of the trees at first I thought maybe it could be hunters back there messing around in the woods with a bunch of bright lights but I got no response when I yelled out he's out there that's when I aimed and started shooting Terry tell me exactly what happened that night I was standing about right here my cockpit loaded it and then I aimed it the first one I shot was kind of like up here yelled one more time he's out there and then I just started shooting at the lights my heart was racing journaling was pumping I was pretty scared Terry what was her need to fire down there I was scared my reaction was just to grab it and I shot and that's about it Terry fired five shells at the UFO and his father Ben claims at least one of them hit the target it was making a noise that sounded like a broken washing machine and then the noise stopped and when it stopped right after it stopped I thought I heard that thunk Ben claims that Terry shots dislodged a chunk of material from the UFO wow I would really like to get my hands on that got it right inside I'll go get it right now okay thank you great thanks Wyeth's if he's had got it that's really cool and that's something we could actually get our hands on and physically test and if it turns out to be something unusual something weird you know it could be it could yeah very rare there you go gang Wow Wow that is cool jeez what did it actually land on there was a gravel and sand okay so been basically you found this thing in your driveway then after having heard it hit to the ground right okay so did you touch it straightaway I bent down to pick it up and when I touched it it was hot benefits okay with your permission we would like to take it to a lab for some testing you bet man I'd like to take Steven if you don't mind we'd like left in the driveway and look at the area and check it for a radiation for a number of different tests we'd like to do sure Maureen and Mike may have their hands on a fragment of the mysterious orb like UFOs that Ben claims have been plaguing him and his family they head to a lab to have the material analyzed by experts scientists me too nice to meet you hi I'm Mike Mara hi Mike Mike this is meet you Nick so here's the sample that we've been given from from bed foggins the first test is to see if fragments embedded in the material are from Ben's driveway where he claims it fell with this spatula I'll try to get into some of the crevices and get enough material out to get a spectrum there's plenty there Hey whoa isn't that interesting sightings of orb shaped UFO lights in South Carolina well find out a strange and Ohio white at first led to claims of alien abduction I was abducted ad material being shot off a UFO now investigators Maureen Elsberry and Mike Barra are having the material analyzed and are getting surprising results hey isn't that interesting right here is a little bit of silicate from the dirt in the driveway typically I'm stone gravel so that can confirm that it was actually in his driveway yeah the traces of dirt found on the material back up then story of a lump of hot metal landing in his driveway but more tests must be done before Mike and Maureen will find out what the material is made of and where it came from yeah do you think you could call me with the results certainly will great I'm really excited to figure out what this is as Mike and Maureen wait for the lab results Darrel and Stephen are back at the site of the shooting they want to carry out tests of their own very good Darryl has a theory that UFOs become radioactive as they travel through space and that they can leave a signature of radiation where they land that can be detected by using a Geiger counter when you push this button it'll set it on a little cooking you're hearing occasionally that's normal background radiation that's nothing to worry about nothing whatsoever the higher the levels of radiation the more clicks the detector will emit hey Darrell if you picked up anything yet nothing no signature yet nothing on the trees nothing on the ground okay can you go down to the exact location where the craft was sighted keep on going we're picking up abrasive radiation right here that's more than background yeah okay what's happening now is Darryl is in the direct location where the craft was spotted he's experiencing more radiation than background it's saying something happened here as night falls Mike and Maureen finally get the call from the lab they have completed their analysis of the mystery material been found in his driveway hey Nick so I'm really anxious to hear about the results of these tests I'd have to ask you at this point if there was some chance this was extraterrestrial could it be a meteor or does it have to come from something that's manufactured the next day the UFO investigators regroup to assess the new evidence from been foggins UFO shooting incident I picked up to radioactive signals one was on the tree when it was directly beneath where the lights were at so you're saying you actually found radioactive material right where they had their sighting right where he shot at exactly where the light was while they were firing they may have actually hit something and knocked some radiation off into the tree and onto the ground well that's another piece of the puzzle that fits perfectly we also have some really compelling results from what we found out at the lab okay this little baby right here is it's really fascinating stuff first of all it's an aluminum alloy and what that means is it's manufactured okay so it's not any kind of a naturally occurring material okay the interesting thing about this particular aluminum alloys it contains some very strange trace elements and they have an isotopic ratio that is pretty far beyond what would be produced on earth so you're saying it that this was not made on the planet Earth it was made here else yeah absolutely in that sense this little hunk of metal is kind of the holy grail for this entire case Wow outstanding outstanding work if been needed any more credibility this is the cherry on the cake let's go the UFO investigators have uncovered mounting evidence that orb shaped UFO lights may be alien craft Wow fine darn that is strange multiple eyewitness accounts in Myrtle Beach so an orange light rose the lights are coming closer to proximity to my family I have no idea what I'm looking at claims of abduction in Ohio I was abducted debris from an alien shootout and confirmation that the medal may not be from Planet Earth this was not made on the planet Earth all point to a possible link between sightings of UFO lights and incidents of alien abduction the tea meet with Ben Fagin to reveal their findings for loaning us your medal we took it to the lab for analysis and from the tests that we're done it came back saying that this was quite an unusual aluminum alloy this object is definitely two things it's manufactured and it had to have been manufactured somewhere else because the tests indicate that it could be of extraterrestrial origin but I'm sure you're not surprised by the unusual qualities of this metal I know where it came from how do you feel now bender does it feel better to that you've shared your experience work with us yes I feel for people that's going through the same thing to help them along yeah that's important I think Benson then this will help thousands and thousands of people the fact is that these entities in my view are not here to save the planet fix it was on hold or do anything like that we're never going to know the truth unless people like you come forward and show your evidence then that allows us to put together a pattern and find out exactly who they are and what they're doing thank you after gathering first-hand evidence from four witnesses across two states the UFO investigators sum up the case you know for years people have been separating UFO sightings to abduction cases and now we have evidence that those are linked you know and now we're having a rise in sightings I think we're gonna get a rise in abduction cases as well let really troubles me the aliens not here for our benefit and that's not really any good at all yeah the Darrell you know I disagree with you man and I just feel that it's been and joke and you know dig deep and find some inner strength they'll know that this is not a threat all this stuff aside about adduction is what amazes me is that we go from a case where I think we really don't have much physical evidence to a place where I'm actually holding something in my hand that Cobb ibly came from somewhere else and that's just like I don't know it's it's bizarre it's thrilling it if that's the case Stephen I hope you're right and I hope the reason is they're up to good let's go with more UFO sightings than ever before who is safe from alien abduction find out next time on uncovering aliens</td>\n",
      "      <td>Researcher and student of histories, early teachings, mathematics, geometry, perspective, and the arts for the eye and ear as well as the mind.  Radio Talk show host, writer and producer of similar programing.</td>\n",
      "      <td>Art Science Astronomy Hermes Rosicrucian Humanist Freemason Student father researcher radio teacher mathematician author mentor astrology</td>\n",
      "      <td>True</td>\n",
      "    </tr>\n",
      "  </tbody>\n",
      "</table>\n"
     ]
    }
   ],
   "source": [
    "print(example.head(3).to_html(index=False))"
   ]
  },
  {
   "cell_type": "code",
   "execution_count": null,
   "metadata": {},
   "outputs": [],
   "source": []
  },
  {
   "cell_type": "code",
   "execution_count": null,
   "metadata": {},
   "outputs": [],
   "source": []
  },
  {
   "cell_type": "code",
   "execution_count": null,
   "metadata": {},
   "outputs": [],
   "source": []
  },
  {
   "cell_type": "code",
   "execution_count": null,
   "metadata": {},
   "outputs": [],
   "source": []
  },
  {
   "cell_type": "code",
   "execution_count": 9,
   "metadata": {},
   "outputs": [
    {
     "data": {
      "text/html": [
       "<div>\n",
       "<style scoped>\n",
       "    .dataframe tbody tr th:only-of-type {\n",
       "        vertical-align: middle;\n",
       "    }\n",
       "\n",
       "    .dataframe tbody tr th {\n",
       "        vertical-align: top;\n",
       "    }\n",
       "\n",
       "    .dataframe thead th {\n",
       "        text-align: right;\n",
       "    }\n",
       "</style>\n",
       "<table border=\"1\" class=\"dataframe\">\n",
       "  <thead>\n",
       "    <tr style=\"text-align: right;\">\n",
       "      <th></th>\n",
       "      <th>channel</th>\n",
       "      <th>video_id</th>\n",
       "      <th>conspiracy</th>\n",
       "      <th>full_text</th>\n",
       "    </tr>\n",
       "  </thead>\n",
       "  <tbody>\n",
       "    <tr>\n",
       "      <th>0</th>\n",
       "      <td>UCyuAKnN3g2fZ7_R9irgEUZQ</td>\n",
       "      <td>SECdW8n4ZGw</td>\n",
       "      <td>False</td>\n",
       "      <td>abraham lincoln came power abraham lincoln com...</td>\n",
       "    </tr>\n",
       "    <tr>\n",
       "      <th>1</th>\n",
       "      <td>UCAtdV6VWa02UpCB2YHuVmHg</td>\n",
       "      <td>jSXIrZx8lI4</td>\n",
       "      <td>False</td>\n",
       "      <td>thanksgiv celebr announc union rescu mission n...</td>\n",
       "    </tr>\n",
       "    <tr>\n",
       "      <th>2</th>\n",
       "      <td>UCASQzDb4SUC0gZNPbwBubIQ</td>\n",
       "      <td>s0YjJVyyVjI</td>\n",
       "      <td>False</td>\n",
       "      <td>unc health s mobil clinic aim reduc racial eth...</td>\n",
       "    </tr>\n",
       "    <tr>\n",
       "      <th>3</th>\n",
       "      <td>UC_giJ3xlEL9jUF1YfJdzzuQ</td>\n",
       "      <td>VMHCvdRdq10</td>\n",
       "      <td>False</td>\n",
       "      <td>establish impur accept criteria part spec dmf ...</td>\n",
       "    </tr>\n",
       "    <tr>\n",
       "      <th>4</th>\n",
       "      <td>UCT8RMFbTJV5ILaVykrluOQg</td>\n",
       "      <td>KKiR4FWOZ4w</td>\n",
       "      <td>False</td>\n",
       "      <td>ten panda cub make public debut ahead spring f...</td>\n",
       "    </tr>\n",
       "  </tbody>\n",
       "</table>\n",
       "</div>"
      ],
      "text/plain": [
       "                    channel     video_id  conspiracy  \\\n",
       "0  UCyuAKnN3g2fZ7_R9irgEUZQ  SECdW8n4ZGw       False   \n",
       "1  UCAtdV6VWa02UpCB2YHuVmHg  jSXIrZx8lI4       False   \n",
       "2  UCASQzDb4SUC0gZNPbwBubIQ  s0YjJVyyVjI       False   \n",
       "3  UC_giJ3xlEL9jUF1YfJdzzuQ  VMHCvdRdq10       False   \n",
       "4  UCT8RMFbTJV5ILaVykrluOQg  KKiR4FWOZ4w       False   \n",
       "\n",
       "                                           full_text  \n",
       "0  abraham lincoln came power abraham lincoln com...  \n",
       "1  thanksgiv celebr announc union rescu mission n...  \n",
       "2  unc health s mobil clinic aim reduc racial eth...  \n",
       "3  establish impur accept criteria part spec dmf ...  \n",
       "4  ten panda cub make public debut ahead spring f...  "
      ]
     },
     "execution_count": 9,
     "metadata": {},
     "output_type": "execute_result"
    }
   ],
   "source": [
    "equal = pd.read_csv(\"training_videos.csv\").drop(\"Unnamed: 0\", axis = 1)\n",
    "equal[\"full_text\"].fillna(\"\", inplace=True)\n",
    "\n",
    "equal.head()"
   ]
  },
  {
   "cell_type": "code",
   "execution_count": 34,
   "metadata": {},
   "outputs": [
    {
     "data": {
      "text/html": [
       "<div>\n",
       "<style scoped>\n",
       "    .dataframe tbody tr th:only-of-type {\n",
       "        vertical-align: middle;\n",
       "    }\n",
       "\n",
       "    .dataframe tbody tr th {\n",
       "        vertical-align: top;\n",
       "    }\n",
       "\n",
       "    .dataframe thead th {\n",
       "        text-align: right;\n",
       "    }\n",
       "</style>\n",
       "<table border=\"1\" class=\"dataframe\">\n",
       "  <thead>\n",
       "    <tr style=\"text-align: right;\">\n",
       "      <th></th>\n",
       "      <th>channel</th>\n",
       "      <th>video_id</th>\n",
       "      <th>conspiracy</th>\n",
       "      <th>full_text</th>\n",
       "    </tr>\n",
       "  </thead>\n",
       "  <tbody>\n",
       "    <tr>\n",
       "      <th>30628</th>\n",
       "      <td>UCiPeMgxBzzE4pcI_Q1CxGrA</td>\n",
       "      <td>Zmy5ehd645g</td>\n",
       "      <td>True</td>\n",
       "      <td>giant skeleton 5 minut kristan t harri rundown...</td>\n",
       "    </tr>\n",
       "  </tbody>\n",
       "</table>\n",
       "</div>"
      ],
      "text/plain": [
       "                        channel     video_id  conspiracy  \\\n",
       "30628  UCiPeMgxBzzE4pcI_Q1CxGrA  Zmy5ehd645g        True   \n",
       "\n",
       "                                               full_text  \n",
       "30628  giant skeleton 5 minut kristan t harri rundown...  "
      ]
     },
     "execution_count": 34,
     "metadata": {},
     "output_type": "execute_result"
    }
   ],
   "source": [
    "equal.query(\"video_id == 'Zmy5ehd645g'\")"
   ]
  },
  {
   "cell_type": "code",
   "execution_count": 10,
   "metadata": {},
   "outputs": [
    {
     "data": {
      "text/plain": [
       "<44312x140970 sparse matrix of type '<class 'numpy.float64'>'\n",
       "\twith 23152699 stored elements in Compressed Sparse Row format>"
      ]
     },
     "execution_count": 10,
     "metadata": {},
     "output_type": "execute_result"
    }
   ],
   "source": [
    "# Vectorize words\n",
    "v = TfidfVectorizer(max_df=.75, min_df=2)\n",
    "x = v.fit_transform(equal['full_text'])\n",
    "\n",
    "x"
   ]
  },
  {
   "cell_type": "code",
   "execution_count": 39,
   "metadata": {},
   "outputs": [
    {
     "data": {
      "text/plain": [
       "NearestNeighbors(algorithm='auto', leaf_size=30, metric='cosine',\n",
       "                 metric_params=None, n_jobs=None, n_neighbors=6, p=2,\n",
       "                 radius=1.0)"
      ]
     },
     "execution_count": 39,
     "metadata": {},
     "output_type": "execute_result"
    }
   ],
   "source": [
    "knn = NearestNeighbors(n_neighbors=6, metric='cosine')\n",
    "knn.fit(x)"
   ]
  },
  {
   "cell_type": "code",
   "execution_count": 42,
   "metadata": {},
   "outputs": [
    {
     "data": {
      "text/plain": [
       "(array([[0.        , 0.42963159, 0.46291744, 0.5003638 , 0.50410555,\n",
       "         0.65837768]]),\n",
       " array([[30628, 30670, 44090, 44089, 42599, 33816]], dtype=int64))"
      ]
     },
     "execution_count": 42,
     "metadata": {},
     "output_type": "execute_result"
    }
   ],
   "source": [
    "knn.kneighbors(x[30628])"
   ]
  },
  {
   "cell_type": "code",
   "execution_count": 37,
   "metadata": {
    "scrolled": true
   },
   "outputs": [
    {
     "data": {
      "text/plain": [
       "channel                                UC8-LhLmfkg0KStfM5qUuhyw\n",
       "video_id                                            CRf8hROMxTg\n",
       "conspiracy                                                 True\n",
       "full_text     need know giant discoveri thousand report gian...\n",
       "Name: 30670, dtype: object"
      ]
     },
     "execution_count": 37,
     "metadata": {},
     "output_type": "execute_result"
    }
   ],
   "source": [
    "equal.iloc[30670]"
   ]
  },
  {
   "cell_type": "code",
   "execution_count": 38,
   "metadata": {},
   "outputs": [
    {
     "data": {
      "text/plain": [
       "channel                                UC5muUAFOOugzFrAyRdlLY9A\n",
       "video_id                                            LGXzUGgd3NI\n",
       "conspiracy                                                 True\n",
       "full_text     hugh newman part 01 scientif evid giant prehis...\n",
       "Name: 44090, dtype: object"
      ]
     },
     "execution_count": 38,
     "metadata": {},
     "output_type": "execute_result"
    }
   ],
   "source": [
    "equal.iloc[44090]"
   ]
  },
  {
   "cell_type": "code",
   "execution_count": 43,
   "metadata": {},
   "outputs": [
    {
     "data": {
      "text/plain": [
       "channel                                UC5muUAFOOugzFrAyRdlLY9A\n",
       "video_id                                            omTSBeyQjVA\n",
       "conspiracy                                                 True\n",
       "full_text     hugh newman part 02 scientif evid giant prehis...\n",
       "Name: 44089, dtype: object"
      ]
     },
     "execution_count": 43,
     "metadata": {},
     "output_type": "execute_result"
    }
   ],
   "source": [
    "equal.iloc[44089]"
   ]
  },
  {
   "cell_type": "code",
   "execution_count": 44,
   "metadata": {},
   "outputs": [
    {
     "data": {
      "text/plain": [
       "channel                                UCRH1UBUyYleTgKgptlatksQ\n",
       "video_id                                            lSe6C_AbtKY\n",
       "conspiracy                                                 True\n",
       "full_text     hugh newman open mind confer 2017 long time th...\n",
       "Name: 42599, dtype: object"
      ]
     },
     "execution_count": 44,
     "metadata": {},
     "output_type": "execute_result"
    }
   ],
   "source": [
    "equal.iloc[42599]"
   ]
  },
  {
   "cell_type": "code",
   "execution_count": 45,
   "metadata": {},
   "outputs": [
    {
     "data": {
      "text/plain": [
       "channel                                UC0hRN2zXG72fGZUJFBDgpqQ\n",
       "video_id                                            1A54NaWpuhM\n",
       "conspiracy                                                 True\n",
       "full_text     josh reev hour 1 lost secret ancient america l...\n",
       "Name: 33816, dtype: object"
      ]
     },
     "execution_count": 45,
     "metadata": {},
     "output_type": "execute_result"
    }
   ],
   "source": [
    "equal.iloc[33816]"
   ]
  },
  {
   "cell_type": "code",
   "execution_count": null,
   "metadata": {},
   "outputs": [],
   "source": []
  }
 ],
 "metadata": {
  "kernelspec": {
   "display_name": "Python 3",
   "language": "python",
   "name": "python3"
  },
  "language_info": {
   "codemirror_mode": {
    "name": "ipython",
    "version": 3
   },
   "file_extension": ".py",
   "mimetype": "text/x-python",
   "name": "python",
   "nbconvert_exporter": "python",
   "pygments_lexer": "ipython3",
   "version": "3.6.5"
  }
 },
 "nbformat": 4,
 "nbformat_minor": 2
}
