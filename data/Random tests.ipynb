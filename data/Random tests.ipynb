{
 "cells": [
  {
   "cell_type": "code",
   "execution_count": 1,
   "metadata": {},
   "outputs": [],
   "source": [
    "import pandas as pd\n",
    "import numpy as np\n",
    "\n",
    "from sklearn.feature_extraction.text import TfidfVectorizer\n",
    "from sklearn.neighbors import NearestNeighbors"
   ]
  },
  {
   "cell_type": "code",
   "execution_count": 26,
   "metadata": {},
   "outputs": [],
   "source": [
    "df = pd.read_csv(\"uploads.csv\")\n",
    "df_2 = pd.read_csv(\"channels.csv\")"
   ]
  },
  {
   "cell_type": "code",
   "execution_count": 27,
   "metadata": {},
   "outputs": [],
   "source": [
    "df = pd.merge(df, df_2, left_on=\"channel\", right_on=\"channel\")"
   ]
  },
  {
   "cell_type": "code",
   "execution_count": 148,
   "metadata": {},
   "outputs": [],
   "source": [
    "example = df.dropna().sample(20)"
   ]
  },
  {
   "cell_type": "code",
   "execution_count": 149,
   "metadata": {},
   "outputs": [],
   "source": [
    "example = example.drop([\"Unnamed: 0_x\", \"Unnamed: 0_y\", \"conspiracy_x\", \"country\", \"uploads\"], axis=1).head()"
   ]
  },
  {
   "cell_type": "code",
   "execution_count": 150,
   "metadata": {},
   "outputs": [
    {
     "data": {
      "text/html": [
       "<div>\n",
       "<style scoped>\n",
       "    .dataframe tbody tr th:only-of-type {\n",
       "        vertical-align: middle;\n",
       "    }\n",
       "\n",
       "    .dataframe tbody tr th {\n",
       "        vertical-align: top;\n",
       "    }\n",
       "\n",
       "    .dataframe thead th {\n",
       "        text-align: right;\n",
       "    }\n",
       "</style>\n",
       "<table border=\"1\" class=\"dataframe\">\n",
       "  <thead>\n",
       "    <tr style=\"text-align: right;\">\n",
       "      <th></th>\n",
       "      <th>channel</th>\n",
       "      <th>video_id</th>\n",
       "      <th>title</th>\n",
       "      <th>description</th>\n",
       "      <th>transcript</th>\n",
       "      <th>channel_description</th>\n",
       "      <th>keywords</th>\n",
       "      <th>conspiracy_y</th>\n",
       "    </tr>\n",
       "  </thead>\n",
       "  <tbody>\n",
       "    <tr>\n",
       "      <th>64083</th>\n",
       "      <td>UCGHiFqlkj6T7z2sW9xz8d_Q</td>\n",
       "      <td>u6sN6K-4_qo</td>\n",
       "      <td>All I Want for Christmas (Is a Pardon from the...</td>\n",
       "      <td>It's almost Christmas time. Saxophones by Jon ...</td>\n",
       "      <td>it's almost christmas time and i'm all by myse...</td>\n",
       "      <td>Nick Lutsko is a songwriter, producer, and per...</td>\n",
       "      <td>Nick Lutsko Puppets Etc. ALL SHOOK UP Greezy R...</td>\n",
       "      <td>False</td>\n",
       "    </tr>\n",
       "    <tr>\n",
       "      <th>29089</th>\n",
       "      <td>UCL6rGSlLAsX0dC3hgus8R6g</td>\n",
       "      <td>p212D-WvKG0</td>\n",
       "      <td>How A Narcissist Reacts When You Behave Badly</td>\n",
       "      <td>How a narcissist reacts when you do something ...</td>\n",
       "      <td>[Music] today I'm going to talk about the diff...</td>\n",
       "      <td>Pop Culture -- Narcissism &amp; Sociopathy --  Phi...</td>\n",
       "      <td>Narcissism Sociopathy Philosophy \"Trauma Infor...</td>\n",
       "      <td>True</td>\n",
       "    </tr>\n",
       "    <tr>\n",
       "      <th>51056</th>\n",
       "      <td>UCIrgpHvUm1FMtv-C1xwkJtw</td>\n",
       "      <td>7vLbNZs2sFk</td>\n",
       "      <td>FORECAST: Phoenix will stay in the 70s though ...</td>\n",
       "      <td>High pressure over the Pacific is producing a ...</td>\n",
       "      <td>let's take a look at what we're tracking weath...</td>\n",
       "      <td>Get all the news of the day, plus investigativ...</td>\n",
       "      <td>cbs5az 3tv \"cbs 5 phoenix\" \"cbs 5 az\" ktvk kph...</td>\n",
       "      <td>False</td>\n",
       "    </tr>\n",
       "    <tr>\n",
       "      <th>31409</th>\n",
       "      <td>UC9-JFOH4Swm1qUCaEUtQL8Q</td>\n",
       "      <td>Z6VBPwbprGs</td>\n",
       "      <td>VISION: Message to Christians, Especially Past...</td>\n",
       "      <td>I had a vision in which I heard the voice of t...</td>\n",
       "      <td>hello brethren i greet you in the name of our ...</td>\n",
       "      <td>Hello, and welcome to Eagle Eye Opener, the of...</td>\n",
       "      <td>Rapture Sermon \"warning from Jesus Christ\" \"En...</td>\n",
       "      <td>True</td>\n",
       "    </tr>\n",
       "    <tr>\n",
       "      <th>39068</th>\n",
       "      <td>UCn6smH2WbsRCDPTwfcaKrdg</td>\n",
       "      <td>r88g65a1zPQ</td>\n",
       "      <td>Evidence The Pandemic Is 'All Over But The Sho...</td>\n",
       "      <td>Dr Reality looks at the new daily infection nu...</td>\n",
       "      <td>i'm dave champion sars cov2 new daily infectio...</td>\n",
       "      <td>The Dave Champion Show exists to reinvigorate ...</td>\n",
       "      <td>liberty freedom \"gun rights\" tattoos</td>\n",
       "      <td>False</td>\n",
       "    </tr>\n",
       "  </tbody>\n",
       "</table>\n",
       "</div>"
      ],
      "text/plain": [
       "                        channel     video_id  \\\n",
       "64083  UCGHiFqlkj6T7z2sW9xz8d_Q  u6sN6K-4_qo   \n",
       "29089  UCL6rGSlLAsX0dC3hgus8R6g  p212D-WvKG0   \n",
       "51056  UCIrgpHvUm1FMtv-C1xwkJtw  7vLbNZs2sFk   \n",
       "31409  UC9-JFOH4Swm1qUCaEUtQL8Q  Z6VBPwbprGs   \n",
       "39068  UCn6smH2WbsRCDPTwfcaKrdg  r88g65a1zPQ   \n",
       "\n",
       "                                                   title  \\\n",
       "64083  All I Want for Christmas (Is a Pardon from the...   \n",
       "29089      How A Narcissist Reacts When You Behave Badly   \n",
       "51056  FORECAST: Phoenix will stay in the 70s though ...   \n",
       "31409  VISION: Message to Christians, Especially Past...   \n",
       "39068  Evidence The Pandemic Is 'All Over But The Sho...   \n",
       "\n",
       "                                             description  \\\n",
       "64083  It's almost Christmas time. Saxophones by Jon ...   \n",
       "29089  How a narcissist reacts when you do something ...   \n",
       "51056  High pressure over the Pacific is producing a ...   \n",
       "31409  I had a vision in which I heard the voice of t...   \n",
       "39068  Dr Reality looks at the new daily infection nu...   \n",
       "\n",
       "                                              transcript  \\\n",
       "64083  it's almost christmas time and i'm all by myse...   \n",
       "29089  [Music] today I'm going to talk about the diff...   \n",
       "51056  let's take a look at what we're tracking weath...   \n",
       "31409  hello brethren i greet you in the name of our ...   \n",
       "39068  i'm dave champion sars cov2 new daily infectio...   \n",
       "\n",
       "                                     channel_description  \\\n",
       "64083  Nick Lutsko is a songwriter, producer, and per...   \n",
       "29089  Pop Culture -- Narcissism & Sociopathy --  Phi...   \n",
       "51056  Get all the news of the day, plus investigativ...   \n",
       "31409  Hello, and welcome to Eagle Eye Opener, the of...   \n",
       "39068  The Dave Champion Show exists to reinvigorate ...   \n",
       "\n",
       "                                                keywords  conspiracy_y  \n",
       "64083  Nick Lutsko Puppets Etc. ALL SHOOK UP Greezy R...         False  \n",
       "29089  Narcissism Sociopathy Philosophy \"Trauma Infor...          True  \n",
       "51056  cbs5az 3tv \"cbs 5 phoenix\" \"cbs 5 az\" ktvk kph...         False  \n",
       "31409  Rapture Sermon \"warning from Jesus Christ\" \"En...          True  \n",
       "39068               liberty freedom \"gun rights\" tattoos         False  "
      ]
     },
     "execution_count": 150,
     "metadata": {},
     "output_type": "execute_result"
    }
   ],
   "source": [
    "example"
   ]
  },
  {
   "cell_type": "code",
   "execution_count": 151,
   "metadata": {},
   "outputs": [],
   "source": [
    "views = np.random.randint(1000, 100000, 5)"
   ]
  },
  {
   "cell_type": "code",
   "execution_count": 152,
   "metadata": {},
   "outputs": [],
   "source": [
    "likes = np.random.randint(10, 4000, 5)"
   ]
  },
  {
   "cell_type": "code",
   "execution_count": 153,
   "metadata": {},
   "outputs": [],
   "source": [
    "dislikes = np.random.randint(0, 50, 5)"
   ]
  },
  {
   "cell_type": "code",
   "execution_count": 154,
   "metadata": {},
   "outputs": [],
   "source": [
    "video_duration = np.random.randint(120, 900, 5)"
   ]
  },
  {
   "cell_type": "code",
   "execution_count": 155,
   "metadata": {},
   "outputs": [],
   "source": [
    "example[\"views\"] = views\n",
    "example[\"likes\"] = likes\n",
    "example[\"dislikes\"] = dislikes\n",
    "example[\"video_duration\"] = video_duration"
   ]
  },
  {
   "cell_type": "code",
   "execution_count": 156,
   "metadata": {},
   "outputs": [],
   "source": [
    "example[\"bot_id\"] = [1, 1, 1, 1, 1]\n",
    "example[\"videos_watched\"] = [5, 5, 5, 5, 5]"
   ]
  },
  {
   "cell_type": "code",
   "execution_count": 157,
   "metadata": {},
   "outputs": [],
   "source": [
    "example = example[[\"bot_id\", \"videos_watched\", \"video_id\", \"views\", \"likes\", \"dislikes\", \"video_duration\",\n",
    "                   \"title\", \"description\", \"transcript\", \"channel_description\", \"keywords\", \"conspiracy_y\"]]"
   ]
  },
  {
   "cell_type": "code",
   "execution_count": 158,
   "metadata": {},
   "outputs": [],
   "source": [
    "example = example.rename(columns={\"bot_id\":\"bot\", \n",
    "                                  \"videos_watched\":\"vid_no\", \n",
    "                                  \"channel_description\":\"channel_desc\", \n",
    "                                  \"video_duration\":\"vid_len\",\n",
    "                                  \"conspiracy_y\":\"conspiracy\"})"
   ]
  },
  {
   "cell_type": "code",
   "execution_count": 160,
   "metadata": {},
   "outputs": [
    {
     "data": {
      "text/html": [
       "<div>\n",
       "<style scoped>\n",
       "    .dataframe tbody tr th:only-of-type {\n",
       "        vertical-align: middle;\n",
       "    }\n",
       "\n",
       "    .dataframe tbody tr th {\n",
       "        vertical-align: top;\n",
       "    }\n",
       "\n",
       "    .dataframe thead th {\n",
       "        text-align: right;\n",
       "    }\n",
       "</style>\n",
       "<table border=\"1\" class=\"dataframe\">\n",
       "  <thead>\n",
       "    <tr style=\"text-align: right;\">\n",
       "      <th></th>\n",
       "      <th>bot</th>\n",
       "      <th>vid_no</th>\n",
       "      <th>video_id</th>\n",
       "      <th>views</th>\n",
       "      <th>likes</th>\n",
       "      <th>dislikes</th>\n",
       "      <th>vid_len</th>\n",
       "      <th>title</th>\n",
       "      <th>description</th>\n",
       "      <th>transcript</th>\n",
       "      <th>channel_desc</th>\n",
       "      <th>keywords</th>\n",
       "      <th>conspiracy</th>\n",
       "    </tr>\n",
       "  </thead>\n",
       "  <tbody>\n",
       "    <tr>\n",
       "      <th>64083</th>\n",
       "      <td>1</td>\n",
       "      <td>5</td>\n",
       "      <td>u6sN6K-4_qo</td>\n",
       "      <td>49778</td>\n",
       "      <td>2913</td>\n",
       "      <td>16</td>\n",
       "      <td>536</td>\n",
       "      <td>All I Want for Christmas (Is a Pardon from the...</td>\n",
       "      <td>It's almost Christmas time. Saxophones by Jon ...</td>\n",
       "      <td>it's almost christmas time and i'm all by myse...</td>\n",
       "      <td>Nick Lutsko is a songwriter, producer, and per...</td>\n",
       "      <td>Nick Lutsko Puppets Etc. ALL SHOOK UP Greezy R...</td>\n",
       "      <td>False</td>\n",
       "    </tr>\n",
       "    <tr>\n",
       "      <th>29089</th>\n",
       "      <td>1</td>\n",
       "      <td>5</td>\n",
       "      <td>p212D-WvKG0</td>\n",
       "      <td>71645</td>\n",
       "      <td>3073</td>\n",
       "      <td>38</td>\n",
       "      <td>639</td>\n",
       "      <td>How A Narcissist Reacts When You Behave Badly</td>\n",
       "      <td>How a narcissist reacts when you do something ...</td>\n",
       "      <td>[Music] today I'm going to talk about the diff...</td>\n",
       "      <td>Pop Culture -- Narcissism &amp; Sociopathy --  Phi...</td>\n",
       "      <td>Narcissism Sociopathy Philosophy \"Trauma Infor...</td>\n",
       "      <td>True</td>\n",
       "    </tr>\n",
       "    <tr>\n",
       "      <th>51056</th>\n",
       "      <td>1</td>\n",
       "      <td>5</td>\n",
       "      <td>7vLbNZs2sFk</td>\n",
       "      <td>25137</td>\n",
       "      <td>132</td>\n",
       "      <td>18</td>\n",
       "      <td>439</td>\n",
       "      <td>FORECAST: Phoenix will stay in the 70s though ...</td>\n",
       "      <td>High pressure over the Pacific is producing a ...</td>\n",
       "      <td>let's take a look at what we're tracking weath...</td>\n",
       "      <td>Get all the news of the day, plus investigativ...</td>\n",
       "      <td>cbs5az 3tv \"cbs 5 phoenix\" \"cbs 5 az\" ktvk kph...</td>\n",
       "      <td>False</td>\n",
       "    </tr>\n",
       "  </tbody>\n",
       "</table>\n",
       "</div>"
      ],
      "text/plain": [
       "       bot  vid_no     video_id  views  likes  dislikes  vid_len  \\\n",
       "64083    1       5  u6sN6K-4_qo  49778   2913        16      536   \n",
       "29089    1       5  p212D-WvKG0  71645   3073        38      639   \n",
       "51056    1       5  7vLbNZs2sFk  25137    132        18      439   \n",
       "\n",
       "                                                   title  \\\n",
       "64083  All I Want for Christmas (Is a Pardon from the...   \n",
       "29089      How A Narcissist Reacts When You Behave Badly   \n",
       "51056  FORECAST: Phoenix will stay in the 70s though ...   \n",
       "\n",
       "                                             description  \\\n",
       "64083  It's almost Christmas time. Saxophones by Jon ...   \n",
       "29089  How a narcissist reacts when you do something ...   \n",
       "51056  High pressure over the Pacific is producing a ...   \n",
       "\n",
       "                                              transcript  \\\n",
       "64083  it's almost christmas time and i'm all by myse...   \n",
       "29089  [Music] today I'm going to talk about the diff...   \n",
       "51056  let's take a look at what we're tracking weath...   \n",
       "\n",
       "                                            channel_desc  \\\n",
       "64083  Nick Lutsko is a songwriter, producer, and per...   \n",
       "29089  Pop Culture -- Narcissism & Sociopathy --  Phi...   \n",
       "51056  Get all the news of the day, plus investigativ...   \n",
       "\n",
       "                                                keywords  conspiracy  \n",
       "64083  Nick Lutsko Puppets Etc. ALL SHOOK UP Greezy R...       False  \n",
       "29089  Narcissism Sociopathy Philosophy \"Trauma Infor...        True  \n",
       "51056  cbs5az 3tv \"cbs 5 phoenix\" \"cbs 5 az\" ktvk kph...       False  "
      ]
     },
     "execution_count": 160,
     "metadata": {},
     "output_type": "execute_result"
    }
   ],
   "source": [
    "example.head(3)"
   ]
  },
  {
   "cell_type": "code",
   "execution_count": null,
   "metadata": {},
   "outputs": [],
   "source": []
  },
  {
   "cell_type": "code",
   "execution_count": null,
   "metadata": {},
   "outputs": [],
   "source": []
  },
  {
   "cell_type": "code",
   "execution_count": null,
   "metadata": {},
   "outputs": [],
   "source": []
  },
  {
   "cell_type": "code",
   "execution_count": null,
   "metadata": {},
   "outputs": [],
   "source": []
  },
  {
   "cell_type": "code",
   "execution_count": 9,
   "metadata": {},
   "outputs": [
    {
     "data": {
      "text/html": [
       "<div>\n",
       "<style scoped>\n",
       "    .dataframe tbody tr th:only-of-type {\n",
       "        vertical-align: middle;\n",
       "    }\n",
       "\n",
       "    .dataframe tbody tr th {\n",
       "        vertical-align: top;\n",
       "    }\n",
       "\n",
       "    .dataframe thead th {\n",
       "        text-align: right;\n",
       "    }\n",
       "</style>\n",
       "<table border=\"1\" class=\"dataframe\">\n",
       "  <thead>\n",
       "    <tr style=\"text-align: right;\">\n",
       "      <th></th>\n",
       "      <th>channel</th>\n",
       "      <th>video_id</th>\n",
       "      <th>conspiracy</th>\n",
       "      <th>full_text</th>\n",
       "    </tr>\n",
       "  </thead>\n",
       "  <tbody>\n",
       "    <tr>\n",
       "      <th>0</th>\n",
       "      <td>UCyuAKnN3g2fZ7_R9irgEUZQ</td>\n",
       "      <td>SECdW8n4ZGw</td>\n",
       "      <td>False</td>\n",
       "      <td>abraham lincoln came power abraham lincoln com...</td>\n",
       "    </tr>\n",
       "    <tr>\n",
       "      <th>1</th>\n",
       "      <td>UCAtdV6VWa02UpCB2YHuVmHg</td>\n",
       "      <td>jSXIrZx8lI4</td>\n",
       "      <td>False</td>\n",
       "      <td>thanksgiv celebr announc union rescu mission n...</td>\n",
       "    </tr>\n",
       "    <tr>\n",
       "      <th>2</th>\n",
       "      <td>UCASQzDb4SUC0gZNPbwBubIQ</td>\n",
       "      <td>s0YjJVyyVjI</td>\n",
       "      <td>False</td>\n",
       "      <td>unc health s mobil clinic aim reduc racial eth...</td>\n",
       "    </tr>\n",
       "    <tr>\n",
       "      <th>3</th>\n",
       "      <td>UC_giJ3xlEL9jUF1YfJdzzuQ</td>\n",
       "      <td>VMHCvdRdq10</td>\n",
       "      <td>False</td>\n",
       "      <td>establish impur accept criteria part spec dmf ...</td>\n",
       "    </tr>\n",
       "    <tr>\n",
       "      <th>4</th>\n",
       "      <td>UCT8RMFbTJV5ILaVykrluOQg</td>\n",
       "      <td>KKiR4FWOZ4w</td>\n",
       "      <td>False</td>\n",
       "      <td>ten panda cub make public debut ahead spring f...</td>\n",
       "    </tr>\n",
       "  </tbody>\n",
       "</table>\n",
       "</div>"
      ],
      "text/plain": [
       "                    channel     video_id  conspiracy  \\\n",
       "0  UCyuAKnN3g2fZ7_R9irgEUZQ  SECdW8n4ZGw       False   \n",
       "1  UCAtdV6VWa02UpCB2YHuVmHg  jSXIrZx8lI4       False   \n",
       "2  UCASQzDb4SUC0gZNPbwBubIQ  s0YjJVyyVjI       False   \n",
       "3  UC_giJ3xlEL9jUF1YfJdzzuQ  VMHCvdRdq10       False   \n",
       "4  UCT8RMFbTJV5ILaVykrluOQg  KKiR4FWOZ4w       False   \n",
       "\n",
       "                                           full_text  \n",
       "0  abraham lincoln came power abraham lincoln com...  \n",
       "1  thanksgiv celebr announc union rescu mission n...  \n",
       "2  unc health s mobil clinic aim reduc racial eth...  \n",
       "3  establish impur accept criteria part spec dmf ...  \n",
       "4  ten panda cub make public debut ahead spring f...  "
      ]
     },
     "execution_count": 9,
     "metadata": {},
     "output_type": "execute_result"
    }
   ],
   "source": [
    "equal = pd.read_csv(\"training_videos.csv\").drop(\"Unnamed: 0\", axis = 1)\n",
    "equal[\"full_text\"].fillna(\"\", inplace=True)\n",
    "\n",
    "equal.head()"
   ]
  },
  {
   "cell_type": "code",
   "execution_count": 34,
   "metadata": {},
   "outputs": [
    {
     "data": {
      "text/html": [
       "<div>\n",
       "<style scoped>\n",
       "    .dataframe tbody tr th:only-of-type {\n",
       "        vertical-align: middle;\n",
       "    }\n",
       "\n",
       "    .dataframe tbody tr th {\n",
       "        vertical-align: top;\n",
       "    }\n",
       "\n",
       "    .dataframe thead th {\n",
       "        text-align: right;\n",
       "    }\n",
       "</style>\n",
       "<table border=\"1\" class=\"dataframe\">\n",
       "  <thead>\n",
       "    <tr style=\"text-align: right;\">\n",
       "      <th></th>\n",
       "      <th>channel</th>\n",
       "      <th>video_id</th>\n",
       "      <th>conspiracy</th>\n",
       "      <th>full_text</th>\n",
       "    </tr>\n",
       "  </thead>\n",
       "  <tbody>\n",
       "    <tr>\n",
       "      <th>30628</th>\n",
       "      <td>UCiPeMgxBzzE4pcI_Q1CxGrA</td>\n",
       "      <td>Zmy5ehd645g</td>\n",
       "      <td>True</td>\n",
       "      <td>giant skeleton 5 minut kristan t harri rundown...</td>\n",
       "    </tr>\n",
       "  </tbody>\n",
       "</table>\n",
       "</div>"
      ],
      "text/plain": [
       "                        channel     video_id  conspiracy  \\\n",
       "30628  UCiPeMgxBzzE4pcI_Q1CxGrA  Zmy5ehd645g        True   \n",
       "\n",
       "                                               full_text  \n",
       "30628  giant skeleton 5 minut kristan t harri rundown...  "
      ]
     },
     "execution_count": 34,
     "metadata": {},
     "output_type": "execute_result"
    }
   ],
   "source": [
    "equal.query(\"video_id == 'Zmy5ehd645g'\")"
   ]
  },
  {
   "cell_type": "code",
   "execution_count": 10,
   "metadata": {},
   "outputs": [
    {
     "data": {
      "text/plain": [
       "<44312x140970 sparse matrix of type '<class 'numpy.float64'>'\n",
       "\twith 23152699 stored elements in Compressed Sparse Row format>"
      ]
     },
     "execution_count": 10,
     "metadata": {},
     "output_type": "execute_result"
    }
   ],
   "source": [
    "# Vectorize words\n",
    "v = TfidfVectorizer(max_df=.75, min_df=2)\n",
    "x = v.fit_transform(equal['full_text'])\n",
    "\n",
    "x"
   ]
  },
  {
   "cell_type": "code",
   "execution_count": 39,
   "metadata": {},
   "outputs": [
    {
     "data": {
      "text/plain": [
       "NearestNeighbors(algorithm='auto', leaf_size=30, metric='cosine',\n",
       "                 metric_params=None, n_jobs=None, n_neighbors=6, p=2,\n",
       "                 radius=1.0)"
      ]
     },
     "execution_count": 39,
     "metadata": {},
     "output_type": "execute_result"
    }
   ],
   "source": [
    "knn = NearestNeighbors(n_neighbors=6, metric='cosine')\n",
    "knn.fit(x)"
   ]
  },
  {
   "cell_type": "code",
   "execution_count": 42,
   "metadata": {},
   "outputs": [
    {
     "data": {
      "text/plain": [
       "(array([[0.        , 0.42963159, 0.46291744, 0.5003638 , 0.50410555,\n",
       "         0.65837768]]),\n",
       " array([[30628, 30670, 44090, 44089, 42599, 33816]], dtype=int64))"
      ]
     },
     "execution_count": 42,
     "metadata": {},
     "output_type": "execute_result"
    }
   ],
   "source": [
    "knn.kneighbors(x[30628])"
   ]
  },
  {
   "cell_type": "code",
   "execution_count": 37,
   "metadata": {
    "scrolled": true
   },
   "outputs": [
    {
     "data": {
      "text/plain": [
       "channel                                UC8-LhLmfkg0KStfM5qUuhyw\n",
       "video_id                                            CRf8hROMxTg\n",
       "conspiracy                                                 True\n",
       "full_text     need know giant discoveri thousand report gian...\n",
       "Name: 30670, dtype: object"
      ]
     },
     "execution_count": 37,
     "metadata": {},
     "output_type": "execute_result"
    }
   ],
   "source": [
    "equal.iloc[30670]"
   ]
  },
  {
   "cell_type": "code",
   "execution_count": 38,
   "metadata": {},
   "outputs": [
    {
     "data": {
      "text/plain": [
       "channel                                UC5muUAFOOugzFrAyRdlLY9A\n",
       "video_id                                            LGXzUGgd3NI\n",
       "conspiracy                                                 True\n",
       "full_text     hugh newman part 01 scientif evid giant prehis...\n",
       "Name: 44090, dtype: object"
      ]
     },
     "execution_count": 38,
     "metadata": {},
     "output_type": "execute_result"
    }
   ],
   "source": [
    "equal.iloc[44090]"
   ]
  },
  {
   "cell_type": "code",
   "execution_count": 43,
   "metadata": {},
   "outputs": [
    {
     "data": {
      "text/plain": [
       "channel                                UC5muUAFOOugzFrAyRdlLY9A\n",
       "video_id                                            omTSBeyQjVA\n",
       "conspiracy                                                 True\n",
       "full_text     hugh newman part 02 scientif evid giant prehis...\n",
       "Name: 44089, dtype: object"
      ]
     },
     "execution_count": 43,
     "metadata": {},
     "output_type": "execute_result"
    }
   ],
   "source": [
    "equal.iloc[44089]"
   ]
  },
  {
   "cell_type": "code",
   "execution_count": 44,
   "metadata": {},
   "outputs": [
    {
     "data": {
      "text/plain": [
       "channel                                UCRH1UBUyYleTgKgptlatksQ\n",
       "video_id                                            lSe6C_AbtKY\n",
       "conspiracy                                                 True\n",
       "full_text     hugh newman open mind confer 2017 long time th...\n",
       "Name: 42599, dtype: object"
      ]
     },
     "execution_count": 44,
     "metadata": {},
     "output_type": "execute_result"
    }
   ],
   "source": [
    "equal.iloc[42599]"
   ]
  },
  {
   "cell_type": "code",
   "execution_count": 45,
   "metadata": {},
   "outputs": [
    {
     "data": {
      "text/plain": [
       "channel                                UC0hRN2zXG72fGZUJFBDgpqQ\n",
       "video_id                                            1A54NaWpuhM\n",
       "conspiracy                                                 True\n",
       "full_text     josh reev hour 1 lost secret ancient america l...\n",
       "Name: 33816, dtype: object"
      ]
     },
     "execution_count": 45,
     "metadata": {},
     "output_type": "execute_result"
    }
   ],
   "source": [
    "equal.iloc[33816]"
   ]
  },
  {
   "cell_type": "code",
   "execution_count": null,
   "metadata": {},
   "outputs": [],
   "source": []
  }
 ],
 "metadata": {
  "kernelspec": {
   "display_name": "Python 3",
   "language": "python",
   "name": "python3"
  },
  "language_info": {
   "codemirror_mode": {
    "name": "ipython",
    "version": 3
   },
   "file_extension": ".py",
   "mimetype": "text/x-python",
   "name": "python",
   "nbconvert_exporter": "python",
   "pygments_lexer": "ipython3",
   "version": "3.6.5"
  }
 },
 "nbformat": 4,
 "nbformat_minor": 2
}
