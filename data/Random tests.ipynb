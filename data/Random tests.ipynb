{
 "cells": [
  {
   "cell_type": "code",
   "execution_count": 1,
   "metadata": {},
   "outputs": [],
   "source": [
    "import pandas as pd\n",
    "import numpy as np\n",
    "\n",
    "from sklearn.feature_extraction.text import TfidfVectorizer\n",
    "from sklearn.neighbors import NearestNeighbors"
   ]
  },
  {
   "cell_type": "code",
   "execution_count": 2,
   "metadata": {},
   "outputs": [],
   "source": [
    "df = pd.read_csv(\"uploads.csv\")\n",
    "df_2 = pd.read_csv(\"channels.csv\")"
   ]
  },
  {
   "cell_type": "code",
   "execution_count": 3,
   "metadata": {},
   "outputs": [],
   "source": [
    "df = pd.merge(df, df_2, left_on=\"channel\", right_on=\"channel\")"
   ]
  },
  {
   "cell_type": "code",
   "execution_count": 32,
   "metadata": {},
   "outputs": [
    {
     "data": {
      "text/html": [
       "<div>\n",
       "<style scoped>\n",
       "    .dataframe tbody tr th:only-of-type {\n",
       "        vertical-align: middle;\n",
       "    }\n",
       "\n",
       "    .dataframe tbody tr th {\n",
       "        vertical-align: top;\n",
       "    }\n",
       "\n",
       "    .dataframe thead th {\n",
       "        text-align: right;\n",
       "    }\n",
       "</style>\n",
       "<table border=\"1\" class=\"dataframe\">\n",
       "  <thead>\n",
       "    <tr style=\"text-align: right;\">\n",
       "      <th></th>\n",
       "      <th>Unnamed: 0_x</th>\n",
       "      <th>channel</th>\n",
       "      <th>video_id</th>\n",
       "      <th>title</th>\n",
       "      <th>description</th>\n",
       "      <th>conspiracy_x</th>\n",
       "      <th>transcript</th>\n",
       "      <th>Unnamed: 0_y</th>\n",
       "      <th>channel_description</th>\n",
       "      <th>country</th>\n",
       "      <th>keywords</th>\n",
       "      <th>uploads</th>\n",
       "      <th>conspiracy_y</th>\n",
       "    </tr>\n",
       "  </thead>\n",
       "  <tbody>\n",
       "    <tr>\n",
       "      <th>10354</th>\n",
       "      <td>10354</td>\n",
       "      <td>UCbxKZ18Hkq7O3Ism4YlOh5w</td>\n",
       "      <td>OmMWlzbX8mM</td>\n",
       "      <td>URGENT. No more anti-bacterial hand sanitisers...</td>\n",
       "      <td>Get yours here:   https://clivedecarle.com/sho...</td>\n",
       "      <td>True</td>\n",
       "      <td>well hello clive to carl here another edition ...</td>\n",
       "      <td>1001</td>\n",
       "      <td>a581e40bd65fa55d The secrets of health revealed.</td>\n",
       "      <td>GB</td>\n",
       "      <td>\"Clive de Carle\" Longevity Health Hypnosis NLP...</td>\n",
       "      <td>UUbxKZ18Hkq7O3Ism4YlOh5w</td>\n",
       "      <td>True</td>\n",
       "    </tr>\n",
       "  </tbody>\n",
       "</table>\n",
       "</div>"
      ],
      "text/plain": [
       "       Unnamed: 0_x                   channel     video_id  \\\n",
       "10354         10354  UCbxKZ18Hkq7O3Ism4YlOh5w  OmMWlzbX8mM   \n",
       "\n",
       "                                                   title  \\\n",
       "10354  URGENT. No more anti-bacterial hand sanitisers...   \n",
       "\n",
       "                                             description  conspiracy_x  \\\n",
       "10354  Get yours here:   https://clivedecarle.com/sho...          True   \n",
       "\n",
       "                                              transcript  Unnamed: 0_y  \\\n",
       "10354  well hello clive to carl here another edition ...          1001   \n",
       "\n",
       "                                    channel_description country  \\\n",
       "10354  a581e40bd65fa55d The secrets of health revealed.      GB   \n",
       "\n",
       "                                                keywords  \\\n",
       "10354  \"Clive de Carle\" Longevity Health Hypnosis NLP...   \n",
       "\n",
       "                        uploads  conspiracy_y  \n",
       "10354  UUbxKZ18Hkq7O3Ism4YlOh5w          True  "
      ]
     },
     "execution_count": 32,
     "metadata": {},
     "output_type": "execute_result"
    }
   ],
   "source": [
    "df[df[\"conspiracy_x\"]].sample()"
   ]
  },
  {
   "cell_type": "code",
   "execution_count": 31,
   "metadata": {},
   "outputs": [],
   "source": [
    "example = df.dropna().sample(20)"
   ]
  },
  {
   "cell_type": "code",
   "execution_count": 5,
   "metadata": {},
   "outputs": [],
   "source": [
    "example = example.drop([\"Unnamed: 0_x\", \"Unnamed: 0_y\", \"conspiracy_x\", \"country\", \"uploads\"], axis=1).head()"
   ]
  },
  {
   "cell_type": "code",
   "execution_count": 15,
   "metadata": {},
   "outputs": [
    {
     "data": {
      "text/html": [
       "<div>\n",
       "<style scoped>\n",
       "    .dataframe tbody tr th:only-of-type {\n",
       "        vertical-align: middle;\n",
       "    }\n",
       "\n",
       "    .dataframe tbody tr th {\n",
       "        vertical-align: top;\n",
       "    }\n",
       "\n",
       "    .dataframe thead th {\n",
       "        text-align: right;\n",
       "    }\n",
       "</style>\n",
       "<table border=\"1\" class=\"dataframe\">\n",
       "  <thead>\n",
       "    <tr style=\"text-align: right;\">\n",
       "      <th></th>\n",
       "      <th>channel</th>\n",
       "      <th>video_id</th>\n",
       "      <th>title</th>\n",
       "      <th>description</th>\n",
       "      <th>transcript</th>\n",
       "      <th>channel_description</th>\n",
       "      <th>keywords</th>\n",
       "      <th>conspiracy_y</th>\n",
       "    </tr>\n",
       "  </thead>\n",
       "  <tbody>\n",
       "    <tr>\n",
       "      <th>44583</th>\n",
       "      <td>UCzd_MLszn8PYqc5Hq56qtOA</td>\n",
       "      <td>Y0kP61O_ug4</td>\n",
       "      <td>Swiss Court DISMISSES Caster Semenya's Appeal:...</td>\n",
       "      <td>Hi everyone, apologies for my generally reduce...</td>\n",
       "      <td>okay hi everybody so i want to give you an upd...</td>\n",
       "      <td>Commentary and robust debate on some of the lo...</td>\n",
       "      <td>\"YouTube Atheism\" \"YouTube Atheist\" \"Feminist ...</td>\n",
       "      <td>False</td>\n",
       "    </tr>\n",
       "    <tr>\n",
       "      <th>10392</th>\n",
       "      <td>UCJq7K6IzrYkFCLhpeLiOy7A</td>\n",
       "      <td>Vm-1KOjorJ4</td>\n",
       "      <td>Four Million Views</td>\n",
       "      <td>Thank you for 4 million views of our YouTube c...</td>\n",
       "      <td>Hi, and welcome to \\nthe official YouTube chan...</td>\n",
       "      <td>Official YouTube page of \\r\\nChick Publication...</td>\n",
       "      <td>\"Chick Publications\" \"Jack T Chick\" \"Chick Tra...</td>\n",
       "      <td>True</td>\n",
       "    </tr>\n",
       "    <tr>\n",
       "      <th>47980</th>\n",
       "      <td>UCp9pxqv-oMY1a6axT6mHcew</td>\n",
       "      <td>1rsPeSDmZjg</td>\n",
       "      <td>Revelation: Book of Promises NEW SERIES!</td>\n",
       "      <td>Do you want a blessing? Did you know that Reve...</td>\n",
       "      <td>[Music] the bible is the one book that dares t...</td>\n",
       "      <td>Greg Laurie on YouTube seeks to present subscr...</td>\n",
       "      <td>\"greg laurie\" \"harvest crusades\" god jesus eva...</td>\n",
       "      <td>False</td>\n",
       "    </tr>\n",
       "    <tr>\n",
       "      <th>16455</th>\n",
       "      <td>UCgpLYwc5A9tRbom4B2pIvYQ</td>\n",
       "      <td>H21EPOihxA0</td>\n",
       "      <td>2018-06-09 - The Forest or the Trees - Paul Go...</td>\n",
       "      <td>Paul puts the timeline of history into perspec...</td>\n",
       "      <td>[Music] did you hear the news Jesus is coming ...</td>\n",
       "      <td>For latest videos indexed and all of Mark Wood...</td>\n",
       "      <td>\"Ben Jones\" \"Daniel Unsealed\" \"Mark Woodman Da...</td>\n",
       "      <td>True</td>\n",
       "    </tr>\n",
       "    <tr>\n",
       "      <th>9606</th>\n",
       "      <td>UClHM9mXKVaGP_96enfEXYlw</td>\n",
       "      <td>dDPY73kkcNE</td>\n",
       "      <td>Are You A Model Citizen?</td>\n",
       "      <td>Links:  \\nhttps://rumble.com/vbnbtv-are-you-a-...</td>\n",
       "      <td>[Music] oh hi there you're back here with old ...</td>\n",
       "      <td>Ever thought of living or retiring overseas? L...</td>\n",
       "      <td>expatriate \"dominican republic\" relocate reloc...</td>\n",
       "      <td>False</td>\n",
       "    </tr>\n",
       "  </tbody>\n",
       "</table>\n",
       "</div>"
      ],
      "text/plain": [
       "                        channel     video_id  \\\n",
       "44583  UCzd_MLszn8PYqc5Hq56qtOA  Y0kP61O_ug4   \n",
       "10392  UCJq7K6IzrYkFCLhpeLiOy7A  Vm-1KOjorJ4   \n",
       "47980  UCp9pxqv-oMY1a6axT6mHcew  1rsPeSDmZjg   \n",
       "16455  UCgpLYwc5A9tRbom4B2pIvYQ  H21EPOihxA0   \n",
       "9606   UClHM9mXKVaGP_96enfEXYlw  dDPY73kkcNE   \n",
       "\n",
       "                                                   title  \\\n",
       "44583  Swiss Court DISMISSES Caster Semenya's Appeal:...   \n",
       "10392                                 Four Million Views   \n",
       "47980           Revelation: Book of Promises NEW SERIES!   \n",
       "16455  2018-06-09 - The Forest or the Trees - Paul Go...   \n",
       "9606                            Are You A Model Citizen?   \n",
       "\n",
       "                                             description  \\\n",
       "44583  Hi everyone, apologies for my generally reduce...   \n",
       "10392  Thank you for 4 million views of our YouTube c...   \n",
       "47980  Do you want a blessing? Did you know that Reve...   \n",
       "16455  Paul puts the timeline of history into perspec...   \n",
       "9606   Links:  \\nhttps://rumble.com/vbnbtv-are-you-a-...   \n",
       "\n",
       "                                              transcript  \\\n",
       "44583  okay hi everybody so i want to give you an upd...   \n",
       "10392  Hi, and welcome to \\nthe official YouTube chan...   \n",
       "47980  [Music] the bible is the one book that dares t...   \n",
       "16455  [Music] did you hear the news Jesus is coming ...   \n",
       "9606   [Music] oh hi there you're back here with old ...   \n",
       "\n",
       "                                     channel_description  \\\n",
       "44583  Commentary and robust debate on some of the lo...   \n",
       "10392  Official YouTube page of \\r\\nChick Publication...   \n",
       "47980  Greg Laurie on YouTube seeks to present subscr...   \n",
       "16455  For latest videos indexed and all of Mark Wood...   \n",
       "9606   Ever thought of living or retiring overseas? L...   \n",
       "\n",
       "                                                keywords  conspiracy_y  \n",
       "44583  \"YouTube Atheism\" \"YouTube Atheist\" \"Feminist ...         False  \n",
       "10392  \"Chick Publications\" \"Jack T Chick\" \"Chick Tra...          True  \n",
       "47980  \"greg laurie\" \"harvest crusades\" god jesus eva...         False  \n",
       "16455  \"Ben Jones\" \"Daniel Unsealed\" \"Mark Woodman Da...          True  \n",
       "9606   expatriate \"dominican republic\" relocate reloc...         False  "
      ]
     },
     "execution_count": 15,
     "metadata": {},
     "output_type": "execute_result"
    }
   ],
   "source": [
    "example"
   ]
  },
  {
   "cell_type": "code",
   "execution_count": 151,
   "metadata": {},
   "outputs": [],
   "source": [
    "views = np.random.randint(1000, 100000, 5)"
   ]
  },
  {
   "cell_type": "code",
   "execution_count": 152,
   "metadata": {},
   "outputs": [],
   "source": [
    "likes = np.random.randint(10, 4000, 5)"
   ]
  },
  {
   "cell_type": "code",
   "execution_count": 153,
   "metadata": {},
   "outputs": [],
   "source": [
    "dislikes = np.random.randint(0, 50, 5)"
   ]
  },
  {
   "cell_type": "code",
   "execution_count": 154,
   "metadata": {},
   "outputs": [],
   "source": [
    "video_duration = np.random.randint(120, 900, 5)"
   ]
  },
  {
   "cell_type": "code",
   "execution_count": 155,
   "metadata": {},
   "outputs": [],
   "source": [
    "example[\"views\"] = views\n",
    "example[\"likes\"] = likes\n",
    "example[\"dislikes\"] = dislikes\n",
    "example[\"video_duration\"] = video_duration"
   ]
  },
  {
   "cell_type": "code",
   "execution_count": 156,
   "metadata": {},
   "outputs": [],
   "source": [
    "example[\"bot_id\"] = [1, 1, 1, 1, 1]\n",
    "example[\"videos_watched\"] = [5, 5, 5, 5, 5]"
   ]
  },
  {
   "cell_type": "code",
   "execution_count": 157,
   "metadata": {},
   "outputs": [],
   "source": [
    "example = example[[\"bot_id\", \"videos_watched\", \"video_id\", \"views\", \"likes\", \"dislikes\", \"video_duration\",\n",
    "                   \"title\", \"description\", \"transcript\", \"channel_description\", \"keywords\", \"conspiracy_y\"]]"
   ]
  },
  {
   "cell_type": "code",
   "execution_count": 158,
   "metadata": {},
   "outputs": [],
   "source": [
    "example = example.rename(columns={\"bot_id\":\"bot\", \n",
    "                                  \"videos_watched\":\"vid_no\", \n",
    "                                  \"channel_description\":\"channel_desc\", \n",
    "                                  \"video_duration\":\"vid_len\",\n",
    "                                  \"conspiracy_y\":\"conspiracy\"})"
   ]
  },
  {
   "cell_type": "code",
   "execution_count": 160,
   "metadata": {},
   "outputs": [
    {
     "data": {
      "text/html": [
       "<div>\n",
       "<style scoped>\n",
       "    .dataframe tbody tr th:only-of-type {\n",
       "        vertical-align: middle;\n",
       "    }\n",
       "\n",
       "    .dataframe tbody tr th {\n",
       "        vertical-align: top;\n",
       "    }\n",
       "\n",
       "    .dataframe thead th {\n",
       "        text-align: right;\n",
       "    }\n",
       "</style>\n",
       "<table border=\"1\" class=\"dataframe\">\n",
       "  <thead>\n",
       "    <tr style=\"text-align: right;\">\n",
       "      <th></th>\n",
       "      <th>bot</th>\n",
       "      <th>vid_no</th>\n",
       "      <th>video_id</th>\n",
       "      <th>views</th>\n",
       "      <th>likes</th>\n",
       "      <th>dislikes</th>\n",
       "      <th>vid_len</th>\n",
       "      <th>title</th>\n",
       "      <th>description</th>\n",
       "      <th>transcript</th>\n",
       "      <th>channel_desc</th>\n",
       "      <th>keywords</th>\n",
       "      <th>conspiracy</th>\n",
       "    </tr>\n",
       "  </thead>\n",
       "  <tbody>\n",
       "    <tr>\n",
       "      <th>64083</th>\n",
       "      <td>1</td>\n",
       "      <td>5</td>\n",
       "      <td>u6sN6K-4_qo</td>\n",
       "      <td>49778</td>\n",
       "      <td>2913</td>\n",
       "      <td>16</td>\n",
       "      <td>536</td>\n",
       "      <td>All I Want for Christmas (Is a Pardon from the...</td>\n",
       "      <td>It's almost Christmas time. Saxophones by Jon ...</td>\n",
       "      <td>it's almost christmas time and i'm all by myse...</td>\n",
       "      <td>Nick Lutsko is a songwriter, producer, and per...</td>\n",
       "      <td>Nick Lutsko Puppets Etc. ALL SHOOK UP Greezy R...</td>\n",
       "      <td>False</td>\n",
       "    </tr>\n",
       "    <tr>\n",
       "      <th>29089</th>\n",
       "      <td>1</td>\n",
       "      <td>5</td>\n",
       "      <td>p212D-WvKG0</td>\n",
       "      <td>71645</td>\n",
       "      <td>3073</td>\n",
       "      <td>38</td>\n",
       "      <td>639</td>\n",
       "      <td>How A Narcissist Reacts When You Behave Badly</td>\n",
       "      <td>How a narcissist reacts when you do something ...</td>\n",
       "      <td>[Music] today I'm going to talk about the diff...</td>\n",
       "      <td>Pop Culture -- Narcissism &amp; Sociopathy --  Phi...</td>\n",
       "      <td>Narcissism Sociopathy Philosophy \"Trauma Infor...</td>\n",
       "      <td>True</td>\n",
       "    </tr>\n",
       "    <tr>\n",
       "      <th>51056</th>\n",
       "      <td>1</td>\n",
       "      <td>5</td>\n",
       "      <td>7vLbNZs2sFk</td>\n",
       "      <td>25137</td>\n",
       "      <td>132</td>\n",
       "      <td>18</td>\n",
       "      <td>439</td>\n",
       "      <td>FORECAST: Phoenix will stay in the 70s though ...</td>\n",
       "      <td>High pressure over the Pacific is producing a ...</td>\n",
       "      <td>let's take a look at what we're tracking weath...</td>\n",
       "      <td>Get all the news of the day, plus investigativ...</td>\n",
       "      <td>cbs5az 3tv \"cbs 5 phoenix\" \"cbs 5 az\" ktvk kph...</td>\n",
       "      <td>False</td>\n",
       "    </tr>\n",
       "  </tbody>\n",
       "</table>\n",
       "</div>"
      ],
      "text/plain": [
       "       bot  vid_no     video_id  views  likes  dislikes  vid_len  \\\n",
       "64083    1       5  u6sN6K-4_qo  49778   2913        16      536   \n",
       "29089    1       5  p212D-WvKG0  71645   3073        38      639   \n",
       "51056    1       5  7vLbNZs2sFk  25137    132        18      439   \n",
       "\n",
       "                                                   title  \\\n",
       "64083  All I Want for Christmas (Is a Pardon from the...   \n",
       "29089      How A Narcissist Reacts When You Behave Badly   \n",
       "51056  FORECAST: Phoenix will stay in the 70s though ...   \n",
       "\n",
       "                                             description  \\\n",
       "64083  It's almost Christmas time. Saxophones by Jon ...   \n",
       "29089  How a narcissist reacts when you do something ...   \n",
       "51056  High pressure over the Pacific is producing a ...   \n",
       "\n",
       "                                              transcript  \\\n",
       "64083  it's almost christmas time and i'm all by myse...   \n",
       "29089  [Music] today I'm going to talk about the diff...   \n",
       "51056  let's take a look at what we're tracking weath...   \n",
       "\n",
       "                                            channel_desc  \\\n",
       "64083  Nick Lutsko is a songwriter, producer, and per...   \n",
       "29089  Pop Culture -- Narcissism & Sociopathy --  Phi...   \n",
       "51056  Get all the news of the day, plus investigativ...   \n",
       "\n",
       "                                                keywords  conspiracy  \n",
       "64083  Nick Lutsko Puppets Etc. ALL SHOOK UP Greezy R...       False  \n",
       "29089  Narcissism Sociopathy Philosophy \"Trauma Infor...        True  \n",
       "51056  cbs5az 3tv \"cbs 5 phoenix\" \"cbs 5 az\" ktvk kph...       False  "
      ]
     },
     "execution_count": 160,
     "metadata": {},
     "output_type": "execute_result"
    }
   ],
   "source": [
    "example.head(3)"
   ]
  },
  {
   "cell_type": "code",
   "execution_count": null,
   "metadata": {},
   "outputs": [],
   "source": []
  },
  {
   "cell_type": "code",
   "execution_count": null,
   "metadata": {},
   "outputs": [],
   "source": []
  },
  {
   "cell_type": "code",
   "execution_count": null,
   "metadata": {},
   "outputs": [],
   "source": []
  },
  {
   "cell_type": "code",
   "execution_count": null,
   "metadata": {},
   "outputs": [],
   "source": []
  },
  {
   "cell_type": "code",
   "execution_count": 9,
   "metadata": {},
   "outputs": [
    {
     "data": {
      "text/html": [
       "<div>\n",
       "<style scoped>\n",
       "    .dataframe tbody tr th:only-of-type {\n",
       "        vertical-align: middle;\n",
       "    }\n",
       "\n",
       "    .dataframe tbody tr th {\n",
       "        vertical-align: top;\n",
       "    }\n",
       "\n",
       "    .dataframe thead th {\n",
       "        text-align: right;\n",
       "    }\n",
       "</style>\n",
       "<table border=\"1\" class=\"dataframe\">\n",
       "  <thead>\n",
       "    <tr style=\"text-align: right;\">\n",
       "      <th></th>\n",
       "      <th>channel</th>\n",
       "      <th>video_id</th>\n",
       "      <th>conspiracy</th>\n",
       "      <th>full_text</th>\n",
       "    </tr>\n",
       "  </thead>\n",
       "  <tbody>\n",
       "    <tr>\n",
       "      <th>0</th>\n",
       "      <td>UCyuAKnN3g2fZ7_R9irgEUZQ</td>\n",
       "      <td>SECdW8n4ZGw</td>\n",
       "      <td>False</td>\n",
       "      <td>abraham lincoln came power abraham lincoln com...</td>\n",
       "    </tr>\n",
       "    <tr>\n",
       "      <th>1</th>\n",
       "      <td>UCAtdV6VWa02UpCB2YHuVmHg</td>\n",
       "      <td>jSXIrZx8lI4</td>\n",
       "      <td>False</td>\n",
       "      <td>thanksgiv celebr announc union rescu mission n...</td>\n",
       "    </tr>\n",
       "    <tr>\n",
       "      <th>2</th>\n",
       "      <td>UCASQzDb4SUC0gZNPbwBubIQ</td>\n",
       "      <td>s0YjJVyyVjI</td>\n",
       "      <td>False</td>\n",
       "      <td>unc health s mobil clinic aim reduc racial eth...</td>\n",
       "    </tr>\n",
       "    <tr>\n",
       "      <th>3</th>\n",
       "      <td>UC_giJ3xlEL9jUF1YfJdzzuQ</td>\n",
       "      <td>VMHCvdRdq10</td>\n",
       "      <td>False</td>\n",
       "      <td>establish impur accept criteria part spec dmf ...</td>\n",
       "    </tr>\n",
       "    <tr>\n",
       "      <th>4</th>\n",
       "      <td>UCT8RMFbTJV5ILaVykrluOQg</td>\n",
       "      <td>KKiR4FWOZ4w</td>\n",
       "      <td>False</td>\n",
       "      <td>ten panda cub make public debut ahead spring f...</td>\n",
       "    </tr>\n",
       "  </tbody>\n",
       "</table>\n",
       "</div>"
      ],
      "text/plain": [
       "                    channel     video_id  conspiracy  \\\n",
       "0  UCyuAKnN3g2fZ7_R9irgEUZQ  SECdW8n4ZGw       False   \n",
       "1  UCAtdV6VWa02UpCB2YHuVmHg  jSXIrZx8lI4       False   \n",
       "2  UCASQzDb4SUC0gZNPbwBubIQ  s0YjJVyyVjI       False   \n",
       "3  UC_giJ3xlEL9jUF1YfJdzzuQ  VMHCvdRdq10       False   \n",
       "4  UCT8RMFbTJV5ILaVykrluOQg  KKiR4FWOZ4w       False   \n",
       "\n",
       "                                           full_text  \n",
       "0  abraham lincoln came power abraham lincoln com...  \n",
       "1  thanksgiv celebr announc union rescu mission n...  \n",
       "2  unc health s mobil clinic aim reduc racial eth...  \n",
       "3  establish impur accept criteria part spec dmf ...  \n",
       "4  ten panda cub make public debut ahead spring f...  "
      ]
     },
     "execution_count": 9,
     "metadata": {},
     "output_type": "execute_result"
    }
   ],
   "source": [
    "equal = pd.read_csv(\"training_videos.csv\").drop(\"Unnamed: 0\", axis = 1)\n",
    "equal[\"full_text\"].fillna(\"\", inplace=True)\n",
    "\n",
    "equal.head()"
   ]
  },
  {
   "cell_type": "code",
   "execution_count": 34,
   "metadata": {},
   "outputs": [
    {
     "data": {
      "text/html": [
       "<div>\n",
       "<style scoped>\n",
       "    .dataframe tbody tr th:only-of-type {\n",
       "        vertical-align: middle;\n",
       "    }\n",
       "\n",
       "    .dataframe tbody tr th {\n",
       "        vertical-align: top;\n",
       "    }\n",
       "\n",
       "    .dataframe thead th {\n",
       "        text-align: right;\n",
       "    }\n",
       "</style>\n",
       "<table border=\"1\" class=\"dataframe\">\n",
       "  <thead>\n",
       "    <tr style=\"text-align: right;\">\n",
       "      <th></th>\n",
       "      <th>channel</th>\n",
       "      <th>video_id</th>\n",
       "      <th>conspiracy</th>\n",
       "      <th>full_text</th>\n",
       "    </tr>\n",
       "  </thead>\n",
       "  <tbody>\n",
       "    <tr>\n",
       "      <th>30628</th>\n",
       "      <td>UCiPeMgxBzzE4pcI_Q1CxGrA</td>\n",
       "      <td>Zmy5ehd645g</td>\n",
       "      <td>True</td>\n",
       "      <td>giant skeleton 5 minut kristan t harri rundown...</td>\n",
       "    </tr>\n",
       "  </tbody>\n",
       "</table>\n",
       "</div>"
      ],
      "text/plain": [
       "                        channel     video_id  conspiracy  \\\n",
       "30628  UCiPeMgxBzzE4pcI_Q1CxGrA  Zmy5ehd645g        True   \n",
       "\n",
       "                                               full_text  \n",
       "30628  giant skeleton 5 minut kristan t harri rundown...  "
      ]
     },
     "execution_count": 34,
     "metadata": {},
     "output_type": "execute_result"
    }
   ],
   "source": [
    "equal.query(\"video_id == 'Zmy5ehd645g'\")"
   ]
  },
  {
   "cell_type": "code",
   "execution_count": 10,
   "metadata": {},
   "outputs": [
    {
     "data": {
      "text/plain": [
       "<44312x140970 sparse matrix of type '<class 'numpy.float64'>'\n",
       "\twith 23152699 stored elements in Compressed Sparse Row format>"
      ]
     },
     "execution_count": 10,
     "metadata": {},
     "output_type": "execute_result"
    }
   ],
   "source": [
    "# Vectorize words\n",
    "v = TfidfVectorizer(max_df=.75, min_df=2)\n",
    "x = v.fit_transform(equal['full_text'])\n",
    "\n",
    "x"
   ]
  },
  {
   "cell_type": "code",
   "execution_count": 39,
   "metadata": {},
   "outputs": [
    {
     "data": {
      "text/plain": [
       "NearestNeighbors(algorithm='auto', leaf_size=30, metric='cosine',\n",
       "                 metric_params=None, n_jobs=None, n_neighbors=6, p=2,\n",
       "                 radius=1.0)"
      ]
     },
     "execution_count": 39,
     "metadata": {},
     "output_type": "execute_result"
    }
   ],
   "source": [
    "knn = NearestNeighbors(n_neighbors=6, metric='cosine')\n",
    "knn.fit(x)"
   ]
  },
  {
   "cell_type": "code",
   "execution_count": 42,
   "metadata": {},
   "outputs": [
    {
     "data": {
      "text/plain": [
       "(array([[0.        , 0.42963159, 0.46291744, 0.5003638 , 0.50410555,\n",
       "         0.65837768]]),\n",
       " array([[30628, 30670, 44090, 44089, 42599, 33816]], dtype=int64))"
      ]
     },
     "execution_count": 42,
     "metadata": {},
     "output_type": "execute_result"
    }
   ],
   "source": [
    "knn.kneighbors(x[30628])"
   ]
  },
  {
   "cell_type": "code",
   "execution_count": 37,
   "metadata": {
    "scrolled": true
   },
   "outputs": [
    {
     "data": {
      "text/plain": [
       "channel                                UC8-LhLmfkg0KStfM5qUuhyw\n",
       "video_id                                            CRf8hROMxTg\n",
       "conspiracy                                                 True\n",
       "full_text     need know giant discoveri thousand report gian...\n",
       "Name: 30670, dtype: object"
      ]
     },
     "execution_count": 37,
     "metadata": {},
     "output_type": "execute_result"
    }
   ],
   "source": [
    "equal.iloc[30670]"
   ]
  },
  {
   "cell_type": "code",
   "execution_count": 38,
   "metadata": {},
   "outputs": [
    {
     "data": {
      "text/plain": [
       "channel                                UC5muUAFOOugzFrAyRdlLY9A\n",
       "video_id                                            LGXzUGgd3NI\n",
       "conspiracy                                                 True\n",
       "full_text     hugh newman part 01 scientif evid giant prehis...\n",
       "Name: 44090, dtype: object"
      ]
     },
     "execution_count": 38,
     "metadata": {},
     "output_type": "execute_result"
    }
   ],
   "source": [
    "equal.iloc[44090]"
   ]
  },
  {
   "cell_type": "code",
   "execution_count": 43,
   "metadata": {},
   "outputs": [
    {
     "data": {
      "text/plain": [
       "channel                                UC5muUAFOOugzFrAyRdlLY9A\n",
       "video_id                                            omTSBeyQjVA\n",
       "conspiracy                                                 True\n",
       "full_text     hugh newman part 02 scientif evid giant prehis...\n",
       "Name: 44089, dtype: object"
      ]
     },
     "execution_count": 43,
     "metadata": {},
     "output_type": "execute_result"
    }
   ],
   "source": [
    "equal.iloc[44089]"
   ]
  },
  {
   "cell_type": "code",
   "execution_count": 44,
   "metadata": {},
   "outputs": [
    {
     "data": {
      "text/plain": [
       "channel                                UCRH1UBUyYleTgKgptlatksQ\n",
       "video_id                                            lSe6C_AbtKY\n",
       "conspiracy                                                 True\n",
       "full_text     hugh newman open mind confer 2017 long time th...\n",
       "Name: 42599, dtype: object"
      ]
     },
     "execution_count": 44,
     "metadata": {},
     "output_type": "execute_result"
    }
   ],
   "source": [
    "equal.iloc[42599]"
   ]
  },
  {
   "cell_type": "code",
   "execution_count": 45,
   "metadata": {},
   "outputs": [
    {
     "data": {
      "text/plain": [
       "channel                                UC0hRN2zXG72fGZUJFBDgpqQ\n",
       "video_id                                            1A54NaWpuhM\n",
       "conspiracy                                                 True\n",
       "full_text     josh reev hour 1 lost secret ancient america l...\n",
       "Name: 33816, dtype: object"
      ]
     },
     "execution_count": 45,
     "metadata": {},
     "output_type": "execute_result"
    }
   ],
   "source": [
    "equal.iloc[33816]"
   ]
  },
  {
   "cell_type": "code",
   "execution_count": null,
   "metadata": {},
   "outputs": [],
   "source": []
  }
 ],
 "metadata": {
  "kernelspec": {
   "display_name": "Python 3",
   "language": "python",
   "name": "python3"
  },
  "language_info": {
   "codemirror_mode": {
    "name": "ipython",
    "version": 3
   },
   "file_extension": ".py",
   "mimetype": "text/x-python",
   "name": "python",
   "nbconvert_exporter": "python",
   "pygments_lexer": "ipython3",
   "version": "3.6.5"
  }
 },
 "nbformat": 4,
 "nbformat_minor": 2
}
